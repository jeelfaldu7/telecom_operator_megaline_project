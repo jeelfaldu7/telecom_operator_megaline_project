{
 "cells": [
  {
   "cell_type": "markdown",
   "metadata": {},
   "source": [
    "# Which telecom operator megaline plan is a better plan?"
   ]
  },
  {
   "cell_type": "markdown",
   "metadata": {},
   "source": [
    "## Introduction"
   ]
  },
  {
   "cell_type": "markdown",
   "metadata": {},
   "source": [
    "You work as an analyst for the telecom operator Megaline. The company offers its clients two prepaid plans, Surf and Ultimate. The commercial department wants to know which of the plans brings in more revenue in order to adjust the advertising budget.\n",
    "\n",
    "You are going to carry out a preliminary analysis of the plans based on a relatively small client selection. You'll have the data on 500 Megaline clients: who the clients are, where they're from, which plan they use, and the number of calls they made and text messages they sent in 2018. Your job is to analyze the clients' behavior and determine which prepaid plan brings in more revenue."
   ]
  },
  {
   "cell_type": "markdown",
   "metadata": {},
   "source": [
    "## Initialization"
   ]
  },
  {
   "cell_type": "code",
   "execution_count": 64,
   "metadata": {},
   "outputs": [],
   "source": [
    "# Loading all the libraries\n",
    "import pandas as pd\n",
    "import numpy as np\n",
    "from matplotlib import pyplot as plt\n",
    "from scipy import stats as st\n",
    "import seaborn as sns"
   ]
  },
  {
   "cell_type": "markdown",
   "metadata": {},
   "source": [
    "### Load the Datasets"
   ]
  },
  {
   "cell_type": "code",
   "execution_count": 65,
   "metadata": {},
   "outputs": [],
   "source": [
    "# Load the data files into different DataFrames\n",
    "calls = pd.read_csv('megaline_calls.csv')\n",
    "internet = pd.read_csv('megaline_internet.csv')\n",
    "messages = pd.read_csv('megaline_messages.csv')\n",
    "plans = pd.read_csv('megaline_plans.csv')\n",
    "users = pd.read_csv('megaline_users.csv')"
   ]
  },
  {
   "cell_type": "code",
   "execution_count": 66,
   "metadata": {},
   "outputs": [
    {
     "data": {
      "text/html": [
       "<div>\n",
       "<style scoped>\n",
       "    .dataframe tbody tr th:only-of-type {\n",
       "        vertical-align: middle;\n",
       "    }\n",
       "\n",
       "    .dataframe tbody tr th {\n",
       "        vertical-align: top;\n",
       "    }\n",
       "\n",
       "    .dataframe thead th {\n",
       "        text-align: right;\n",
       "    }\n",
       "</style>\n",
       "<table border=\"1\" class=\"dataframe\">\n",
       "  <thead>\n",
       "    <tr style=\"text-align: right;\">\n",
       "      <th></th>\n",
       "      <th>id</th>\n",
       "      <th>user_id</th>\n",
       "      <th>call_date</th>\n",
       "      <th>duration</th>\n",
       "    </tr>\n",
       "  </thead>\n",
       "  <tbody>\n",
       "    <tr>\n",
       "      <th>0</th>\n",
       "      <td>1000_93</td>\n",
       "      <td>1000</td>\n",
       "      <td>2018-12-27</td>\n",
       "      <td>8.52</td>\n",
       "    </tr>\n",
       "    <tr>\n",
       "      <th>1</th>\n",
       "      <td>1000_145</td>\n",
       "      <td>1000</td>\n",
       "      <td>2018-12-27</td>\n",
       "      <td>13.66</td>\n",
       "    </tr>\n",
       "    <tr>\n",
       "      <th>2</th>\n",
       "      <td>1000_247</td>\n",
       "      <td>1000</td>\n",
       "      <td>2018-12-27</td>\n",
       "      <td>14.48</td>\n",
       "    </tr>\n",
       "    <tr>\n",
       "      <th>3</th>\n",
       "      <td>1000_309</td>\n",
       "      <td>1000</td>\n",
       "      <td>2018-12-28</td>\n",
       "      <td>5.76</td>\n",
       "    </tr>\n",
       "    <tr>\n",
       "      <th>4</th>\n",
       "      <td>1000_380</td>\n",
       "      <td>1000</td>\n",
       "      <td>2018-12-30</td>\n",
       "      <td>4.22</td>\n",
       "    </tr>\n",
       "  </tbody>\n",
       "</table>\n",
       "</div>"
      ],
      "text/plain": [
       "         id  user_id   call_date  duration\n",
       "0   1000_93     1000  2018-12-27      8.52\n",
       "1  1000_145     1000  2018-12-27     13.66\n",
       "2  1000_247     1000  2018-12-27     14.48\n",
       "3  1000_309     1000  2018-12-28      5.76\n",
       "4  1000_380     1000  2018-12-30      4.22"
      ]
     },
     "metadata": {},
     "output_type": "display_data"
    },
    {
     "data": {
      "text/html": [
       "<div>\n",
       "<style scoped>\n",
       "    .dataframe tbody tr th:only-of-type {\n",
       "        vertical-align: middle;\n",
       "    }\n",
       "\n",
       "    .dataframe tbody tr th {\n",
       "        vertical-align: top;\n",
       "    }\n",
       "\n",
       "    .dataframe thead th {\n",
       "        text-align: right;\n",
       "    }\n",
       "</style>\n",
       "<table border=\"1\" class=\"dataframe\">\n",
       "  <thead>\n",
       "    <tr style=\"text-align: right;\">\n",
       "      <th></th>\n",
       "      <th>id</th>\n",
       "      <th>user_id</th>\n",
       "      <th>session_date</th>\n",
       "      <th>mb_used</th>\n",
       "    </tr>\n",
       "  </thead>\n",
       "  <tbody>\n",
       "    <tr>\n",
       "      <th>0</th>\n",
       "      <td>1000_13</td>\n",
       "      <td>1000</td>\n",
       "      <td>2018-12-29</td>\n",
       "      <td>89.86</td>\n",
       "    </tr>\n",
       "    <tr>\n",
       "      <th>1</th>\n",
       "      <td>1000_204</td>\n",
       "      <td>1000</td>\n",
       "      <td>2018-12-31</td>\n",
       "      <td>0.00</td>\n",
       "    </tr>\n",
       "    <tr>\n",
       "      <th>2</th>\n",
       "      <td>1000_379</td>\n",
       "      <td>1000</td>\n",
       "      <td>2018-12-28</td>\n",
       "      <td>660.40</td>\n",
       "    </tr>\n",
       "    <tr>\n",
       "      <th>3</th>\n",
       "      <td>1000_413</td>\n",
       "      <td>1000</td>\n",
       "      <td>2018-12-26</td>\n",
       "      <td>270.99</td>\n",
       "    </tr>\n",
       "    <tr>\n",
       "      <th>4</th>\n",
       "      <td>1000_442</td>\n",
       "      <td>1000</td>\n",
       "      <td>2018-12-27</td>\n",
       "      <td>880.22</td>\n",
       "    </tr>\n",
       "  </tbody>\n",
       "</table>\n",
       "</div>"
      ],
      "text/plain": [
       "         id  user_id session_date  mb_used\n",
       "0   1000_13     1000   2018-12-29    89.86\n",
       "1  1000_204     1000   2018-12-31     0.00\n",
       "2  1000_379     1000   2018-12-28   660.40\n",
       "3  1000_413     1000   2018-12-26   270.99\n",
       "4  1000_442     1000   2018-12-27   880.22"
      ]
     },
     "metadata": {},
     "output_type": "display_data"
    },
    {
     "data": {
      "text/html": [
       "<div>\n",
       "<style scoped>\n",
       "    .dataframe tbody tr th:only-of-type {\n",
       "        vertical-align: middle;\n",
       "    }\n",
       "\n",
       "    .dataframe tbody tr th {\n",
       "        vertical-align: top;\n",
       "    }\n",
       "\n",
       "    .dataframe thead th {\n",
       "        text-align: right;\n",
       "    }\n",
       "</style>\n",
       "<table border=\"1\" class=\"dataframe\">\n",
       "  <thead>\n",
       "    <tr style=\"text-align: right;\">\n",
       "      <th></th>\n",
       "      <th>id</th>\n",
       "      <th>user_id</th>\n",
       "      <th>message_date</th>\n",
       "    </tr>\n",
       "  </thead>\n",
       "  <tbody>\n",
       "    <tr>\n",
       "      <th>0</th>\n",
       "      <td>1000_125</td>\n",
       "      <td>1000</td>\n",
       "      <td>2018-12-27</td>\n",
       "    </tr>\n",
       "    <tr>\n",
       "      <th>1</th>\n",
       "      <td>1000_160</td>\n",
       "      <td>1000</td>\n",
       "      <td>2018-12-31</td>\n",
       "    </tr>\n",
       "    <tr>\n",
       "      <th>2</th>\n",
       "      <td>1000_223</td>\n",
       "      <td>1000</td>\n",
       "      <td>2018-12-31</td>\n",
       "    </tr>\n",
       "    <tr>\n",
       "      <th>3</th>\n",
       "      <td>1000_251</td>\n",
       "      <td>1000</td>\n",
       "      <td>2018-12-27</td>\n",
       "    </tr>\n",
       "    <tr>\n",
       "      <th>4</th>\n",
       "      <td>1000_255</td>\n",
       "      <td>1000</td>\n",
       "      <td>2018-12-26</td>\n",
       "    </tr>\n",
       "  </tbody>\n",
       "</table>\n",
       "</div>"
      ],
      "text/plain": [
       "         id  user_id message_date\n",
       "0  1000_125     1000   2018-12-27\n",
       "1  1000_160     1000   2018-12-31\n",
       "2  1000_223     1000   2018-12-31\n",
       "3  1000_251     1000   2018-12-27\n",
       "4  1000_255     1000   2018-12-26"
      ]
     },
     "metadata": {},
     "output_type": "display_data"
    },
    {
     "data": {
      "text/html": [
       "<div>\n",
       "<style scoped>\n",
       "    .dataframe tbody tr th:only-of-type {\n",
       "        vertical-align: middle;\n",
       "    }\n",
       "\n",
       "    .dataframe tbody tr th {\n",
       "        vertical-align: top;\n",
       "    }\n",
       "\n",
       "    .dataframe thead th {\n",
       "        text-align: right;\n",
       "    }\n",
       "</style>\n",
       "<table border=\"1\" class=\"dataframe\">\n",
       "  <thead>\n",
       "    <tr style=\"text-align: right;\">\n",
       "      <th></th>\n",
       "      <th>messages_included</th>\n",
       "      <th>mb_per_month_included</th>\n",
       "      <th>minutes_included</th>\n",
       "      <th>usd_monthly_pay</th>\n",
       "      <th>usd_per_gb</th>\n",
       "      <th>usd_per_message</th>\n",
       "      <th>usd_per_minute</th>\n",
       "      <th>plan_name</th>\n",
       "    </tr>\n",
       "  </thead>\n",
       "  <tbody>\n",
       "    <tr>\n",
       "      <th>0</th>\n",
       "      <td>50</td>\n",
       "      <td>15360</td>\n",
       "      <td>500</td>\n",
       "      <td>20</td>\n",
       "      <td>10</td>\n",
       "      <td>0.03</td>\n",
       "      <td>0.03</td>\n",
       "      <td>surf</td>\n",
       "    </tr>\n",
       "    <tr>\n",
       "      <th>1</th>\n",
       "      <td>1000</td>\n",
       "      <td>30720</td>\n",
       "      <td>3000</td>\n",
       "      <td>70</td>\n",
       "      <td>7</td>\n",
       "      <td>0.01</td>\n",
       "      <td>0.01</td>\n",
       "      <td>ultimate</td>\n",
       "    </tr>\n",
       "  </tbody>\n",
       "</table>\n",
       "</div>"
      ],
      "text/plain": [
       "   messages_included  mb_per_month_included  minutes_included  \\\n",
       "0                 50                  15360               500   \n",
       "1               1000                  30720              3000   \n",
       "\n",
       "   usd_monthly_pay  usd_per_gb  usd_per_message  usd_per_minute plan_name  \n",
       "0               20          10             0.03            0.03      surf  \n",
       "1               70           7             0.01            0.01  ultimate  "
      ]
     },
     "metadata": {},
     "output_type": "display_data"
    },
    {
     "data": {
      "text/html": [
       "<div>\n",
       "<style scoped>\n",
       "    .dataframe tbody tr th:only-of-type {\n",
       "        vertical-align: middle;\n",
       "    }\n",
       "\n",
       "    .dataframe tbody tr th {\n",
       "        vertical-align: top;\n",
       "    }\n",
       "\n",
       "    .dataframe thead th {\n",
       "        text-align: right;\n",
       "    }\n",
       "</style>\n",
       "<table border=\"1\" class=\"dataframe\">\n",
       "  <thead>\n",
       "    <tr style=\"text-align: right;\">\n",
       "      <th></th>\n",
       "      <th>user_id</th>\n",
       "      <th>first_name</th>\n",
       "      <th>last_name</th>\n",
       "      <th>age</th>\n",
       "      <th>city</th>\n",
       "      <th>reg_date</th>\n",
       "      <th>plan</th>\n",
       "      <th>churn_date</th>\n",
       "    </tr>\n",
       "  </thead>\n",
       "  <tbody>\n",
       "    <tr>\n",
       "      <th>0</th>\n",
       "      <td>1000</td>\n",
       "      <td>Anamaria</td>\n",
       "      <td>Bauer</td>\n",
       "      <td>45</td>\n",
       "      <td>Atlanta-Sandy Springs-Roswell, GA MSA</td>\n",
       "      <td>2018-12-24</td>\n",
       "      <td>ultimate</td>\n",
       "      <td>NaN</td>\n",
       "    </tr>\n",
       "    <tr>\n",
       "      <th>1</th>\n",
       "      <td>1001</td>\n",
       "      <td>Mickey</td>\n",
       "      <td>Wilkerson</td>\n",
       "      <td>28</td>\n",
       "      <td>Seattle-Tacoma-Bellevue, WA MSA</td>\n",
       "      <td>2018-08-13</td>\n",
       "      <td>surf</td>\n",
       "      <td>NaN</td>\n",
       "    </tr>\n",
       "    <tr>\n",
       "      <th>2</th>\n",
       "      <td>1002</td>\n",
       "      <td>Carlee</td>\n",
       "      <td>Hoffman</td>\n",
       "      <td>36</td>\n",
       "      <td>Las Vegas-Henderson-Paradise, NV MSA</td>\n",
       "      <td>2018-10-21</td>\n",
       "      <td>surf</td>\n",
       "      <td>NaN</td>\n",
       "    </tr>\n",
       "    <tr>\n",
       "      <th>3</th>\n",
       "      <td>1003</td>\n",
       "      <td>Reynaldo</td>\n",
       "      <td>Jenkins</td>\n",
       "      <td>52</td>\n",
       "      <td>Tulsa, OK MSA</td>\n",
       "      <td>2018-01-28</td>\n",
       "      <td>surf</td>\n",
       "      <td>NaN</td>\n",
       "    </tr>\n",
       "    <tr>\n",
       "      <th>4</th>\n",
       "      <td>1004</td>\n",
       "      <td>Leonila</td>\n",
       "      <td>Thompson</td>\n",
       "      <td>40</td>\n",
       "      <td>Seattle-Tacoma-Bellevue, WA MSA</td>\n",
       "      <td>2018-05-23</td>\n",
       "      <td>surf</td>\n",
       "      <td>NaN</td>\n",
       "    </tr>\n",
       "  </tbody>\n",
       "</table>\n",
       "</div>"
      ],
      "text/plain": [
       "   user_id first_name  last_name  age                                   city  \\\n",
       "0     1000   Anamaria      Bauer   45  Atlanta-Sandy Springs-Roswell, GA MSA   \n",
       "1     1001     Mickey  Wilkerson   28        Seattle-Tacoma-Bellevue, WA MSA   \n",
       "2     1002     Carlee    Hoffman   36   Las Vegas-Henderson-Paradise, NV MSA   \n",
       "3     1003   Reynaldo    Jenkins   52                          Tulsa, OK MSA   \n",
       "4     1004    Leonila   Thompson   40        Seattle-Tacoma-Bellevue, WA MSA   \n",
       "\n",
       "     reg_date      plan churn_date  \n",
       "0  2018-12-24  ultimate        NaN  \n",
       "1  2018-08-13      surf        NaN  \n",
       "2  2018-10-21      surf        NaN  \n",
       "3  2018-01-28      surf        NaN  \n",
       "4  2018-05-23      surf        NaN  "
      ]
     },
     "metadata": {},
     "output_type": "display_data"
    }
   ],
   "source": [
    "# Display the first 5 rows of all the DataFrames\n",
    "display(calls.head())\n",
    "display(internet.head())\n",
    "display(messages.head())\n",
    "display(plans.head())\n",
    "display(users.head())"
   ]
  },
  {
   "cell_type": "markdown",
   "metadata": {},
   "source": [
    "## Prepare the data"
   ]
  },
  {
   "cell_type": "markdown",
   "metadata": {},
   "source": [
    "### Missing values"
   ]
  },
  {
   "cell_type": "code",
   "execution_count": 67,
   "metadata": {},
   "outputs": [
    {
     "name": "stdout",
     "output_type": "stream",
     "text": [
      "id           0\n",
      "user_id      0\n",
      "call_date    0\n",
      "duration     0\n",
      "dtype: int64\n"
     ]
    }
   ],
   "source": [
    "# Check for missing values in the calls DataFrame\n",
    "print(calls.isna().sum())"
   ]
  },
  {
   "cell_type": "code",
   "execution_count": 68,
   "metadata": {},
   "outputs": [
    {
     "name": "stdout",
     "output_type": "stream",
     "text": [
      "id              0\n",
      "user_id         0\n",
      "session_date    0\n",
      "mb_used         0\n",
      "dtype: int64\n"
     ]
    }
   ],
   "source": [
    "# Check for missing values in the internet DataFrame\n",
    "print(internet.isna().sum())"
   ]
  },
  {
   "cell_type": "code",
   "execution_count": 69,
   "metadata": {},
   "outputs": [
    {
     "name": "stdout",
     "output_type": "stream",
     "text": [
      "id              0\n",
      "user_id         0\n",
      "message_date    0\n",
      "dtype: int64\n"
     ]
    }
   ],
   "source": [
    "# Check for missing values in the messages DataFrame\n",
    "print(messages.isna().sum())"
   ]
  },
  {
   "cell_type": "code",
   "execution_count": 70,
   "metadata": {},
   "outputs": [
    {
     "name": "stdout",
     "output_type": "stream",
     "text": [
      "messages_included        0\n",
      "mb_per_month_included    0\n",
      "minutes_included         0\n",
      "usd_monthly_pay          0\n",
      "usd_per_gb               0\n",
      "usd_per_message          0\n",
      "usd_per_minute           0\n",
      "plan_name                0\n",
      "dtype: int64\n"
     ]
    }
   ],
   "source": [
    "# Check for missing values in the plans DataFrame\n",
    "print(plans.isna().sum())"
   ]
  },
  {
   "cell_type": "code",
   "execution_count": 71,
   "metadata": {
    "scrolled": true
   },
   "outputs": [
    {
     "name": "stdout",
     "output_type": "stream",
     "text": [
      "user_id         0\n",
      "first_name      0\n",
      "last_name       0\n",
      "age             0\n",
      "city            0\n",
      "reg_date        0\n",
      "plan            0\n",
      "churn_date    466\n",
      "dtype: int64\n"
     ]
    }
   ],
   "source": [
    "# Check for missing values in the users DataFrame\n",
    "print(users.isna().sum())"
   ]
  },
  {
   "cell_type": "markdown",
   "metadata": {},
   "source": [
    "## `plans` DataFrame "
   ]
  },
  {
   "cell_type": "markdown",
   "metadata": {},
   "source": [
    "### General Summary"
   ]
  },
  {
   "cell_type": "code",
   "execution_count": 72,
   "metadata": {},
   "outputs": [
    {
     "name": "stdout",
     "output_type": "stream",
     "text": [
      "The DataFrame has 2 rows and 8 columns\n"
     ]
    }
   ],
   "source": [
    "# Display the shape of plans the DataFrame \n",
    "n_rows, n_cols = plans.shape\n",
    "print(f\"The DataFrame has {n_rows} rows and {n_cols} columns\") "
   ]
  },
  {
   "cell_type": "code",
   "execution_count": null,
   "metadata": {},
   "outputs": [
    {
     "name": "stdout",
     "output_type": "stream",
     "text": [
      "<class 'pandas.core.frame.DataFrame'>\n",
      "RangeIndex: 2 entries, 0 to 1\n",
      "Data columns (total 8 columns):\n",
      " #   Column                 Non-Null Count  Dtype  \n",
      "---  ------                 --------------  -----  \n",
      " 0   messages_included      2 non-null      int64  \n",
      " 1   mb_per_month_included  2 non-null      int64  \n",
      " 2   minutes_included       2 non-null      int64  \n",
      " 3   usd_monthly_pay        2 non-null      int64  \n",
      " 4   usd_per_gb             2 non-null      int64  \n",
      " 5   usd_per_message        2 non-null      float64\n",
      " 6   usd_per_minute         2 non-null      float64\n",
      " 7   plan_name              2 non-null      object \n",
      "dtypes: float64(2), int64(5), object(1)\n",
      "memory usage: 260.0+ bytes\n"
     ]
    }
   ],
   "source": [
    "# Display the informative summary of the 'plans' DataFrame\n",
    "plans.info()"
   ]
  },
  {
   "cell_type": "code",
   "execution_count": 74,
   "metadata": {},
   "outputs": [
    {
     "data": {
      "text/html": [
       "<div>\n",
       "<style scoped>\n",
       "    .dataframe tbody tr th:only-of-type {\n",
       "        vertical-align: middle;\n",
       "    }\n",
       "\n",
       "    .dataframe tbody tr th {\n",
       "        vertical-align: top;\n",
       "    }\n",
       "\n",
       "    .dataframe thead th {\n",
       "        text-align: right;\n",
       "    }\n",
       "</style>\n",
       "<table border=\"1\" class=\"dataframe\">\n",
       "  <thead>\n",
       "    <tr style=\"text-align: right;\">\n",
       "      <th></th>\n",
       "      <th>messages_included</th>\n",
       "      <th>mb_per_month_included</th>\n",
       "      <th>minutes_included</th>\n",
       "      <th>usd_monthly_pay</th>\n",
       "      <th>usd_per_gb</th>\n",
       "      <th>usd_per_message</th>\n",
       "      <th>usd_per_minute</th>\n",
       "    </tr>\n",
       "  </thead>\n",
       "  <tbody>\n",
       "    <tr>\n",
       "      <th>count</th>\n",
       "      <td>2.000000</td>\n",
       "      <td>2.000000</td>\n",
       "      <td>2.000000</td>\n",
       "      <td>2.000000</td>\n",
       "      <td>2.00000</td>\n",
       "      <td>2.000000</td>\n",
       "      <td>2.000000</td>\n",
       "    </tr>\n",
       "    <tr>\n",
       "      <th>mean</th>\n",
       "      <td>525.000000</td>\n",
       "      <td>23040.000000</td>\n",
       "      <td>1750.000000</td>\n",
       "      <td>45.000000</td>\n",
       "      <td>8.50000</td>\n",
       "      <td>0.020000</td>\n",
       "      <td>0.020000</td>\n",
       "    </tr>\n",
       "    <tr>\n",
       "      <th>std</th>\n",
       "      <td>671.751442</td>\n",
       "      <td>10861.160159</td>\n",
       "      <td>1767.766953</td>\n",
       "      <td>35.355339</td>\n",
       "      <td>2.12132</td>\n",
       "      <td>0.014142</td>\n",
       "      <td>0.014142</td>\n",
       "    </tr>\n",
       "    <tr>\n",
       "      <th>min</th>\n",
       "      <td>50.000000</td>\n",
       "      <td>15360.000000</td>\n",
       "      <td>500.000000</td>\n",
       "      <td>20.000000</td>\n",
       "      <td>7.00000</td>\n",
       "      <td>0.010000</td>\n",
       "      <td>0.010000</td>\n",
       "    </tr>\n",
       "    <tr>\n",
       "      <th>25%</th>\n",
       "      <td>287.500000</td>\n",
       "      <td>19200.000000</td>\n",
       "      <td>1125.000000</td>\n",
       "      <td>32.500000</td>\n",
       "      <td>7.75000</td>\n",
       "      <td>0.015000</td>\n",
       "      <td>0.015000</td>\n",
       "    </tr>\n",
       "    <tr>\n",
       "      <th>50%</th>\n",
       "      <td>525.000000</td>\n",
       "      <td>23040.000000</td>\n",
       "      <td>1750.000000</td>\n",
       "      <td>45.000000</td>\n",
       "      <td>8.50000</td>\n",
       "      <td>0.020000</td>\n",
       "      <td>0.020000</td>\n",
       "    </tr>\n",
       "    <tr>\n",
       "      <th>75%</th>\n",
       "      <td>762.500000</td>\n",
       "      <td>26880.000000</td>\n",
       "      <td>2375.000000</td>\n",
       "      <td>57.500000</td>\n",
       "      <td>9.25000</td>\n",
       "      <td>0.025000</td>\n",
       "      <td>0.025000</td>\n",
       "    </tr>\n",
       "    <tr>\n",
       "      <th>max</th>\n",
       "      <td>1000.000000</td>\n",
       "      <td>30720.000000</td>\n",
       "      <td>3000.000000</td>\n",
       "      <td>70.000000</td>\n",
       "      <td>10.00000</td>\n",
       "      <td>0.030000</td>\n",
       "      <td>0.030000</td>\n",
       "    </tr>\n",
       "  </tbody>\n",
       "</table>\n",
       "</div>"
      ],
      "text/plain": [
       "       messages_included  mb_per_month_included  minutes_included  \\\n",
       "count           2.000000               2.000000          2.000000   \n",
       "mean          525.000000           23040.000000       1750.000000   \n",
       "std           671.751442           10861.160159       1767.766953   \n",
       "min            50.000000           15360.000000        500.000000   \n",
       "25%           287.500000           19200.000000       1125.000000   \n",
       "50%           525.000000           23040.000000       1750.000000   \n",
       "75%           762.500000           26880.000000       2375.000000   \n",
       "max          1000.000000           30720.000000       3000.000000   \n",
       "\n",
       "       usd_monthly_pay  usd_per_gb  usd_per_message  usd_per_minute  \n",
       "count         2.000000     2.00000         2.000000        2.000000  \n",
       "mean         45.000000     8.50000         0.020000        0.020000  \n",
       "std          35.355339     2.12132         0.014142        0.014142  \n",
       "min          20.000000     7.00000         0.010000        0.010000  \n",
       "25%          32.500000     7.75000         0.015000        0.015000  \n",
       "50%          45.000000     8.50000         0.020000        0.020000  \n",
       "75%          57.500000     9.25000         0.025000        0.025000  \n",
       "max          70.000000    10.00000         0.030000        0.030000  "
      ]
     },
     "execution_count": 74,
     "metadata": {},
     "output_type": "execute_result"
    }
   ],
   "source": [
    "# Display the descriptive statistics of the 'plans' DataFrame\n",
    "plans.describe()"
   ]
  },
  {
   "cell_type": "markdown",
   "metadata": {},
   "source": [
    "After printing the general information and the printed data sample for the Dataframe plans, I didn't saw any inappropriate data. Also there were no duplicated data and no missing data found. The 'usd_per_message' and 'usd_per_minute' columns data types were changed from float to an integer data type. "
   ]
  },
  {
   "cell_type": "code",
   "execution_count": 75,
   "metadata": {},
   "outputs": [
    {
     "name": "stdout",
     "output_type": "stream",
     "text": [
      "Number of duplicated plans: 0\n"
     ]
    }
   ],
   "source": [
    "# Display the duplicates in the 'plans' DataFrame\n",
    "duplicated_plans = plans[plans.duplicated()]\n",
    "print(f\"Number of duplicated plans: {duplicated_plans.shape[0]}\")"
   ]
  },
  {
   "cell_type": "code",
   "execution_count": 76,
   "metadata": {},
   "outputs": [
    {
     "data": {
      "text/html": [
       "<div>\n",
       "<style scoped>\n",
       "    .dataframe tbody tr th:only-of-type {\n",
       "        vertical-align: middle;\n",
       "    }\n",
       "\n",
       "    .dataframe tbody tr th {\n",
       "        vertical-align: top;\n",
       "    }\n",
       "\n",
       "    .dataframe thead th {\n",
       "        text-align: right;\n",
       "    }\n",
       "</style>\n",
       "<table border=\"1\" class=\"dataframe\">\n",
       "  <thead>\n",
       "    <tr style=\"text-align: right;\">\n",
       "      <th></th>\n",
       "      <th>messages_included</th>\n",
       "      <th>mb_per_month_included</th>\n",
       "      <th>minutes_included</th>\n",
       "      <th>usd_monthly_pay</th>\n",
       "      <th>usd_per_gb</th>\n",
       "      <th>usd_per_message</th>\n",
       "      <th>usd_per_minute</th>\n",
       "      <th>plan_name</th>\n",
       "      <th>gb_per_month_included</th>\n",
       "    </tr>\n",
       "  </thead>\n",
       "  <tbody>\n",
       "    <tr>\n",
       "      <th>0</th>\n",
       "      <td>50</td>\n",
       "      <td>15360</td>\n",
       "      <td>500</td>\n",
       "      <td>20</td>\n",
       "      <td>10</td>\n",
       "      <td>0.03</td>\n",
       "      <td>0.03</td>\n",
       "      <td>surf</td>\n",
       "      <td>15.0</td>\n",
       "    </tr>\n",
       "    <tr>\n",
       "      <th>1</th>\n",
       "      <td>1000</td>\n",
       "      <td>30720</td>\n",
       "      <td>3000</td>\n",
       "      <td>70</td>\n",
       "      <td>7</td>\n",
       "      <td>0.01</td>\n",
       "      <td>0.01</td>\n",
       "      <td>ultimate</td>\n",
       "      <td>30.0</td>\n",
       "    </tr>\n",
       "  </tbody>\n",
       "</table>\n",
       "</div>"
      ],
      "text/plain": [
       "   messages_included  mb_per_month_included  minutes_included  \\\n",
       "0                 50                  15360               500   \n",
       "1               1000                  30720              3000   \n",
       "\n",
       "   usd_monthly_pay  usd_per_gb  usd_per_message  usd_per_minute plan_name  \\\n",
       "0               20          10             0.03            0.03      surf   \n",
       "1               70           7             0.01            0.01  ultimate   \n",
       "\n",
       "   gb_per_month_included  \n",
       "0                   15.0  \n",
       "1                   30.0  "
      ]
     },
     "metadata": {},
     "output_type": "display_data"
    }
   ],
   "source": [
    "# Display the unique values in the 'plans' DataFrame\n",
    "plans['gb_per_month_included'] = plans['mb_per_month_included']/1024\n",
    "display(plans)"
   ]
  },
  {
   "cell_type": "markdown",
   "metadata": {},
   "source": [
    "## Users"
   ]
  },
  {
   "cell_type": "markdown",
   "metadata": {},
   "source": [
    "### General Summary"
   ]
  },
  {
   "cell_type": "code",
   "execution_count": 77,
   "metadata": {},
   "outputs": [
    {
     "name": "stdout",
     "output_type": "stream",
     "text": [
      "The DataFrame has 500 rows and 8 columns\n"
     ]
    }
   ],
   "source": [
    "# Display the shape of users the DataFrame\n",
    "n_rows, n_cols = users.shape\n",
    "print(f\"The DataFrame has {n_rows} rows and {n_cols} columns\") "
   ]
  },
  {
   "cell_type": "code",
   "execution_count": 78,
   "metadata": {},
   "outputs": [
    {
     "name": "stdout",
     "output_type": "stream",
     "text": [
      "<class 'pandas.core.frame.DataFrame'>\n",
      "RangeIndex: 500 entries, 0 to 499\n",
      "Data columns (total 8 columns):\n",
      " #   Column      Non-Null Count  Dtype \n",
      "---  ------      --------------  ----- \n",
      " 0   user_id     500 non-null    int64 \n",
      " 1   first_name  500 non-null    object\n",
      " 2   last_name   500 non-null    object\n",
      " 3   age         500 non-null    int64 \n",
      " 4   city        500 non-null    object\n",
      " 5   reg_date    500 non-null    object\n",
      " 6   plan        500 non-null    object\n",
      " 7   churn_date  34 non-null     object\n",
      "dtypes: int64(2), object(6)\n",
      "memory usage: 31.4+ KB\n"
     ]
    }
   ],
   "source": [
    "# Display the informative summary of the 'users' DataFrame\n",
    "users.info()"
   ]
  },
  {
   "cell_type": "code",
   "execution_count": 79,
   "metadata": {},
   "outputs": [
    {
     "data": {
      "text/html": [
       "<div>\n",
       "<style scoped>\n",
       "    .dataframe tbody tr th:only-of-type {\n",
       "        vertical-align: middle;\n",
       "    }\n",
       "\n",
       "    .dataframe tbody tr th {\n",
       "        vertical-align: top;\n",
       "    }\n",
       "\n",
       "    .dataframe thead th {\n",
       "        text-align: right;\n",
       "    }\n",
       "</style>\n",
       "<table border=\"1\" class=\"dataframe\">\n",
       "  <thead>\n",
       "    <tr style=\"text-align: right;\">\n",
       "      <th></th>\n",
       "      <th>user_id</th>\n",
       "      <th>age</th>\n",
       "    </tr>\n",
       "  </thead>\n",
       "  <tbody>\n",
       "    <tr>\n",
       "      <th>count</th>\n",
       "      <td>500.000000</td>\n",
       "      <td>500.000000</td>\n",
       "    </tr>\n",
       "    <tr>\n",
       "      <th>mean</th>\n",
       "      <td>1249.500000</td>\n",
       "      <td>45.486000</td>\n",
       "    </tr>\n",
       "    <tr>\n",
       "      <th>std</th>\n",
       "      <td>144.481833</td>\n",
       "      <td>16.972269</td>\n",
       "    </tr>\n",
       "    <tr>\n",
       "      <th>min</th>\n",
       "      <td>1000.000000</td>\n",
       "      <td>18.000000</td>\n",
       "    </tr>\n",
       "    <tr>\n",
       "      <th>25%</th>\n",
       "      <td>1124.750000</td>\n",
       "      <td>30.000000</td>\n",
       "    </tr>\n",
       "    <tr>\n",
       "      <th>50%</th>\n",
       "      <td>1249.500000</td>\n",
       "      <td>46.000000</td>\n",
       "    </tr>\n",
       "    <tr>\n",
       "      <th>75%</th>\n",
       "      <td>1374.250000</td>\n",
       "      <td>61.000000</td>\n",
       "    </tr>\n",
       "    <tr>\n",
       "      <th>max</th>\n",
       "      <td>1499.000000</td>\n",
       "      <td>75.000000</td>\n",
       "    </tr>\n",
       "  </tbody>\n",
       "</table>\n",
       "</div>"
      ],
      "text/plain": [
       "           user_id         age\n",
       "count   500.000000  500.000000\n",
       "mean   1249.500000   45.486000\n",
       "std     144.481833   16.972269\n",
       "min    1000.000000   18.000000\n",
       "25%    1124.750000   30.000000\n",
       "50%    1249.500000   46.000000\n",
       "75%    1374.250000   61.000000\n",
       "max    1499.000000   75.000000"
      ]
     },
     "execution_count": 79,
     "metadata": {},
     "output_type": "execute_result"
    }
   ],
   "source": [
    "# Display the descriptive statistics of the 'users' DataFrame\n",
    "users.describe()"
   ]
  },
  {
   "cell_type": "markdown",
   "metadata": {},
   "source": [
    "In 'Users' dataframe, no duplicate data were found. But 'churn_date' had 466 missing data. Along with this, 'reg_date' and 'churn_date' data types were changed from object to datatime. Two new columns were made ' reg_month' and ' churn_month', in which the data columns were converted to month ones. With this, a separate columns was made to separate the name of the state from city, which was needed to test the second hypothesis."
   ]
  },
  {
   "cell_type": "markdown",
   "metadata": {},
   "source": [
    "### Fix `users` DataFrame"
   ]
  },
  {
   "cell_type": "code",
   "execution_count": 80,
   "metadata": {},
   "outputs": [],
   "source": [
    "# Convert the 'reg_date' column to datetime format\n",
    "users['reg_date'] = pd.to_datetime(users['reg_date'])\n",
    "\n",
    "# Convert the 'churn_date' column to datetime format\n",
    "users['churn_date'] = pd.to_datetime(users['churn_date'])"
   ]
  },
  {
   "cell_type": "code",
   "execution_count": 81,
   "metadata": {},
   "outputs": [
    {
     "name": "stdout",
     "output_type": "stream",
     "text": [
      "datetime64[ns]\n",
      "datetime64[ns]\n"
     ]
    }
   ],
   "source": [
    "# Check if the datatype of 'reg_date' and 'churn_date' columns is datetime\n",
    "print(users['reg_date'].dtype)\n",
    "print(users['churn_date'].dtype)"
   ]
  },
  {
   "cell_type": "code",
   "execution_count": 82,
   "metadata": {},
   "outputs": [
    {
     "name": "stdout",
     "output_type": "stream",
     "text": [
      "Number of duplicated megaline users: 0\n"
     ]
    }
   ],
   "source": [
    "# Display the duplicates in the 'users' DataFrame\n",
    "duplicated_users = users[users.duplicated()]\n",
    "print(f\"Number of duplicated megaline users: {duplicated_users.shape[0]}\")"
   ]
  },
  {
   "cell_type": "code",
   "execution_count": 83,
   "metadata": {},
   "outputs": [
    {
     "data": {
      "text/html": [
       "<div>\n",
       "<style scoped>\n",
       "    .dataframe tbody tr th:only-of-type {\n",
       "        vertical-align: middle;\n",
       "    }\n",
       "\n",
       "    .dataframe tbody tr th {\n",
       "        vertical-align: top;\n",
       "    }\n",
       "\n",
       "    .dataframe thead th {\n",
       "        text-align: right;\n",
       "    }\n",
       "</style>\n",
       "<table border=\"1\" class=\"dataframe\">\n",
       "  <thead>\n",
       "    <tr style=\"text-align: right;\">\n",
       "      <th></th>\n",
       "      <th>user_id</th>\n",
       "      <th>first_name</th>\n",
       "      <th>last_name</th>\n",
       "      <th>age</th>\n",
       "      <th>city</th>\n",
       "      <th>reg_date</th>\n",
       "      <th>plan</th>\n",
       "      <th>churn_date</th>\n",
       "      <th>state</th>\n",
       "    </tr>\n",
       "  </thead>\n",
       "  <tbody>\n",
       "    <tr>\n",
       "      <th>410</th>\n",
       "      <td>1410</td>\n",
       "      <td>Wendell</td>\n",
       "      <td>Lloyd</td>\n",
       "      <td>46</td>\n",
       "      <td>Los Angeles-Long Beach-Anaheim</td>\n",
       "      <td>2018-10-06</td>\n",
       "      <td>surf</td>\n",
       "      <td>NaT</td>\n",
       "      <td>CA MSA</td>\n",
       "    </tr>\n",
       "  </tbody>\n",
       "</table>\n",
       "</div>"
      ],
      "text/plain": [
       "     user_id first_name last_name  age                            city  \\\n",
       "410     1410    Wendell     Lloyd   46  Los Angeles-Long Beach-Anaheim   \n",
       "\n",
       "      reg_date  plan churn_date   state  \n",
       "410 2018-10-06  surf        NaT  CA MSA  "
      ]
     },
     "metadata": {},
     "output_type": "display_data"
    }
   ],
   "source": [
    "# Add a new column 'state' to the 'users' DataFrame\n",
    "users[['city', 'state']] = users['city'].str.split(', ', expand=True)\n",
    "\n",
    "# Display the sample of the 'users' DataFrame\n",
    "display(users.sample())"
   ]
  },
  {
   "cell_type": "code",
   "execution_count": 84,
   "metadata": {},
   "outputs": [],
   "source": [
    "# Add a new column 'reg_month' to the 'users' DataFrame\n",
    "# Convert the 'reg_date' column to period format\n",
    "users['reg_month'] = users['reg_date'].dt.to_period('M')\n",
    "\n",
    "# Add a new column 'churn_month' to the 'users' DataFrame\n",
    "# Convert the 'churn_date' column to period format\n",
    "users['churn_month'] = users['churn_date'].dt.to_period('M')"
   ]
  },
  {
   "cell_type": "code",
   "execution_count": 85,
   "metadata": {},
   "outputs": [
    {
     "name": "stdout",
     "output_type": "stream",
     "text": [
      "period[M]\n",
      "period[M]\n"
     ]
    }
   ],
   "source": [
    "# Check if the datatype of 'reg_month' and 'churn_month' columns is period\n",
    "print(users['reg_month'].dtype)\n",
    "print(users['churn_month'].dtype)"
   ]
  },
  {
   "cell_type": "markdown",
   "metadata": {},
   "source": [
    "## Calls"
   ]
  },
  {
   "cell_type": "markdown",
   "metadata": {},
   "source": [
    "### General Summary"
   ]
  },
  {
   "cell_type": "code",
   "execution_count": 86,
   "metadata": {},
   "outputs": [
    {
     "name": "stdout",
     "output_type": "stream",
     "text": [
      "The DataFrame has 137735 rows and 4 columns\n"
     ]
    }
   ],
   "source": [
    "# Display the shape of calls the DataFrame\n",
    "n_rows, n_cols = calls.shape\n",
    "print(f\"The DataFrame has {n_rows} rows and {n_cols} columns\") "
   ]
  },
  {
   "cell_type": "code",
   "execution_count": 87,
   "metadata": {},
   "outputs": [
    {
     "name": "stdout",
     "output_type": "stream",
     "text": [
      "<class 'pandas.core.frame.DataFrame'>\n",
      "RangeIndex: 137735 entries, 0 to 137734\n",
      "Data columns (total 4 columns):\n",
      " #   Column     Non-Null Count   Dtype  \n",
      "---  ------     --------------   -----  \n",
      " 0   id         137735 non-null  object \n",
      " 1   user_id    137735 non-null  int64  \n",
      " 2   call_date  137735 non-null  object \n",
      " 3   duration   137735 non-null  float64\n",
      "dtypes: float64(1), int64(1), object(2)\n",
      "memory usage: 4.2+ MB\n"
     ]
    }
   ],
   "source": [
    "# Display the informative summary of the 'calls' DataFrame\n",
    "calls.info()"
   ]
  },
  {
   "cell_type": "code",
   "execution_count": 88,
   "metadata": {},
   "outputs": [
    {
     "data": {
      "text/html": [
       "<div>\n",
       "<style scoped>\n",
       "    .dataframe tbody tr th:only-of-type {\n",
       "        vertical-align: middle;\n",
       "    }\n",
       "\n",
       "    .dataframe tbody tr th {\n",
       "        vertical-align: top;\n",
       "    }\n",
       "\n",
       "    .dataframe thead th {\n",
       "        text-align: right;\n",
       "    }\n",
       "</style>\n",
       "<table border=\"1\" class=\"dataframe\">\n",
       "  <thead>\n",
       "    <tr style=\"text-align: right;\">\n",
       "      <th></th>\n",
       "      <th>user_id</th>\n",
       "      <th>duration</th>\n",
       "    </tr>\n",
       "  </thead>\n",
       "  <tbody>\n",
       "    <tr>\n",
       "      <th>count</th>\n",
       "      <td>137735.000000</td>\n",
       "      <td>137735.000000</td>\n",
       "    </tr>\n",
       "    <tr>\n",
       "      <th>mean</th>\n",
       "      <td>1247.658046</td>\n",
       "      <td>6.745927</td>\n",
       "    </tr>\n",
       "    <tr>\n",
       "      <th>std</th>\n",
       "      <td>139.416268</td>\n",
       "      <td>5.839241</td>\n",
       "    </tr>\n",
       "    <tr>\n",
       "      <th>min</th>\n",
       "      <td>1000.000000</td>\n",
       "      <td>0.000000</td>\n",
       "    </tr>\n",
       "    <tr>\n",
       "      <th>25%</th>\n",
       "      <td>1128.000000</td>\n",
       "      <td>1.290000</td>\n",
       "    </tr>\n",
       "    <tr>\n",
       "      <th>50%</th>\n",
       "      <td>1247.000000</td>\n",
       "      <td>5.980000</td>\n",
       "    </tr>\n",
       "    <tr>\n",
       "      <th>75%</th>\n",
       "      <td>1365.000000</td>\n",
       "      <td>10.690000</td>\n",
       "    </tr>\n",
       "    <tr>\n",
       "      <th>max</th>\n",
       "      <td>1499.000000</td>\n",
       "      <td>37.600000</td>\n",
       "    </tr>\n",
       "  </tbody>\n",
       "</table>\n",
       "</div>"
      ],
      "text/plain": [
       "             user_id       duration\n",
       "count  137735.000000  137735.000000\n",
       "mean     1247.658046       6.745927\n",
       "std       139.416268       5.839241\n",
       "min      1000.000000       0.000000\n",
       "25%      1128.000000       1.290000\n",
       "50%      1247.000000       5.980000\n",
       "75%      1365.000000      10.690000\n",
       "max      1499.000000      37.600000"
      ]
     },
     "execution_count": 88,
     "metadata": {},
     "output_type": "execute_result"
    }
   ],
   "source": [
    "# Display the descriptive statistics of the 'calls' DataFrame\n",
    "calls.describe()"
   ]
  },
  {
   "cell_type": "code",
   "execution_count": 89,
   "metadata": {},
   "outputs": [
    {
     "data": {
      "text/html": [
       "<div>\n",
       "<style scoped>\n",
       "    .dataframe tbody tr th:only-of-type {\n",
       "        vertical-align: middle;\n",
       "    }\n",
       "\n",
       "    .dataframe tbody tr th {\n",
       "        vertical-align: top;\n",
       "    }\n",
       "\n",
       "    .dataframe thead th {\n",
       "        text-align: right;\n",
       "    }\n",
       "</style>\n",
       "<table border=\"1\" class=\"dataframe\">\n",
       "  <thead>\n",
       "    <tr style=\"text-align: right;\">\n",
       "      <th></th>\n",
       "      <th>id</th>\n",
       "      <th>user_id</th>\n",
       "      <th>call_date</th>\n",
       "      <th>duration</th>\n",
       "    </tr>\n",
       "  </thead>\n",
       "  <tbody>\n",
       "    <tr>\n",
       "      <th>102079</th>\n",
       "      <td>1362_843</td>\n",
       "      <td>1362</td>\n",
       "      <td>2018-03-17</td>\n",
       "      <td>4.14</td>\n",
       "    </tr>\n",
       "  </tbody>\n",
       "</table>\n",
       "</div>"
      ],
      "text/plain": [
       "              id  user_id   call_date  duration\n",
       "102079  1362_843     1362  2018-03-17      4.14"
      ]
     },
     "metadata": {},
     "output_type": "display_data"
    }
   ],
   "source": [
    "# Print a sample of data for calls\n",
    "display(calls.sample())"
   ]
  },
  {
   "cell_type": "markdown",
   "metadata": {},
   "source": [
    "In 'Calls' dataframe, no duplicate or missing data were found. 'call_date' column data type was changed from object to datatime and 'duration' column datatype was changed to integer. Also, a new column was made 'month' in which the date column was converted to month. "
   ]
  },
  {
   "cell_type": "markdown",
   "metadata": {},
   "source": [
    "### Fix `calls` DataFrame"
   ]
  },
  {
   "cell_type": "markdown",
   "metadata": {},
   "source": [
    "[Fix obvious issues with the data given the initial observations.]"
   ]
  },
  {
   "cell_type": "code",
   "execution_count": 90,
   "metadata": {},
   "outputs": [
    {
     "name": "stdout",
     "output_type": "stream",
     "text": [
      "Number of duplicated calls: 0\n"
     ]
    }
   ],
   "source": [
    "# Display the duplicates in the 'calls' DataFrame\n",
    "duplicated_calls = calls[calls.duplicated()]\n",
    "print(f\"Number of duplicated calls: {duplicated_calls.shape[0]}\")"
   ]
  },
  {
   "cell_type": "code",
   "execution_count": 91,
   "metadata": {},
   "outputs": [
    {
     "name": "stdout",
     "output_type": "stream",
     "text": [
      "datetime64[ns]\n"
     ]
    }
   ],
   "source": [
    "# Convert the 'call_date' column to datetime format\n",
    "calls['call_date'] = pd.to_datetime(calls['call_date'])\n",
    "\n",
    "# Check if the datatype of 'call_date' column is datetime\n",
    "print(calls['call_date'].dtype)\n"
   ]
  },
  {
   "cell_type": "code",
   "execution_count": 92,
   "metadata": {},
   "outputs": [
    {
     "name": "stdout",
     "output_type": "stream",
     "text": [
      "float64\n"
     ]
    }
   ],
   "source": [
    "# Convert the 'duration_minutes' column to numeric format\n",
    "calls['duration_minutes'] = np.ceil(calls['duration'])\n",
    "\n",
    "# Check if the datatype of 'duration_minutes' column is numeric\n",
    "print(calls['duration_minutes'].dtype)\n"
   ]
  },
  {
   "cell_type": "code",
   "execution_count": 93,
   "metadata": {},
   "outputs": [
    {
     "name": "stdout",
     "output_type": "stream",
     "text": [
      "period[M]\n"
     ]
    }
   ],
   "source": [
    "# Add a new column 'month' to the 'calls' DataFrame\n",
    "# Convert the 'call_date' column to period format\n",
    "calls['month'] = calls['call_date'].dt.to_period('M')\n",
    "\n",
    "# Check if the datatype of 'month' column is period\n",
    "print(calls['month'].dtype)"
   ]
  },
  {
   "cell_type": "markdown",
   "metadata": {},
   "source": [
    "## Messages"
   ]
  },
  {
   "cell_type": "markdown",
   "metadata": {},
   "source": [
    "### General Summary"
   ]
  },
  {
   "cell_type": "code",
   "execution_count": 94,
   "metadata": {},
   "outputs": [
    {
     "name": "stdout",
     "output_type": "stream",
     "text": [
      "The DataFrame has 76051 rows and 3 columns\n"
     ]
    }
   ],
   "source": [
    "# Display the shape of internet the DataFrame\n",
    "n_rows, n_cols = messages.shape\n",
    "print(f\"The DataFrame has {n_rows} rows and {n_cols} columns\") "
   ]
  },
  {
   "cell_type": "code",
   "execution_count": 95,
   "metadata": {},
   "outputs": [
    {
     "name": "stdout",
     "output_type": "stream",
     "text": [
      "<class 'pandas.core.frame.DataFrame'>\n",
      "RangeIndex: 76051 entries, 0 to 76050\n",
      "Data columns (total 3 columns):\n",
      " #   Column        Non-Null Count  Dtype \n",
      "---  ------        --------------  ----- \n",
      " 0   id            76051 non-null  object\n",
      " 1   user_id       76051 non-null  int64 \n",
      " 2   message_date  76051 non-null  object\n",
      "dtypes: int64(1), object(2)\n",
      "memory usage: 1.7+ MB\n"
     ]
    }
   ],
   "source": [
    "# Display the informative summary of the 'messages' DataFrame\n",
    "messages.info()"
   ]
  },
  {
   "cell_type": "code",
   "execution_count": 96,
   "metadata": {},
   "outputs": [
    {
     "data": {
      "text/html": [
       "<div>\n",
       "<style scoped>\n",
       "    .dataframe tbody tr th:only-of-type {\n",
       "        vertical-align: middle;\n",
       "    }\n",
       "\n",
       "    .dataframe tbody tr th {\n",
       "        vertical-align: top;\n",
       "    }\n",
       "\n",
       "    .dataframe thead th {\n",
       "        text-align: right;\n",
       "    }\n",
       "</style>\n",
       "<table border=\"1\" class=\"dataframe\">\n",
       "  <thead>\n",
       "    <tr style=\"text-align: right;\">\n",
       "      <th></th>\n",
       "      <th>user_id</th>\n",
       "    </tr>\n",
       "  </thead>\n",
       "  <tbody>\n",
       "    <tr>\n",
       "      <th>count</th>\n",
       "      <td>76051.000000</td>\n",
       "    </tr>\n",
       "    <tr>\n",
       "      <th>mean</th>\n",
       "      <td>1245.972768</td>\n",
       "    </tr>\n",
       "    <tr>\n",
       "      <th>std</th>\n",
       "      <td>139.843635</td>\n",
       "    </tr>\n",
       "    <tr>\n",
       "      <th>min</th>\n",
       "      <td>1000.000000</td>\n",
       "    </tr>\n",
       "    <tr>\n",
       "      <th>25%</th>\n",
       "      <td>1123.000000</td>\n",
       "    </tr>\n",
       "    <tr>\n",
       "      <th>50%</th>\n",
       "      <td>1251.000000</td>\n",
       "    </tr>\n",
       "    <tr>\n",
       "      <th>75%</th>\n",
       "      <td>1362.000000</td>\n",
       "    </tr>\n",
       "    <tr>\n",
       "      <th>max</th>\n",
       "      <td>1497.000000</td>\n",
       "    </tr>\n",
       "  </tbody>\n",
       "</table>\n",
       "</div>"
      ],
      "text/plain": [
       "            user_id\n",
       "count  76051.000000\n",
       "mean    1245.972768\n",
       "std      139.843635\n",
       "min     1000.000000\n",
       "25%     1123.000000\n",
       "50%     1251.000000\n",
       "75%     1362.000000\n",
       "max     1497.000000"
      ]
     },
     "execution_count": 96,
     "metadata": {},
     "output_type": "execute_result"
    }
   ],
   "source": [
    "# Display the descriptive statistics of the 'messages' DataFrame\n",
    "messages.describe()"
   ]
  },
  {
   "cell_type": "markdown",
   "metadata": {},
   "source": [
    "In 'Messages' dataframe, no duplicate or missing data were found. 'message_date' column data type was changed from object to datatime and then a new column was made 'month' in which the date column was converted to month. "
   ]
  },
  {
   "cell_type": "markdown",
   "metadata": {},
   "source": [
    "### Fix `messages` DataFrame"
   ]
  },
  {
   "cell_type": "code",
   "execution_count": 97,
   "metadata": {},
   "outputs": [
    {
     "name": "stdout",
     "output_type": "stream",
     "text": [
      "Number of duplicated messages: 0\n"
     ]
    }
   ],
   "source": [
    "# Check for duplicates in the 'messages' DataFrame\n",
    "duplicated_messages = messages[messages.duplicated()]\n",
    "print(f\"Number of duplicated messages: {duplicated_messages.shape[0]}\")"
   ]
  },
  {
   "cell_type": "code",
   "execution_count": 98,
   "metadata": {},
   "outputs": [
    {
     "name": "stdout",
     "output_type": "stream",
     "text": [
      "datetime64[ns]\n"
     ]
    }
   ],
   "source": [
    "# Convert the 'message_date' column to datetime format\n",
    "messages['message_date'] = pd.to_datetime(messages['message_date'])\n",
    "\n",
    "# Check if the datatype of 'message_date' column is datetime\n",
    "print(messages['message_date'].dtype)"
   ]
  },
  {
   "cell_type": "code",
   "execution_count": 99,
   "metadata": {},
   "outputs": [
    {
     "data": {
      "text/html": [
       "<div>\n",
       "<style scoped>\n",
       "    .dataframe tbody tr th:only-of-type {\n",
       "        vertical-align: middle;\n",
       "    }\n",
       "\n",
       "    .dataframe tbody tr th {\n",
       "        vertical-align: top;\n",
       "    }\n",
       "\n",
       "    .dataframe thead th {\n",
       "        text-align: right;\n",
       "    }\n",
       "</style>\n",
       "<table border=\"1\" class=\"dataframe\">\n",
       "  <thead>\n",
       "    <tr style=\"text-align: right;\">\n",
       "      <th></th>\n",
       "      <th>id</th>\n",
       "      <th>user_id</th>\n",
       "      <th>message_date</th>\n",
       "      <th>month</th>\n",
       "    </tr>\n",
       "  </thead>\n",
       "  <tbody>\n",
       "    <tr>\n",
       "      <th>49282</th>\n",
       "      <td>1328_240</td>\n",
       "      <td>1328</td>\n",
       "      <td>2018-12-30</td>\n",
       "      <td>2018-12</td>\n",
       "    </tr>\n",
       "  </tbody>\n",
       "</table>\n",
       "</div>"
      ],
      "text/plain": [
       "             id  user_id message_date    month\n",
       "49282  1328_240     1328   2018-12-30  2018-12"
      ]
     },
     "metadata": {},
     "output_type": "display_data"
    }
   ],
   "source": [
    "# Add a new column 'message_month' to the 'messages' DataFrame\n",
    "# Convert the 'message_date' column to period format\n",
    "messages['month'] = messages['message_date'].dt.to_period('M')\n",
    "\n",
    "# Display the `messages` DataFrame\n",
    "display(messages.sample())"
   ]
  },
  {
   "cell_type": "markdown",
   "metadata": {},
   "source": [
    "## Internet"
   ]
  },
  {
   "cell_type": "markdown",
   "metadata": {},
   "source": [
    "### General Summary"
   ]
  },
  {
   "cell_type": "code",
   "execution_count": 100,
   "metadata": {},
   "outputs": [
    {
     "name": "stdout",
     "output_type": "stream",
     "text": [
      "The DataFrame has 104825 rows and 4 columns\n"
     ]
    }
   ],
   "source": [
    "# Display the shape of internet the DataFrame\n",
    "n_rows, n_cols = internet.shape\n",
    "print(f\"The DataFrame has {n_rows} rows and {n_cols} columns\")"
   ]
  },
  {
   "cell_type": "code",
   "execution_count": 101,
   "metadata": {},
   "outputs": [
    {
     "name": "stdout",
     "output_type": "stream",
     "text": [
      "<class 'pandas.core.frame.DataFrame'>\n",
      "RangeIndex: 104825 entries, 0 to 104824\n",
      "Data columns (total 4 columns):\n",
      " #   Column        Non-Null Count   Dtype  \n",
      "---  ------        --------------   -----  \n",
      " 0   id            104825 non-null  object \n",
      " 1   user_id       104825 non-null  int64  \n",
      " 2   session_date  104825 non-null  object \n",
      " 3   mb_used       104825 non-null  float64\n",
      "dtypes: float64(1), int64(1), object(2)\n",
      "memory usage: 3.2+ MB\n"
     ]
    }
   ],
   "source": [
    "# Display the informative summary of the 'internet' DataFrame\n",
    "internet.info()"
   ]
  },
  {
   "cell_type": "code",
   "execution_count": 102,
   "metadata": {},
   "outputs": [
    {
     "data": {
      "text/html": [
       "<div>\n",
       "<style scoped>\n",
       "    .dataframe tbody tr th:only-of-type {\n",
       "        vertical-align: middle;\n",
       "    }\n",
       "\n",
       "    .dataframe tbody tr th {\n",
       "        vertical-align: top;\n",
       "    }\n",
       "\n",
       "    .dataframe thead th {\n",
       "        text-align: right;\n",
       "    }\n",
       "</style>\n",
       "<table border=\"1\" class=\"dataframe\">\n",
       "  <thead>\n",
       "    <tr style=\"text-align: right;\">\n",
       "      <th></th>\n",
       "      <th>user_id</th>\n",
       "      <th>mb_used</th>\n",
       "    </tr>\n",
       "  </thead>\n",
       "  <tbody>\n",
       "    <tr>\n",
       "      <th>count</th>\n",
       "      <td>104825.000000</td>\n",
       "      <td>104825.000000</td>\n",
       "    </tr>\n",
       "    <tr>\n",
       "      <th>mean</th>\n",
       "      <td>1242.496361</td>\n",
       "      <td>366.713701</td>\n",
       "    </tr>\n",
       "    <tr>\n",
       "      <th>std</th>\n",
       "      <td>142.053913</td>\n",
       "      <td>277.170542</td>\n",
       "    </tr>\n",
       "    <tr>\n",
       "      <th>min</th>\n",
       "      <td>1000.000000</td>\n",
       "      <td>0.000000</td>\n",
       "    </tr>\n",
       "    <tr>\n",
       "      <th>25%</th>\n",
       "      <td>1122.000000</td>\n",
       "      <td>136.080000</td>\n",
       "    </tr>\n",
       "    <tr>\n",
       "      <th>50%</th>\n",
       "      <td>1236.000000</td>\n",
       "      <td>343.980000</td>\n",
       "    </tr>\n",
       "    <tr>\n",
       "      <th>75%</th>\n",
       "      <td>1367.000000</td>\n",
       "      <td>554.610000</td>\n",
       "    </tr>\n",
       "    <tr>\n",
       "      <th>max</th>\n",
       "      <td>1499.000000</td>\n",
       "      <td>1693.470000</td>\n",
       "    </tr>\n",
       "  </tbody>\n",
       "</table>\n",
       "</div>"
      ],
      "text/plain": [
       "             user_id        mb_used\n",
       "count  104825.000000  104825.000000\n",
       "mean     1242.496361     366.713701\n",
       "std       142.053913     277.170542\n",
       "min      1000.000000       0.000000\n",
       "25%      1122.000000     136.080000\n",
       "50%      1236.000000     343.980000\n",
       "75%      1367.000000     554.610000\n",
       "max      1499.000000    1693.470000"
      ]
     },
     "execution_count": 102,
     "metadata": {},
     "output_type": "execute_result"
    }
   ],
   "source": [
    "# Display the descriptive statistics of the 'internet' DataFrame\n",
    "internet.describe()"
   ]
  },
  {
   "cell_type": "markdown",
   "metadata": {},
   "source": [
    "In 'Internet' dataframe, no duplicate or missing data were found. 'session_date' column data type was changed from object to datatime and then a new column was made 'month' in which the data column was converted to month. "
   ]
  },
  {
   "cell_type": "markdown",
   "metadata": {},
   "source": [
    "### Fix `internet` DataFrame"
   ]
  },
  {
   "cell_type": "code",
   "execution_count": 103,
   "metadata": {},
   "outputs": [
    {
     "name": "stdout",
     "output_type": "stream",
     "text": [
      "Number of duplicated internet: 0\n"
     ]
    }
   ],
   "source": [
    "# Check for duplicates in the 'internet' DataFrame\n",
    "duplicated_internet = internet[internet.duplicated()]\n",
    "print(f\"Number of duplicated internet: {duplicated_internet.shape[0]}\")"
   ]
  },
  {
   "cell_type": "code",
   "execution_count": 104,
   "metadata": {},
   "outputs": [
    {
     "name": "stdout",
     "output_type": "stream",
     "text": [
      "datetime64[ns]\n"
     ]
    }
   ],
   "source": [
    "# Add a new column 'session_date' to the 'internet' DataFrame\n",
    "#  Convert the 'session_date' column to datetime format\n",
    "internet['session_date'] = pd.to_datetime(internet['session_date'])\n",
    "\n",
    "# Check if the datatype of 'session_date' column is datetime\n",
    "print(internet['session_date'].dtype)"
   ]
  },
  {
   "cell_type": "code",
   "execution_count": 105,
   "metadata": {},
   "outputs": [
    {
     "name": "stdout",
     "output_type": "stream",
     "text": [
      "period[M]\n"
     ]
    }
   ],
   "source": [
    "# Add a new column 'month' to the 'internet' DataFrame\n",
    "# Convert the 'session_date' column to period format\n",
    "internet['month'] = internet['session_date'].dt.to_period('M')\n",
    "\n",
    "# Check if the datatype of 'month' column is period\n",
    "print(internet['month'].dtype)"
   ]
  },
  {
   "cell_type": "code",
   "execution_count": 106,
   "metadata": {},
   "outputs": [
    {
     "data": {
      "text/html": [
       "<div>\n",
       "<style scoped>\n",
       "    .dataframe tbody tr th:only-of-type {\n",
       "        vertical-align: middle;\n",
       "    }\n",
       "\n",
       "    .dataframe tbody tr th {\n",
       "        vertical-align: top;\n",
       "    }\n",
       "\n",
       "    .dataframe thead th {\n",
       "        text-align: right;\n",
       "    }\n",
       "</style>\n",
       "<table border=\"1\" class=\"dataframe\">\n",
       "  <thead>\n",
       "    <tr style=\"text-align: right;\">\n",
       "      <th></th>\n",
       "      <th>id</th>\n",
       "      <th>user_id</th>\n",
       "      <th>session_date</th>\n",
       "      <th>mb_used</th>\n",
       "      <th>month</th>\n",
       "      <th>gb_used</th>\n",
       "    </tr>\n",
       "  </thead>\n",
       "  <tbody>\n",
       "    <tr>\n",
       "      <th>103459</th>\n",
       "      <td>1495_61</td>\n",
       "      <td>1495</td>\n",
       "      <td>2018-09-19</td>\n",
       "      <td>316.26</td>\n",
       "      <td>2018-09</td>\n",
       "      <td>0.308848</td>\n",
       "    </tr>\n",
       "  </tbody>\n",
       "</table>\n",
       "</div>"
      ],
      "text/plain": [
       "             id  user_id session_date  mb_used    month   gb_used\n",
       "103459  1495_61     1495   2018-09-19   316.26  2018-09  0.308848"
      ]
     },
     "metadata": {},
     "output_type": "display_data"
    }
   ],
   "source": [
    "# Add a new column 'gb_used' to the 'internet' DataFrame\n",
    "internet['gb_used'] = internet['mb_used']/ 1024\n",
    "\n",
    "# Display the sample of the 'internet' DataFrame\n",
    "display(internet.sample())"
   ]
  },
  {
   "cell_type": "markdown",
   "metadata": {},
   "source": [
    "## Plan conditions"
   ]
  },
  {
   "cell_type": "markdown",
   "metadata": {},
   "source": [
    "Megaline rounds seconds to minutes and megaytes to gigabytes. For calls, each call is rounded up - even if the call lasted just for second, it will be counted as one minute. For web traffic, individual web sessions are not rounded up, instead the total for the month is rounded up. Eg. If someone uses 1025 megabytes this month, they will be charged for 2 gigabytes. \n",
    "\n",
    "1. Surf: \n",
    "   - Monthly charge: 20 dollars\n",
    "   - 500 monthly minutws, 50 texts, and 15GB of data\n",
    "   - After exceeding the package limits:\n",
    "      - 1minute: 3 cents\n",
    "      - text message; 3 cents\n",
    "      - 1GB of data: 10 dollars\n",
    "\n",
    "2. Ultimate:\n",
    "   - Monthly charge: 70 dollars\n",
    "   - 3000 monthly minutes, 1000 text messages, and 30GB of data\n",
    "   - After exceeding the package limits:\n",
    "      - 1minute: 1 cent\n",
    "      - text message; 1 cent\n",
    "      - 1GB of data: 7 dollars\n",
    " \n"
   ]
  },
  {
   "cell_type": "markdown",
   "metadata": {},
   "source": [
    "## Aggregate data per user"
   ]
  },
  {
   "cell_type": "code",
   "execution_count": 107,
   "metadata": {},
   "outputs": [
    {
     "data": {
      "text/html": [
       "<div>\n",
       "<style scoped>\n",
       "    .dataframe tbody tr th:only-of-type {\n",
       "        vertical-align: middle;\n",
       "    }\n",
       "\n",
       "    .dataframe tbody tr th {\n",
       "        vertical-align: top;\n",
       "    }\n",
       "\n",
       "    .dataframe thead th {\n",
       "        text-align: right;\n",
       "    }\n",
       "</style>\n",
       "<table border=\"1\" class=\"dataframe\">\n",
       "  <thead>\n",
       "    <tr style=\"text-align: right;\">\n",
       "      <th></th>\n",
       "      <th>user_id</th>\n",
       "      <th>month</th>\n",
       "      <th>call_count</th>\n",
       "    </tr>\n",
       "  </thead>\n",
       "  <tbody>\n",
       "    <tr>\n",
       "      <th>0</th>\n",
       "      <td>1000</td>\n",
       "      <td>2018-12</td>\n",
       "      <td>16</td>\n",
       "    </tr>\n",
       "    <tr>\n",
       "      <th>1</th>\n",
       "      <td>1001</td>\n",
       "      <td>2018-08</td>\n",
       "      <td>27</td>\n",
       "    </tr>\n",
       "    <tr>\n",
       "      <th>2</th>\n",
       "      <td>1001</td>\n",
       "      <td>2018-09</td>\n",
       "      <td>49</td>\n",
       "    </tr>\n",
       "    <tr>\n",
       "      <th>3</th>\n",
       "      <td>1001</td>\n",
       "      <td>2018-10</td>\n",
       "      <td>65</td>\n",
       "    </tr>\n",
       "    <tr>\n",
       "      <th>4</th>\n",
       "      <td>1001</td>\n",
       "      <td>2018-11</td>\n",
       "      <td>64</td>\n",
       "    </tr>\n",
       "  </tbody>\n",
       "</table>\n",
       "</div>"
      ],
      "text/plain": [
       "   user_id    month  call_count\n",
       "0     1000  2018-12          16\n",
       "1     1001  2018-08          27\n",
       "2     1001  2018-09          49\n",
       "3     1001  2018-10          65\n",
       "4     1001  2018-11          64"
      ]
     },
     "metadata": {},
     "output_type": "display_data"
    }
   ],
   "source": [
    "# Calculate the number of calls made by each user per month. Save the result in a new DataFrame called `calls_per_user_per_month`.\n",
    "calls_per_user_per_month = calls.groupby(['user_id', 'month']).size().reset_index(name='call_count')\n",
    "display(calls_per_user_per_month.head())"
   ]
  },
  {
   "cell_type": "code",
   "execution_count": 108,
   "metadata": {},
   "outputs": [
    {
     "data": {
      "text/html": [
       "<div>\n",
       "<style scoped>\n",
       "    .dataframe tbody tr th:only-of-type {\n",
       "        vertical-align: middle;\n",
       "    }\n",
       "\n",
       "    .dataframe tbody tr th {\n",
       "        vertical-align: top;\n",
       "    }\n",
       "\n",
       "    .dataframe thead th {\n",
       "        text-align: right;\n",
       "    }\n",
       "</style>\n",
       "<table border=\"1\" class=\"dataframe\">\n",
       "  <thead>\n",
       "    <tr style=\"text-align: right;\">\n",
       "      <th></th>\n",
       "      <th>user_id</th>\n",
       "      <th>month</th>\n",
       "      <th>call_duration</th>\n",
       "    </tr>\n",
       "  </thead>\n",
       "  <tbody>\n",
       "    <tr>\n",
       "      <th>0</th>\n",
       "      <td>1000</td>\n",
       "      <td>2018-12</td>\n",
       "      <td>124.0</td>\n",
       "    </tr>\n",
       "    <tr>\n",
       "      <th>1</th>\n",
       "      <td>1001</td>\n",
       "      <td>2018-08</td>\n",
       "      <td>182.0</td>\n",
       "    </tr>\n",
       "    <tr>\n",
       "      <th>2</th>\n",
       "      <td>1001</td>\n",
       "      <td>2018-09</td>\n",
       "      <td>315.0</td>\n",
       "    </tr>\n",
       "    <tr>\n",
       "      <th>3</th>\n",
       "      <td>1001</td>\n",
       "      <td>2018-10</td>\n",
       "      <td>393.0</td>\n",
       "    </tr>\n",
       "    <tr>\n",
       "      <th>4</th>\n",
       "      <td>1001</td>\n",
       "      <td>2018-11</td>\n",
       "      <td>426.0</td>\n",
       "    </tr>\n",
       "  </tbody>\n",
       "</table>\n",
       "</div>"
      ],
      "text/plain": [
       "   user_id    month  call_duration\n",
       "0     1000  2018-12          124.0\n",
       "1     1001  2018-08          182.0\n",
       "2     1001  2018-09          315.0\n",
       "3     1001  2018-10          393.0\n",
       "4     1001  2018-11          426.0"
      ]
     },
     "metadata": {},
     "output_type": "display_data"
    }
   ],
   "source": [
    "# Calculate the amount of minutes spent by each user per month. Save the result in a new DataFrame called `minutes_per_user_per_month`.\n",
    "minutes_per_user_per_month = calls.groupby(['user_id', 'month'])['duration_minutes'].sum().reset_index(name='call_duration')\n",
    "display(minutes_per_user_per_month.head())"
   ]
  },
  {
   "cell_type": "code",
   "execution_count": 112,
   "metadata": {},
   "outputs": [
    {
     "data": {
      "text/html": [
       "<div>\n",
       "<style scoped>\n",
       "    .dataframe tbody tr th:only-of-type {\n",
       "        vertical-align: middle;\n",
       "    }\n",
       "\n",
       "    .dataframe tbody tr th {\n",
       "        vertical-align: top;\n",
       "    }\n",
       "\n",
       "    .dataframe thead th {\n",
       "        text-align: right;\n",
       "    }\n",
       "</style>\n",
       "<table border=\"1\" class=\"dataframe\">\n",
       "  <thead>\n",
       "    <tr style=\"text-align: right;\">\n",
       "      <th></th>\n",
       "      <th>user_id</th>\n",
       "      <th>month</th>\n",
       "      <th>messages_count</th>\n",
       "    </tr>\n",
       "  </thead>\n",
       "  <tbody>\n",
       "    <tr>\n",
       "      <th>0</th>\n",
       "      <td>1000</td>\n",
       "      <td>2018-12</td>\n",
       "      <td>11</td>\n",
       "    </tr>\n",
       "    <tr>\n",
       "      <th>1</th>\n",
       "      <td>1001</td>\n",
       "      <td>2018-08</td>\n",
       "      <td>30</td>\n",
       "    </tr>\n",
       "    <tr>\n",
       "      <th>2</th>\n",
       "      <td>1001</td>\n",
       "      <td>2018-09</td>\n",
       "      <td>44</td>\n",
       "    </tr>\n",
       "    <tr>\n",
       "      <th>3</th>\n",
       "      <td>1001</td>\n",
       "      <td>2018-10</td>\n",
       "      <td>53</td>\n",
       "    </tr>\n",
       "    <tr>\n",
       "      <th>4</th>\n",
       "      <td>1001</td>\n",
       "      <td>2018-11</td>\n",
       "      <td>36</td>\n",
       "    </tr>\n",
       "  </tbody>\n",
       "</table>\n",
       "</div>"
      ],
      "text/plain": [
       "   user_id    month  messages_count\n",
       "0     1000  2018-12              11\n",
       "1     1001  2018-08              30\n",
       "2     1001  2018-09              44\n",
       "3     1001  2018-10              53\n",
       "4     1001  2018-11              36"
      ]
     },
     "metadata": {},
     "output_type": "display_data"
    }
   ],
   "source": [
    "# Calculate the number of messages sent by each user per month. Save the result in a new DataFrame called `messages_per_user_per_month`.\n",
    "messages_per_user_per_month = messages.groupby(['user_id', 'month']).size().reset_index(name='messages_count')\n",
    "display(messages_per_user_per_month.head())"
   ]
  },
  {
   "cell_type": "code",
   "execution_count": 113,
   "metadata": {},
   "outputs": [
    {
     "data": {
      "text/html": [
       "<div>\n",
       "<style scoped>\n",
       "    .dataframe tbody tr th:only-of-type {\n",
       "        vertical-align: middle;\n",
       "    }\n",
       "\n",
       "    .dataframe tbody tr th {\n",
       "        vertical-align: top;\n",
       "    }\n",
       "\n",
       "    .dataframe thead th {\n",
       "        text-align: right;\n",
       "    }\n",
       "</style>\n",
       "<table border=\"1\" class=\"dataframe\">\n",
       "  <thead>\n",
       "    <tr style=\"text-align: right;\">\n",
       "      <th></th>\n",
       "      <th>user_id</th>\n",
       "      <th>month</th>\n",
       "      <th>gb_used</th>\n",
       "    </tr>\n",
       "  </thead>\n",
       "  <tbody>\n",
       "    <tr>\n",
       "      <th>0</th>\n",
       "      <td>1000</td>\n",
       "      <td>2018-12</td>\n",
       "      <td>1.856904</td>\n",
       "    </tr>\n",
       "    <tr>\n",
       "      <th>1</th>\n",
       "      <td>1001</td>\n",
       "      <td>2018-08</td>\n",
       "      <td>6.756982</td>\n",
       "    </tr>\n",
       "    <tr>\n",
       "      <th>2</th>\n",
       "      <td>1001</td>\n",
       "      <td>2018-09</td>\n",
       "      <td>13.002754</td>\n",
       "    </tr>\n",
       "    <tr>\n",
       "      <th>3</th>\n",
       "      <td>1001</td>\n",
       "      <td>2018-10</td>\n",
       "      <td>21.807119</td>\n",
       "    </tr>\n",
       "    <tr>\n",
       "      <th>4</th>\n",
       "      <td>1001</td>\n",
       "      <td>2018-11</td>\n",
       "      <td>18.070605</td>\n",
       "    </tr>\n",
       "  </tbody>\n",
       "</table>\n",
       "</div>"
      ],
      "text/plain": [
       "   user_id    month    gb_used\n",
       "0     1000  2018-12   1.856904\n",
       "1     1001  2018-08   6.756982\n",
       "2     1001  2018-09  13.002754\n",
       "3     1001  2018-10  21.807119\n",
       "4     1001  2018-11  18.070605"
      ]
     },
     "metadata": {},
     "output_type": "display_data"
    }
   ],
   "source": [
    "# Calculate the volume of internet traffic used by each user per month. Save the result in a new DataFrame called `internet_per_user_per_month`.\n",
    "internet_per_user_per_month = internet.groupby(['user_id', 'month'])['gb_used'].sum().reset_index()\n",
    "display(internet_per_user_per_month.head())\n"
   ]
  },
  {
   "cell_type": "code",
   "execution_count": null,
   "metadata": {},
   "outputs": [
    {
     "data": {
      "text/html": [
       "<div>\n",
       "<style scoped>\n",
       "    .dataframe tbody tr th:only-of-type {\n",
       "        vertical-align: middle;\n",
       "    }\n",
       "\n",
       "    .dataframe tbody tr th {\n",
       "        vertical-align: top;\n",
       "    }\n",
       "\n",
       "    .dataframe thead th {\n",
       "        text-align: right;\n",
       "    }\n",
       "</style>\n",
       "<table border=\"1\" class=\"dataframe\">\n",
       "  <thead>\n",
       "    <tr style=\"text-align: right;\">\n",
       "      <th></th>\n",
       "      <th>user_id</th>\n",
       "      <th>month</th>\n",
       "      <th>call_count</th>\n",
       "      <th>call_duration</th>\n",
       "      <th>messages_count</th>\n",
       "      <th>gb_used</th>\n",
       "    </tr>\n",
       "  </thead>\n",
       "  <tbody>\n",
       "    <tr>\n",
       "      <th>0</th>\n",
       "      <td>1000</td>\n",
       "      <td>2018-12</td>\n",
       "      <td>16.0</td>\n",
       "      <td>124.0</td>\n",
       "      <td>11.0</td>\n",
       "      <td>1.856904</td>\n",
       "    </tr>\n",
       "    <tr>\n",
       "      <th>1</th>\n",
       "      <td>1001</td>\n",
       "      <td>2018-08</td>\n",
       "      <td>27.0</td>\n",
       "      <td>182.0</td>\n",
       "      <td>30.0</td>\n",
       "      <td>6.756982</td>\n",
       "    </tr>\n",
       "    <tr>\n",
       "      <th>2</th>\n",
       "      <td>1001</td>\n",
       "      <td>2018-09</td>\n",
       "      <td>49.0</td>\n",
       "      <td>315.0</td>\n",
       "      <td>44.0</td>\n",
       "      <td>13.002754</td>\n",
       "    </tr>\n",
       "    <tr>\n",
       "      <th>3</th>\n",
       "      <td>1001</td>\n",
       "      <td>2018-10</td>\n",
       "      <td>65.0</td>\n",
       "      <td>393.0</td>\n",
       "      <td>53.0</td>\n",
       "      <td>21.807119</td>\n",
       "    </tr>\n",
       "    <tr>\n",
       "      <th>4</th>\n",
       "      <td>1001</td>\n",
       "      <td>2018-11</td>\n",
       "      <td>64.0</td>\n",
       "      <td>426.0</td>\n",
       "      <td>36.0</td>\n",
       "      <td>18.070605</td>\n",
       "    </tr>\n",
       "  </tbody>\n",
       "</table>\n",
       "</div>"
      ],
      "text/plain": [
       "   user_id    month  call_count  call_duration  messages_count    gb_used\n",
       "0     1000  2018-12        16.0          124.0            11.0   1.856904\n",
       "1     1001  2018-08        27.0          182.0            30.0   6.756982\n",
       "2     1001  2018-09        49.0          315.0            44.0  13.002754\n",
       "3     1001  2018-10        65.0          393.0            53.0  21.807119\n",
       "4     1001  2018-11        64.0          426.0            36.0  18.070605"
      ]
     },
     "metadata": {},
     "output_type": "display_data"
    }
   ],
   "source": [
    "# Merge the data for calls, minutes, messages, internet based on user_id and month to create a single DataFrame called `megaline`.\n",
    "megaline = (\n",
    "    calls_per_user_per_month.merge(minutes_per_user_per_month, \n",
    "                                   on=['user_id', 'month'], \n",
    "                                   how='outer')\n",
    "                                   .merge(messages_per_user_per_month, \n",
    "                                          on=['user_id', 'month'], \n",
    "                                          how='outer')\n",
    "                                          .merge(internet_per_user_per_month, \n",
    "                                                 on=['user_id', 'month'], \n",
    "                                                 how='outer')\n",
    "                                                 )\n",
    "display(megaline.head())"
   ]
  },
  {
   "cell_type": "markdown",
   "metadata": {},
   "source": [
    "### Fix missing values in `megaline` DataFrame"
   ]
  },
  {
   "cell_type": "code",
   "execution_count": 117,
   "metadata": {},
   "outputs": [
    {
     "data": {
      "text/html": [
       "<div>\n",
       "<style scoped>\n",
       "    .dataframe tbody tr th:only-of-type {\n",
       "        vertical-align: middle;\n",
       "    }\n",
       "\n",
       "    .dataframe tbody tr th {\n",
       "        vertical-align: top;\n",
       "    }\n",
       "\n",
       "    .dataframe thead th {\n",
       "        text-align: right;\n",
       "    }\n",
       "</style>\n",
       "<table border=\"1\" class=\"dataframe\">\n",
       "  <thead>\n",
       "    <tr style=\"text-align: right;\">\n",
       "      <th></th>\n",
       "      <th>user_id</th>\n",
       "      <th>month</th>\n",
       "      <th>call_count</th>\n",
       "      <th>call_duration</th>\n",
       "      <th>messages_count</th>\n",
       "      <th>gb_used</th>\n",
       "    </tr>\n",
       "  </thead>\n",
       "  <tbody>\n",
       "    <tr>\n",
       "      <th>0</th>\n",
       "      <td>1000</td>\n",
       "      <td>2018-12</td>\n",
       "      <td>16.0</td>\n",
       "      <td>124.0</td>\n",
       "      <td>11.0</td>\n",
       "      <td>1.856904</td>\n",
       "    </tr>\n",
       "    <tr>\n",
       "      <th>1</th>\n",
       "      <td>1001</td>\n",
       "      <td>2018-08</td>\n",
       "      <td>27.0</td>\n",
       "      <td>182.0</td>\n",
       "      <td>30.0</td>\n",
       "      <td>6.756982</td>\n",
       "    </tr>\n",
       "    <tr>\n",
       "      <th>2</th>\n",
       "      <td>1001</td>\n",
       "      <td>2018-09</td>\n",
       "      <td>49.0</td>\n",
       "      <td>315.0</td>\n",
       "      <td>44.0</td>\n",
       "      <td>13.002754</td>\n",
       "    </tr>\n",
       "    <tr>\n",
       "      <th>3</th>\n",
       "      <td>1001</td>\n",
       "      <td>2018-10</td>\n",
       "      <td>65.0</td>\n",
       "      <td>393.0</td>\n",
       "      <td>53.0</td>\n",
       "      <td>21.807119</td>\n",
       "    </tr>\n",
       "    <tr>\n",
       "      <th>4</th>\n",
       "      <td>1001</td>\n",
       "      <td>2018-11</td>\n",
       "      <td>64.0</td>\n",
       "      <td>426.0</td>\n",
       "      <td>36.0</td>\n",
       "      <td>18.070605</td>\n",
       "    </tr>\n",
       "  </tbody>\n",
       "</table>\n",
       "</div>"
      ],
      "text/plain": [
       "   user_id    month call_count call_duration messages_count    gb_used\n",
       "0     1000  2018-12       16.0         124.0           11.0   1.856904\n",
       "1     1001  2018-08       27.0         182.0           30.0   6.756982\n",
       "2     1001  2018-09       49.0         315.0           44.0  13.002754\n",
       "3     1001  2018-10       65.0         393.0           53.0  21.807119\n",
       "4     1001  2018-11       64.0         426.0           36.0  18.070605"
      ]
     },
     "metadata": {},
     "output_type": "display_data"
    }
   ],
   "source": [
    "#  Fill the missing values in the `megaline` DataFrame with 0 for the columns 'call_count', 'call_duration', 'messages_count', 'mb_used', and 'gb_used'.\n",
    "megaline['call_count'] = megaline['call_count'].fillna(value='0')\n",
    "megaline['call_duration'] = megaline['call_duration'].fillna(value='0')\n",
    "megaline['messages_count'] = megaline['messages_count'].fillna(value='0')\n",
    "megaline['gb_used'] = megaline['gb_used'].fillna(value='0')\n",
    "\n",
    "display(megaline.head())"
   ]
  },
  {
   "cell_type": "code",
   "execution_count": 118,
   "metadata": {},
   "outputs": [
    {
     "data": {
      "text/html": [
       "<div>\n",
       "<style scoped>\n",
       "    .dataframe tbody tr th:only-of-type {\n",
       "        vertical-align: middle;\n",
       "    }\n",
       "\n",
       "    .dataframe tbody tr th {\n",
       "        vertical-align: top;\n",
       "    }\n",
       "\n",
       "    .dataframe thead th {\n",
       "        text-align: right;\n",
       "    }\n",
       "</style>\n",
       "<table border=\"1\" class=\"dataframe\">\n",
       "  <thead>\n",
       "    <tr style=\"text-align: right;\">\n",
       "      <th></th>\n",
       "      <th>user_id</th>\n",
       "      <th>month</th>\n",
       "      <th>call_count</th>\n",
       "      <th>call_duration</th>\n",
       "      <th>messages_count</th>\n",
       "      <th>gb_used</th>\n",
       "      <th>plan</th>\n",
       "      <th>state</th>\n",
       "    </tr>\n",
       "  </thead>\n",
       "  <tbody>\n",
       "    <tr>\n",
       "      <th>0</th>\n",
       "      <td>1000</td>\n",
       "      <td>2018-12</td>\n",
       "      <td>16.0</td>\n",
       "      <td>124.0</td>\n",
       "      <td>11.0</td>\n",
       "      <td>1.856904</td>\n",
       "      <td>ultimate</td>\n",
       "      <td>GA MSA</td>\n",
       "    </tr>\n",
       "    <tr>\n",
       "      <th>1</th>\n",
       "      <td>1001</td>\n",
       "      <td>2018-08</td>\n",
       "      <td>27.0</td>\n",
       "      <td>182.0</td>\n",
       "      <td>30.0</td>\n",
       "      <td>6.756982</td>\n",
       "      <td>surf</td>\n",
       "      <td>WA MSA</td>\n",
       "    </tr>\n",
       "    <tr>\n",
       "      <th>2</th>\n",
       "      <td>1001</td>\n",
       "      <td>2018-09</td>\n",
       "      <td>49.0</td>\n",
       "      <td>315.0</td>\n",
       "      <td>44.0</td>\n",
       "      <td>13.002754</td>\n",
       "      <td>surf</td>\n",
       "      <td>WA MSA</td>\n",
       "    </tr>\n",
       "    <tr>\n",
       "      <th>3</th>\n",
       "      <td>1001</td>\n",
       "      <td>2018-10</td>\n",
       "      <td>65.0</td>\n",
       "      <td>393.0</td>\n",
       "      <td>53.0</td>\n",
       "      <td>21.807119</td>\n",
       "      <td>surf</td>\n",
       "      <td>WA MSA</td>\n",
       "    </tr>\n",
       "    <tr>\n",
       "      <th>4</th>\n",
       "      <td>1001</td>\n",
       "      <td>2018-11</td>\n",
       "      <td>64.0</td>\n",
       "      <td>426.0</td>\n",
       "      <td>36.0</td>\n",
       "      <td>18.070605</td>\n",
       "      <td>surf</td>\n",
       "      <td>WA MSA</td>\n",
       "    </tr>\n",
       "  </tbody>\n",
       "</table>\n",
       "</div>"
      ],
      "text/plain": [
       "   user_id    month call_count call_duration messages_count    gb_used  \\\n",
       "0     1000  2018-12       16.0         124.0           11.0   1.856904   \n",
       "1     1001  2018-08       27.0         182.0           30.0   6.756982   \n",
       "2     1001  2018-09       49.0         315.0           44.0  13.002754   \n",
       "3     1001  2018-10       65.0         393.0           53.0  21.807119   \n",
       "4     1001  2018-11       64.0         426.0           36.0  18.070605   \n",
       "\n",
       "       plan   state  \n",
       "0  ultimate  GA MSA  \n",
       "1      surf  WA MSA  \n",
       "2      surf  WA MSA  \n",
       "3      surf  WA MSA  \n",
       "4      surf  WA MSA  "
      ]
     },
     "metadata": {},
     "output_type": "display_data"
    }
   ],
   "source": [
    "# Add the plan information to the `megaline` DataFrame by merging it with the `users` DataFrame based on the 'user_id' column.\n",
    "plan_information = pd.merge(megaline, users[['user_id', 'plan', 'state']], on='user_id', how='left')\n",
    "display(plan_information.head())"
   ]
  },
  {
   "cell_type": "code",
   "execution_count": 122,
   "metadata": {},
   "outputs": [
    {
     "name": "stdout",
     "output_type": "stream",
     "text": [
      "user_id               int64\n",
      "month             period[M]\n",
      "call_count           object\n",
      "call_duration        object\n",
      "messages_count       object\n",
      "gb_used              object\n",
      "plan                 object\n",
      "state                object\n",
      "dtype: object\n"
     ]
    }
   ],
   "source": [
    "# Display the data types of the columns in the `plan_information` DataFrame\n",
    "print(plan_information.dtypes)"
   ]
  },
  {
   "cell_type": "code",
   "execution_count": null,
   "metadata": {},
   "outputs": [
    {
     "name": "stdout",
     "output_type": "stream",
     "text": [
      "user_id               int64\n",
      "month             period[M]\n",
      "call_count          float64\n",
      "call_duration       float64\n",
      "messages_count      float64\n",
      "gb_used             float64\n",
      "plan                 object\n",
      "state                object\n",
      "revenue             float64\n",
      "dtype: object\n"
     ]
    }
   ],
   "source": [
    "# Convert the columns 'call_count', 'call_duration', 'messages_count', and 'gb_used' to numeric format.\n",
    "plan_information['call_count'] = pd.to_numeric(plan_information['call_count'], \n",
    "                                               errors='coerce')\n",
    "\n",
    "plan_information['messages_count'] = pd.to_numeric(plan_information['messages_count'], \n",
    "                                                   errors='coerce')\n",
    "\n",
    "plan_information['gb_used'] = pd.to_numeric(plan_information['gb_used'], \n",
    "                                            errors='coerce')\n",
    "\n",
    "plan_information['call_duration'] = pd.to_numeric(plan_information['call_duration'], \n",
    "                                                  errors='coerce')\n",
    "\n",
    "# Check the data types of the columns in the `plan_information` DataFrame after conversion\n",
    "print(plan_information.dtypes)"
   ]
  },
  {
   "cell_type": "markdown",
   "metadata": {},
   "source": [
    "## Calculate the monthly revenue from each user"
   ]
  },
  {
   "cell_type": "code",
   "execution_count": 130,
   "metadata": {},
   "outputs": [],
   "source": [
    "# Calculate the monthly revenue for each user based on their plan and usage.\n",
    "# Create a function to calculate the monthly revenue for each user based on their plan and usage.\n",
    "\n",
    "def monthly_revenue(row):\n",
    "    user_plan = plans[plans['plan_name'] == row['plan']]\n",
    "    \n",
    "    revenue = user_plan['usd_monthly_pay'].values[0]\n",
    "    \n",
    "    diff_min = row['call_count'] - user_plan['minutes_included'].values[0]\n",
    "    if diff_min > 0:\n",
    "        revenue += diff_min * user_plan['usd_per_minute'].values[0]\n",
    "    \n",
    "    diff_msg = row['messages_count'] - user_plan['messages_included'].values[0]\n",
    "    if diff_msg > 0:\n",
    "        revenue += diff_msg * user_plan['usd_per_message'].values[0]\n",
    "    \n",
    "    diff_gb = row['gb_used'] - user_plan['gb_per_month_included'].values[0]\n",
    "    if diff_gb > 0:\n",
    "        revenue += diff_gb * user_plan['usd_per_gb'].values[0]\n",
    "        \n",
    "    return revenue"
   ]
  },
  {
   "cell_type": "code",
   "execution_count": 132,
   "metadata": {},
   "outputs": [
    {
     "data": {
      "text/html": [
       "<div>\n",
       "<style scoped>\n",
       "    .dataframe tbody tr th:only-of-type {\n",
       "        vertical-align: middle;\n",
       "    }\n",
       "\n",
       "    .dataframe tbody tr th {\n",
       "        vertical-align: top;\n",
       "    }\n",
       "\n",
       "    .dataframe thead th {\n",
       "        text-align: right;\n",
       "    }\n",
       "</style>\n",
       "<table border=\"1\" class=\"dataframe\">\n",
       "  <thead>\n",
       "    <tr style=\"text-align: right;\">\n",
       "      <th></th>\n",
       "      <th>user_id</th>\n",
       "      <th>plan</th>\n",
       "      <th>month</th>\n",
       "      <th>revenue</th>\n",
       "      <th>state</th>\n",
       "    </tr>\n",
       "  </thead>\n",
       "  <tbody>\n",
       "    <tr>\n",
       "      <th>0</th>\n",
       "      <td>1000</td>\n",
       "      <td>ultimate</td>\n",
       "      <td>2018-12</td>\n",
       "      <td>70.000000</td>\n",
       "      <td>GA MSA</td>\n",
       "    </tr>\n",
       "    <tr>\n",
       "      <th>1</th>\n",
       "      <td>1001</td>\n",
       "      <td>surf</td>\n",
       "      <td>2018-08</td>\n",
       "      <td>20.000000</td>\n",
       "      <td>WA MSA</td>\n",
       "    </tr>\n",
       "    <tr>\n",
       "      <th>2</th>\n",
       "      <td>1001</td>\n",
       "      <td>surf</td>\n",
       "      <td>2018-09</td>\n",
       "      <td>20.000000</td>\n",
       "      <td>WA MSA</td>\n",
       "    </tr>\n",
       "    <tr>\n",
       "      <th>3</th>\n",
       "      <td>1001</td>\n",
       "      <td>surf</td>\n",
       "      <td>2018-10</td>\n",
       "      <td>88.161191</td>\n",
       "      <td>WA MSA</td>\n",
       "    </tr>\n",
       "    <tr>\n",
       "      <th>4</th>\n",
       "      <td>1001</td>\n",
       "      <td>surf</td>\n",
       "      <td>2018-11</td>\n",
       "      <td>50.706055</td>\n",
       "      <td>WA MSA</td>\n",
       "    </tr>\n",
       "  </tbody>\n",
       "</table>\n",
       "</div>"
      ],
      "text/plain": [
       "   user_id      plan    month    revenue   state\n",
       "0     1000  ultimate  2018-12  70.000000  GA MSA\n",
       "1     1001      surf  2018-08  20.000000  WA MSA\n",
       "2     1001      surf  2018-09  20.000000  WA MSA\n",
       "3     1001      surf  2018-10  88.161191  WA MSA\n",
       "4     1001      surf  2018-11  50.706055  WA MSA"
      ]
     },
     "metadata": {},
     "output_type": "display_data"
    }
   ],
   "source": [
    "# Apply the function to the `plan_information` DataFrame to calculate the monthly revenue for each user.\n",
    "plan_information['revenue'] = plan_information.apply(monthly_revenue, axis=1)\n",
    "\n",
    "# Display the first 5 rows of the `plan_information` DataFrame with the calculated revenue.\n",
    "display(plan_information[['user_id', 'plan', 'month', 'revenue','state']].head())\n",
    "       \n",
    "    "
   ]
  },
  {
   "cell_type": "markdown",
   "metadata": {},
   "source": [
    "## Study user behaviour"
   ]
  },
  {
   "cell_type": "markdown",
   "metadata": {},
   "source": [
    "### Calculate descriptive statistics for the aggregated and merged data. "
   ]
  },
  {
   "cell_type": "code",
   "execution_count": 135,
   "metadata": {},
   "outputs": [
    {
     "data": {
      "text/html": [
       "<div>\n",
       "<style scoped>\n",
       "    .dataframe tbody tr th:only-of-type {\n",
       "        vertical-align: middle;\n",
       "    }\n",
       "\n",
       "    .dataframe tbody tr th {\n",
       "        vertical-align: top;\n",
       "    }\n",
       "\n",
       "    .dataframe thead th {\n",
       "        text-align: right;\n",
       "    }\n",
       "</style>\n",
       "<table border=\"1\" class=\"dataframe\">\n",
       "  <thead>\n",
       "    <tr style=\"text-align: right;\">\n",
       "      <th></th>\n",
       "      <th>plan</th>\n",
       "      <th>month</th>\n",
       "      <th>call_duration</th>\n",
       "    </tr>\n",
       "  </thead>\n",
       "  <tbody>\n",
       "    <tr>\n",
       "      <th>0</th>\n",
       "      <td>surf</td>\n",
       "      <td>2018-01</td>\n",
       "      <td>203.000000</td>\n",
       "    </tr>\n",
       "    <tr>\n",
       "      <th>1</th>\n",
       "      <td>surf</td>\n",
       "      <td>2018-02</td>\n",
       "      <td>297.000000</td>\n",
       "    </tr>\n",
       "    <tr>\n",
       "      <th>2</th>\n",
       "      <td>surf</td>\n",
       "      <td>2018-03</td>\n",
       "      <td>330.000000</td>\n",
       "    </tr>\n",
       "    <tr>\n",
       "      <th>3</th>\n",
       "      <td>surf</td>\n",
       "      <td>2018-04</td>\n",
       "      <td>351.540000</td>\n",
       "    </tr>\n",
       "    <tr>\n",
       "      <th>4</th>\n",
       "      <td>surf</td>\n",
       "      <td>2018-05</td>\n",
       "      <td>399.584416</td>\n",
       "    </tr>\n",
       "  </tbody>\n",
       "</table>\n",
       "</div>"
      ],
      "text/plain": [
       "   plan    month  call_duration\n",
       "0  surf  2018-01     203.000000\n",
       "1  surf  2018-02     297.000000\n",
       "2  surf  2018-03     330.000000\n",
       "3  surf  2018-04     351.540000\n",
       "4  surf  2018-05     399.584416"
      ]
     },
     "metadata": {},
     "output_type": "display_data"
    }
   ],
   "source": [
    "# Compare average duration of calls per each plan per each distinct month.\n",
    "average_duration_per_plan_per_month = plan_information.groupby(['plan', 'month'])['call_duration'].mean().reset_index()\n",
    "display(average_duration_per_plan_per_month.head())"
   ]
  },
  {
   "cell_type": "code",
   "execution_count": 137,
   "metadata": {},
   "outputs": [
    {
     "data": {
      "image/png": "[encoded data removed]",
      "text/plain": [
       "<Figure size 800x600 with 1 Axes>"
      ]
     },
     "metadata": {},
     "output_type": "display_data"
    }
   ],
   "source": [
    "# Create a bar plot to visualize the average duration of calls per plan per month.\n",
    "plt.figure(figsize=(8, 6))\n",
    "sns.barplot(data= average_duration_per_plan_per_month, x='month', y='call_duration', hue='plan')\n",
    "plt.title('Average Duration of calls per plan per month')\n",
    "plt.xlabel('Month')\n",
    "plt.ylabel=('Call duration (minutes)')\n",
    "plt.xticks(rotation=50)  \n",
    "plt.show()"
   ]
  },
  {
   "cell_type": "markdown",
   "metadata": {},
   "source": [
    "From the graph to compare the average duration of calls per each plan per each distinct month, it can be seen that there not a much difference between the call duration each month per plan. But, in the month of Feb we can see a hugh difference between the call duration based on different plans: surf and ulimate. If we see to the monthly call duration, most of the calls are done within the limits of the surf plan. Also, the call duration of the users of ultimate plan are well within the limits of surf plan. There is not a single user having call duration above 450 minutes, which is really less compare to the limits of the ulimate plan. "
   ]
  },
  {
   "cell_type": "code",
   "execution_count": 139,
   "metadata": {},
   "outputs": [
    {
     "data": {
      "text/html": [
       "<div>\n",
       "<style scoped>\n",
       "    .dataframe tbody tr th:only-of-type {\n",
       "        vertical-align: middle;\n",
       "    }\n",
       "\n",
       "    .dataframe tbody tr th {\n",
       "        vertical-align: top;\n",
       "    }\n",
       "\n",
       "    .dataframe thead th {\n",
       "        text-align: right;\n",
       "    }\n",
       "</style>\n",
       "<table border=\"1\" class=\"dataframe\">\n",
       "  <thead>\n",
       "    <tr style=\"text-align: right;\">\n",
       "      <th></th>\n",
       "      <th>plan</th>\n",
       "      <th>month</th>\n",
       "      <th>call_duration</th>\n",
       "    </tr>\n",
       "  </thead>\n",
       "  <tbody>\n",
       "    <tr>\n",
       "      <th>0</th>\n",
       "      <td>surf</td>\n",
       "      <td>2018-01</td>\n",
       "      <td>406.0</td>\n",
       "    </tr>\n",
       "    <tr>\n",
       "      <th>1</th>\n",
       "      <td>surf</td>\n",
       "      <td>2018-02</td>\n",
       "      <td>2673.0</td>\n",
       "    </tr>\n",
       "    <tr>\n",
       "      <th>2</th>\n",
       "      <td>surf</td>\n",
       "      <td>2018-03</td>\n",
       "      <td>7590.0</td>\n",
       "    </tr>\n",
       "    <tr>\n",
       "      <th>3</th>\n",
       "      <td>surf</td>\n",
       "      <td>2018-04</td>\n",
       "      <td>17577.0</td>\n",
       "    </tr>\n",
       "    <tr>\n",
       "      <th>4</th>\n",
       "      <td>surf</td>\n",
       "      <td>2018-05</td>\n",
       "      <td>30768.0</td>\n",
       "    </tr>\n",
       "  </tbody>\n",
       "</table>\n",
       "</div>"
      ],
      "text/plain": [
       "   plan    month  call_duration\n",
       "0  surf  2018-01          406.0\n",
       "1  surf  2018-02         2673.0\n",
       "2  surf  2018-03         7590.0\n",
       "3  surf  2018-04        17577.0\n",
       "4  surf  2018-05        30768.0"
      ]
     },
     "metadata": {},
     "output_type": "display_data"
    }
   ],
   "source": [
    "# Compare the number of minutes users of each plan require each month.\n",
    "minutes_per_plan_per_month = plan_information.groupby(['plan', 'month'])['call_duration'].sum().reset_index()\n",
    "display(minutes_per_plan_per_month.head())"
   ]
  },
  {
   "cell_type": "code",
   "execution_count": null,
   "metadata": {},
   "outputs": [
    {
     "data": {
      "image/png": "[encoded data removed]",
      "text/plain": [
       "<Figure size 800x600 with 1 Axes>"
      ]
     },
     "metadata": {},
     "output_type": "display_data"
    }
   ],
   "source": [
    "# Create a histogram plot to visualize the total minutes of calls by users per plan in a month.\n",
    "plt.figure(figsize=(8, 6))\n",
    "sns.histplot(data= minutes_per_plan_per_month, \n",
    "             x='call_duration', \n",
    "             hue='plan')\n",
    "plt.title('Total minutes of calls by users per plan in a month')\n",
    "plt.xlabel('Total Call duration (minutes)')\n",
    "plt.ylabel=('Number of Users') # Why this code didn't change the y axis label\n",
    "plt.xticks(rotation=50)\n",
    "plt.show()\n"
   ]
  },
  {
   "cell_type": "markdown",
   "metadata": {},
   "source": [
    "The graph here shows the number of minutes users of each plan require each month.From this graph it can be seen that there are 6 users of ultimate plan, whose number of minutes ranges from 0 - 20000 minutes, while 3 users whose number of minutes if from 20000 - 40000, and the same number of users whose range is from 40000 - 60000. For all these three ranges, the number of surf plan users are less than that of ulimate plan users. While for the number of minutes exceeding 60000 minutes, there are only users from surf plans and none from ultimate plans. "
   ]
  },
  {
   "cell_type": "markdown",
   "metadata": {},
   "source": [
    "### Calculate the mean and the variable of the call duration to reason on whether users on the different plans have different behaviours for their calls."
   ]
  },
  {
   "cell_type": "code",
   "execution_count": 141,
   "metadata": {},
   "outputs": [
    {
     "data": {
      "text/html": [
       "<div>\n",
       "<style scoped>\n",
       "    .dataframe tbody tr th:only-of-type {\n",
       "        vertical-align: middle;\n",
       "    }\n",
       "\n",
       "    .dataframe tbody tr th {\n",
       "        vertical-align: top;\n",
       "    }\n",
       "\n",
       "    .dataframe thead th {\n",
       "        text-align: right;\n",
       "    }\n",
       "</style>\n",
       "<table border=\"1\" class=\"dataframe\">\n",
       "  <thead>\n",
       "    <tr style=\"text-align: right;\">\n",
       "      <th></th>\n",
       "      <th>plan</th>\n",
       "      <th>month</th>\n",
       "      <th>mean</th>\n",
       "      <th>var</th>\n",
       "    </tr>\n",
       "  </thead>\n",
       "  <tbody>\n",
       "    <tr>\n",
       "      <th>0</th>\n",
       "      <td>surf</td>\n",
       "      <td>2018-01</td>\n",
       "      <td>203.000000</td>\n",
       "      <td>15842.000000</td>\n",
       "    </tr>\n",
       "    <tr>\n",
       "      <th>1</th>\n",
       "      <td>surf</td>\n",
       "      <td>2018-02</td>\n",
       "      <td>297.000000</td>\n",
       "      <td>52226.500000</td>\n",
       "    </tr>\n",
       "    <tr>\n",
       "      <th>2</th>\n",
       "      <td>surf</td>\n",
       "      <td>2018-03</td>\n",
       "      <td>330.000000</td>\n",
       "      <td>35809.363636</td>\n",
       "    </tr>\n",
       "    <tr>\n",
       "      <th>3</th>\n",
       "      <td>surf</td>\n",
       "      <td>2018-04</td>\n",
       "      <td>351.540000</td>\n",
       "      <td>50866.743265</td>\n",
       "    </tr>\n",
       "    <tr>\n",
       "      <th>4</th>\n",
       "      <td>surf</td>\n",
       "      <td>2018-05</td>\n",
       "      <td>399.584416</td>\n",
       "      <td>59754.219754</td>\n",
       "    </tr>\n",
       "  </tbody>\n",
       "</table>\n",
       "</div>"
      ],
      "text/plain": [
       "   plan    month        mean           var\n",
       "0  surf  2018-01  203.000000  15842.000000\n",
       "1  surf  2018-02  297.000000  52226.500000\n",
       "2  surf  2018-03  330.000000  35809.363636\n",
       "3  surf  2018-04  351.540000  50866.743265\n",
       "4  surf  2018-05  399.584416  59754.219754"
      ]
     },
     "metadata": {},
     "output_type": "display_data"
    }
   ],
   "source": [
    "# Calculate the mean and the variance of the monthly call duration\n",
    "monthly_call_stats = plan_information.groupby(['plan','month'])['call_duration'].agg(['mean', 'var']).reset_index()\n",
    "display(monthly_call_stats.head())"
   ]
  },
  {
   "cell_type": "code",
   "execution_count": null,
   "metadata": {},
   "outputs": [
    {
     "data": {
      "image/png": "[encoded data removed]",
      "text/plain": [
       "<Figure size 800x600 with 1 Axes>"
      ]
     },
     "metadata": {},
     "output_type": "display_data"
    }
   ],
   "source": [
    "# Create a box plot to visualize the distribution of the monthly call duration for each plan.\n",
    "plt.figure(figsize=(8, 6))\n",
    "sns.boxplot(data= plan_information, \n",
    "            x='month', \n",
    "            y='call_duration')\n",
    "plt.title('Distribution of the monthly call duration')\n",
    "plt.xlabel('Month')\n",
    "plt.ylabel=('Call duration (minutes)')\n",
    "plt.xticks(rotation=50)  # Keep the x-axis labels horizontal for readability\n",
    "plt.show()"
   ]
  },
  {
   "cell_type": "markdown",
   "metadata": {},
   "source": [
    "From the mean and variance, it can be known that there in not much difference in there call behavior between the plans. "
   ]
  },
  {
   "cell_type": "code",
   "execution_count": null,
   "metadata": {},
   "outputs": [
    {
     "data": {
      "text/html": [
       "<div>\n",
       "<style scoped>\n",
       "    .dataframe tbody tr th:only-of-type {\n",
       "        vertical-align: middle;\n",
       "    }\n",
       "\n",
       "    .dataframe tbody tr th {\n",
       "        vertical-align: top;\n",
       "    }\n",
       "\n",
       "    .dataframe thead th {\n",
       "        text-align: right;\n",
       "    }\n",
       "</style>\n",
       "<table border=\"1\" class=\"dataframe\">\n",
       "  <thead>\n",
       "    <tr style=\"text-align: right;\">\n",
       "      <th></th>\n",
       "      <th>plan</th>\n",
       "      <th>month</th>\n",
       "      <th>messages_count</th>\n",
       "    </tr>\n",
       "  </thead>\n",
       "  <tbody>\n",
       "    <tr>\n",
       "      <th>0</th>\n",
       "      <td>surf</td>\n",
       "      <td>2018-01</td>\n",
       "      <td>21.0</td>\n",
       "    </tr>\n",
       "    <tr>\n",
       "      <th>1</th>\n",
       "      <td>surf</td>\n",
       "      <td>2018-02</td>\n",
       "      <td>108.0</td>\n",
       "    </tr>\n",
       "    <tr>\n",
       "      <th>2</th>\n",
       "      <td>surf</td>\n",
       "      <td>2018-03</td>\n",
       "      <td>351.0</td>\n",
       "    </tr>\n",
       "    <tr>\n",
       "      <th>3</th>\n",
       "      <td>surf</td>\n",
       "      <td>2018-04</td>\n",
       "      <td>870.0</td>\n",
       "    </tr>\n",
       "    <tr>\n",
       "      <th>4</th>\n",
       "      <td>surf</td>\n",
       "      <td>2018-05</td>\n",
       "      <td>1849.0</td>\n",
       "    </tr>\n",
       "  </tbody>\n",
       "</table>\n",
       "</div>"
      ],
      "text/plain": [
       "   plan    month  messages_count\n",
       "0  surf  2018-01            21.0\n",
       "1  surf  2018-02           108.0\n",
       "2  surf  2018-03           351.0\n",
       "3  surf  2018-04           870.0\n",
       "4  surf  2018-05          1849.0"
      ]
     },
     "metadata": {},
     "output_type": "display_data"
    }
   ],
   "source": [
    "# Calculate the number of messages users of each plan tend to send each month\n",
    "messages_per_plan_per_month = plan_information.groupby(['plan', 'month'])['messages_count'].sum().reset_index()\n",
    "display(messages_per_plan_per_month.head())\n"
   ]
  },
  {
   "cell_type": "code",
   "execution_count": null,
   "metadata": {},
   "outputs": [
    {
     "data": {
      "image/png": "[encoded data removed]",
      "text/plain": [
       "<Figure size 800x600 with 1 Axes>"
      ]
     },
     "metadata": {},
     "output_type": "display_data"
    }
   ],
   "source": [
    "# Create a bar plot to visualize the total messages sent by users per plan in a month.\n",
    "plt.figure(figsize=(8, 6))\n",
    "sns.barplot(data= messages_per_plan_per_month, \n",
    "            x='month', \n",
    "            y='messages_count', \n",
    "            hue='plan')\n",
    "plt.title('Total messages sent by users in a month per plan')\n",
    "plt.xlabel('Month')\n",
    "plt.xticks(rotation=50)  \n",
    "plt.show()"
   ]
  },
  {
   "cell_type": "markdown",
   "metadata": {},
   "source": [
    "The graph above shows the number of messages sent by the users of each plan per month. From the graph it can be known that, over the course of the year, the number of messages sent by the users increases as month passes starting from Jan till Dec in both plans. But the number of messages sent by the users of surf plan is more than that of ultimate plans. There is huge difference between the number of messages sent by the users of both plans each month.. So, the trend of sending messages is same among the users from both plans, but the number of messages sent each month is different. Thus, it is known that the surf users send more messages compared to that of ultimate users. "
   ]
  },
  {
   "cell_type": "code",
   "execution_count": 147,
   "metadata": {},
   "outputs": [
    {
     "data": {
      "text/html": [
       "<div>\n",
       "<style scoped>\n",
       "    .dataframe tbody tr th:only-of-type {\n",
       "        vertical-align: middle;\n",
       "    }\n",
       "\n",
       "    .dataframe tbody tr th {\n",
       "        vertical-align: top;\n",
       "    }\n",
       "\n",
       "    .dataframe thead th {\n",
       "        text-align: right;\n",
       "    }\n",
       "</style>\n",
       "<table border=\"1\" class=\"dataframe\">\n",
       "  <thead>\n",
       "    <tr style=\"text-align: right;\">\n",
       "      <th></th>\n",
       "      <th>plan</th>\n",
       "      <th>month</th>\n",
       "      <th>mean</th>\n",
       "      <th>var</th>\n",
       "    </tr>\n",
       "  </thead>\n",
       "  <tbody>\n",
       "    <tr>\n",
       "      <th>0</th>\n",
       "      <td>surf</td>\n",
       "      <td>2018-01</td>\n",
       "      <td>10.500000</td>\n",
       "      <td>220.500000</td>\n",
       "    </tr>\n",
       "    <tr>\n",
       "      <th>1</th>\n",
       "      <td>surf</td>\n",
       "      <td>2018-02</td>\n",
       "      <td>12.000000</td>\n",
       "      <td>386.000000</td>\n",
       "    </tr>\n",
       "    <tr>\n",
       "      <th>2</th>\n",
       "      <td>surf</td>\n",
       "      <td>2018-03</td>\n",
       "      <td>15.260870</td>\n",
       "      <td>346.565217</td>\n",
       "    </tr>\n",
       "    <tr>\n",
       "      <th>3</th>\n",
       "      <td>surf</td>\n",
       "      <td>2018-04</td>\n",
       "      <td>17.400000</td>\n",
       "      <td>501.591837</td>\n",
       "    </tr>\n",
       "    <tr>\n",
       "      <th>4</th>\n",
       "      <td>surf</td>\n",
       "      <td>2018-05</td>\n",
       "      <td>24.012987</td>\n",
       "      <td>847.197198</td>\n",
       "    </tr>\n",
       "  </tbody>\n",
       "</table>\n",
       "</div>"
      ],
      "text/plain": [
       "   plan    month       mean         var\n",
       "0  surf  2018-01  10.500000  220.500000\n",
       "1  surf  2018-02  12.000000  386.000000\n",
       "2  surf  2018-03  15.260870  346.565217\n",
       "3  surf  2018-04  17.400000  501.591837\n",
       "4  surf  2018-05  24.012987  847.197198"
      ]
     },
     "metadata": {},
     "output_type": "display_data"
    }
   ],
   "source": [
    "# Calculate the mean and the variance of the monthly messages count\n",
    "monthly_messages_stats = plan_information.groupby(['plan','month'])['messages_count'].agg(['mean', 'var']).reset_index()\n",
    "display(monthly_messages_stats.head())"
   ]
  },
  {
   "cell_type": "code",
   "execution_count": null,
   "metadata": {},
   "outputs": [
    {
     "data": {
      "image/png": "[encoded data removed]",
      "text/plain": [
       "<Figure size 800x600 with 1 Axes>"
      ]
     },
     "metadata": {},
     "output_type": "display_data"
    }
   ],
   "source": [
    "# Create a box plot to visualize the distribution of the monthly messages count for each plan.\n",
    "plt.figure(figsize=(8, 6))\n",
    "sns.boxplot(data= plan_information, \n",
    "            x='month', \n",
    "            y='messages_count')\n",
    "plt.title('Distribution of the monthly messages count')\n",
    "plt.xlabel('Month')\n",
    "plt.ylabel=('Messages count')\n",
    "plt.xticks(rotation=50)  # Keep the x-axis labels horizontal for readability\n",
    "plt.show()"
   ]
  },
  {
   "cell_type": "markdown",
   "metadata": {},
   "source": [
    "As we move towards the end of the year, the variance of the messages sent decreases. Also, the mean of the messages sent each month by the users of both plans is almost the same. Lastly, it can be seen that some of the months have less or none outliers compare to the rest. "
   ]
  },
  {
   "cell_type": "markdown",
   "metadata": {},
   "source": [
    "### Internet"
   ]
  },
  {
   "cell_type": "code",
   "execution_count": null,
   "metadata": {},
   "outputs": [
    {
     "data": {
      "text/html": [
       "<div>\n",
       "<style scoped>\n",
       "    .dataframe tbody tr th:only-of-type {\n",
       "        vertical-align: middle;\n",
       "    }\n",
       "\n",
       "    .dataframe tbody tr th {\n",
       "        vertical-align: top;\n",
       "    }\n",
       "\n",
       "    .dataframe thead th {\n",
       "        text-align: right;\n",
       "    }\n",
       "</style>\n",
       "<table border=\"1\" class=\"dataframe\">\n",
       "  <thead>\n",
       "    <tr style=\"text-align: right;\">\n",
       "      <th></th>\n",
       "      <th>plan</th>\n",
       "      <th>month</th>\n",
       "      <th>gb_used</th>\n",
       "    </tr>\n",
       "  </thead>\n",
       "  <tbody>\n",
       "    <tr>\n",
       "      <th>0</th>\n",
       "      <td>surf</td>\n",
       "      <td>2018-01</td>\n",
       "      <td>9.521211</td>\n",
       "    </tr>\n",
       "    <tr>\n",
       "      <th>1</th>\n",
       "      <td>surf</td>\n",
       "      <td>2018-02</td>\n",
       "      <td>107.040615</td>\n",
       "    </tr>\n",
       "    <tr>\n",
       "      <th>2</th>\n",
       "      <td>surf</td>\n",
       "      <td>2018-03</td>\n",
       "      <td>299.751094</td>\n",
       "    </tr>\n",
       "    <tr>\n",
       "      <th>3</th>\n",
       "      <td>surf</td>\n",
       "      <td>2018-04</td>\n",
       "      <td>585.166162</td>\n",
       "    </tr>\n",
       "    <tr>\n",
       "      <th>4</th>\n",
       "      <td>surf</td>\n",
       "      <td>2018-05</td>\n",
       "      <td>1047.948564</td>\n",
       "    </tr>\n",
       "  </tbody>\n",
       "</table>\n",
       "</div>"
      ],
      "text/plain": [
       "   plan    month      gb_used\n",
       "0  surf  2018-01     9.521211\n",
       "1  surf  2018-02   107.040615\n",
       "2  surf  2018-03   299.751094\n",
       "3  surf  2018-04   585.166162\n",
       "4  surf  2018-05  1047.948564"
      ]
     },
     "metadata": {},
     "output_type": "display_data"
    }
   ],
   "source": [
    "# Compare the amount of internet traffic consumed by users per plan\n",
    "internet_per_plan_per_month = plan_information.groupby(['plan', 'month'])['gb_used'].sum().reset_index()\n",
    "display(internet_per_plan_per_month.head())\n"
   ]
  },
  {
   "cell_type": "code",
   "execution_count": null,
   "metadata": {},
   "outputs": [
    {
     "data": {
      "image/png": "[encoded data removed]",
      "text/plain": [
       "<Figure size 800x600 with 1 Axes>"
      ]
     },
     "metadata": {},
     "output_type": "display_data"
    }
   ],
   "source": [
    "# Create a bar plot to visualize the total internet traffic used by users per plan in a month.\n",
    "plt.figure(figsize=(8, 6))\n",
    "sns.barplot(data= internet_per_plan_per_month, \n",
    "            x='month', \n",
    "            y='gb_used', \n",
    "            hue='plan')\n",
    "plt.title('Internet used by users in a month per plan')\n",
    "plt.xlabel('Month')\n",
    "plt.ylabel=('Internet used')\n",
    "plt.xticks(rotation=50)  \n",
    "plt.show()"
   ]
  },
  {
   "cell_type": "markdown",
   "metadata": {},
   "source": [
    "The graph above shows the internet used by the users of each plan per month. From the graph it can be known that, over the course of the year, the internet used by the users increases as month passes starting from Jan till Dec in both plans. The internet used by the users of surf plan is more than that of ultimate plans. There is huge difference in the internet used by the users of both plans each month. So, the trend of using internet is same among the users from both plans, but the amount of internet used each month is different. Thus, it is known that the surf users had more internet usage compared to that of ultimate users which is similar to the trend of messages send in the previous graph. "
   ]
  },
  {
   "cell_type": "code",
   "execution_count": 151,
   "metadata": {},
   "outputs": [
    {
     "data": {
      "text/html": [
       "<div>\n",
       "<style scoped>\n",
       "    .dataframe tbody tr th:only-of-type {\n",
       "        vertical-align: middle;\n",
       "    }\n",
       "\n",
       "    .dataframe tbody tr th {\n",
       "        vertical-align: top;\n",
       "    }\n",
       "\n",
       "    .dataframe thead th {\n",
       "        text-align: right;\n",
       "    }\n",
       "</style>\n",
       "<table border=\"1\" class=\"dataframe\">\n",
       "  <thead>\n",
       "    <tr style=\"text-align: right;\">\n",
       "      <th></th>\n",
       "      <th>plan</th>\n",
       "      <th>month</th>\n",
       "      <th>mean</th>\n",
       "      <th>var</th>\n",
       "    </tr>\n",
       "  </thead>\n",
       "  <tbody>\n",
       "    <tr>\n",
       "      <th>0</th>\n",
       "      <td>surf</td>\n",
       "      <td>2018-01</td>\n",
       "      <td>4.760605</td>\n",
       "      <td>17.394976</td>\n",
       "    </tr>\n",
       "    <tr>\n",
       "      <th>1</th>\n",
       "      <td>surf</td>\n",
       "      <td>2018-02</td>\n",
       "      <td>11.893402</td>\n",
       "      <td>41.649779</td>\n",
       "    </tr>\n",
       "    <tr>\n",
       "      <th>2</th>\n",
       "      <td>surf</td>\n",
       "      <td>2018-03</td>\n",
       "      <td>13.032656</td>\n",
       "      <td>65.084035</td>\n",
       "    </tr>\n",
       "    <tr>\n",
       "      <th>3</th>\n",
       "      <td>surf</td>\n",
       "      <td>2018-04</td>\n",
       "      <td>11.703323</td>\n",
       "      <td>56.309643</td>\n",
       "    </tr>\n",
       "    <tr>\n",
       "      <th>4</th>\n",
       "      <td>surf</td>\n",
       "      <td>2018-05</td>\n",
       "      <td>13.609722</td>\n",
       "      <td>58.628592</td>\n",
       "    </tr>\n",
       "  </tbody>\n",
       "</table>\n",
       "</div>"
      ],
      "text/plain": [
       "   plan    month       mean        var\n",
       "0  surf  2018-01   4.760605  17.394976\n",
       "1  surf  2018-02  11.893402  41.649779\n",
       "2  surf  2018-03  13.032656  65.084035\n",
       "3  surf  2018-04  11.703323  56.309643\n",
       "4  surf  2018-05  13.609722  58.628592"
      ]
     },
     "metadata": {},
     "output_type": "display_data"
    }
   ],
   "source": [
    "# Calculate the mean and the variance of the monthly internet traffic used\n",
    "monthly_internet_stats = plan_information.groupby(['plan','month'])['gb_used'].agg(['mean', 'var']).reset_index()\n",
    "display(monthly_internet_stats.head())"
   ]
  },
  {
   "cell_type": "code",
   "execution_count": null,
   "metadata": {},
   "outputs": [
    {
     "data": {
      "image/png": "[encoded data removed]",
      "text/plain": [
       "<Figure size 800x600 with 1 Axes>"
      ]
     },
     "metadata": {},
     "output_type": "display_data"
    }
   ],
   "source": [
    "# Create a box plot to visualize the distribution of the monthly internet traffic used for each plan.\n",
    "plt.figure(figsize=(8, 6))\n",
    "sns.boxplot(data= plan_information, \n",
    "            x='month', \n",
    "            y='gb_used')\n",
    "plt.title('Distribution of the monthly internet usage')\n",
    "plt.xlabel('Month')\n",
    "plt.ylabel=('gb used')\n",
    "plt.xticks(rotation=50)  # Keep the x-axis labels horizontal for readability\n",
    "plt.show()"
   ]
  },
  {
   "cell_type": "markdown",
   "metadata": {},
   "source": [
    "Most of the months have same variance, while months such as May, March, April, and Feb have higher variance except month of Jan. Also, the mean of the messages sent each month by the users of both plans is almost the same, except month of Jan. Lastly, it can be seen that some of the months have less or none outliers compare to the rest. "
   ]
  },
  {
   "cell_type": "code",
   "execution_count": 155,
   "metadata": {},
   "outputs": [
    {
     "data": {
      "text/html": [
       "<div>\n",
       "<style scoped>\n",
       "    .dataframe tbody tr th:only-of-type {\n",
       "        vertical-align: middle;\n",
       "    }\n",
       "\n",
       "    .dataframe tbody tr th {\n",
       "        vertical-align: top;\n",
       "    }\n",
       "\n",
       "    .dataframe thead th {\n",
       "        text-align: right;\n",
       "    }\n",
       "</style>\n",
       "<table border=\"1\" class=\"dataframe\">\n",
       "  <thead>\n",
       "    <tr style=\"text-align: right;\">\n",
       "      <th></th>\n",
       "      <th>plan</th>\n",
       "      <th>month</th>\n",
       "      <th>state</th>\n",
       "      <th>revenue</th>\n",
       "    </tr>\n",
       "  </thead>\n",
       "  <tbody>\n",
       "    <tr>\n",
       "      <th>0</th>\n",
       "      <td>surf</td>\n",
       "      <td>2018-01</td>\n",
       "      <td>CO MSA</td>\n",
       "      <td>20.000000</td>\n",
       "    </tr>\n",
       "    <tr>\n",
       "      <th>1</th>\n",
       "      <td>surf</td>\n",
       "      <td>2018-01</td>\n",
       "      <td>PA-NJ-DE-MD MSA</td>\n",
       "      <td>20.000000</td>\n",
       "    </tr>\n",
       "    <tr>\n",
       "      <th>2</th>\n",
       "      <td>surf</td>\n",
       "      <td>2018-02</td>\n",
       "      <td>CA MSA</td>\n",
       "      <td>29.366699</td>\n",
       "    </tr>\n",
       "    <tr>\n",
       "      <th>3</th>\n",
       "      <td>surf</td>\n",
       "      <td>2018-02</td>\n",
       "      <td>CO MSA</td>\n",
       "      <td>89.359824</td>\n",
       "    </tr>\n",
       "    <tr>\n",
       "      <th>4</th>\n",
       "      <td>surf</td>\n",
       "      <td>2018-02</td>\n",
       "      <td>MA-NH MSA</td>\n",
       "      <td>26.663867</td>\n",
       "    </tr>\n",
       "  </tbody>\n",
       "</table>\n",
       "</div>"
      ],
      "text/plain": [
       "   plan    month            state    revenue\n",
       "0  surf  2018-01           CO MSA  20.000000\n",
       "1  surf  2018-01  PA-NJ-DE-MD MSA  20.000000\n",
       "2  surf  2018-02           CA MSA  29.366699\n",
       "3  surf  2018-02           CO MSA  89.359824\n",
       "4  surf  2018-02        MA-NH MSA  26.663867"
      ]
     },
     "metadata": {},
     "output_type": "display_data"
    }
   ],
   "source": [
    "# Calculate the mean and the variance of the monthly revenue\n",
    "plan_revenue_stats = plan_information.groupby(['plan', 'month', 'state'])['revenue'].sum().reset_index()\n",
    "display(plan_revenue_stats.head())"
   ]
  },
  {
   "cell_type": "code",
   "execution_count": null,
   "metadata": {},
   "outputs": [
    {
     "data": {
      "image/png": "[encoded data removed]",
      "text/plain": [
       "<Figure size 800x600 with 1 Axes>"
      ]
     },
     "metadata": {},
     "output_type": "display_data"
    }
   ],
   "source": [
    "# Create a bar plot to visualize the total revenue generated by users per plan in a month.\n",
    "plt.figure(figsize=(8, 6))\n",
    "sns.barplot(data= plan_revenue_stats, \n",
    "            x='month', \n",
    "            y='revenue', \n",
    "            hue='plan')\n",
    "plt.title('Revenue in a month per plan')\n",
    "plt.xlabel('Month')\n",
    "plt.ylabel=('Revenue')\n",
    "plt.xticks(rotation=50)  \n",
    "plt.show()"
   ]
  },
  {
   "cell_type": "markdown",
   "metadata": {},
   "source": [
    "The graph above shows the revenue generated by the users of each plan per month. From the graph it can be known that, over the course of the year, the revenue generated by the users increases as month passes starting from Jan till Dec in both plans. Even though the number of calls done, messsage sent, and internet usage is more by the users of surf plan when compared to that of ultimate plan, the revenue generated by the users of ultimate plan each month is more than that of surf plan. "
   ]
  },
  {
   "cell_type": "code",
   "execution_count": 157,
   "metadata": {},
   "outputs": [
    {
     "data": {
      "text/html": [
       "<div>\n",
       "<style scoped>\n",
       "    .dataframe tbody tr th:only-of-type {\n",
       "        vertical-align: middle;\n",
       "    }\n",
       "\n",
       "    .dataframe tbody tr th {\n",
       "        vertical-align: top;\n",
       "    }\n",
       "\n",
       "    .dataframe thead th {\n",
       "        text-align: right;\n",
       "    }\n",
       "</style>\n",
       "<table border=\"1\" class=\"dataframe\">\n",
       "  <thead>\n",
       "    <tr style=\"text-align: right;\">\n",
       "      <th></th>\n",
       "      <th>plan</th>\n",
       "      <th>month</th>\n",
       "      <th>mean</th>\n",
       "      <th>var</th>\n",
       "    </tr>\n",
       "  </thead>\n",
       "  <tbody>\n",
       "    <tr>\n",
       "      <th>0</th>\n",
       "      <td>surf</td>\n",
       "      <td>2018-01</td>\n",
       "      <td>20.000000</td>\n",
       "      <td>0.000000</td>\n",
       "    </tr>\n",
       "    <tr>\n",
       "      <th>1</th>\n",
       "      <td>surf</td>\n",
       "      <td>2018-02</td>\n",
       "      <td>32.107222</td>\n",
       "      <td>390.555003</td>\n",
       "    </tr>\n",
       "    <tr>\n",
       "      <th>2</th>\n",
       "      <td>surf</td>\n",
       "      <td>2018-03</td>\n",
       "      <td>43.022875</td>\n",
       "      <td>1381.716673</td>\n",
       "    </tr>\n",
       "    <tr>\n",
       "      <th>3</th>\n",
       "      <td>surf</td>\n",
       "      <td>2018-04</td>\n",
       "      <td>37.974985</td>\n",
       "      <td>1094.999695</td>\n",
       "    </tr>\n",
       "    <tr>\n",
       "      <th>4</th>\n",
       "      <td>surf</td>\n",
       "      <td>2018-05</td>\n",
       "      <td>44.080927</td>\n",
       "      <td>1742.505216</td>\n",
       "    </tr>\n",
       "  </tbody>\n",
       "</table>\n",
       "</div>"
      ],
      "text/plain": [
       "   plan    month       mean          var\n",
       "0  surf  2018-01  20.000000     0.000000\n",
       "1  surf  2018-02  32.107222   390.555003\n",
       "2  surf  2018-03  43.022875  1381.716673\n",
       "3  surf  2018-04  37.974985  1094.999695\n",
       "4  surf  2018-05  44.080927  1742.505216"
      ]
     },
     "metadata": {},
     "output_type": "display_data"
    }
   ],
   "source": [
    "# Calculate the mean and the variance of the monthly revenue\n",
    "monthly_revenue_stats = plan_information.groupby(['plan','month'])['revenue'].agg(['mean', 'var']).reset_index()\n",
    "display(monthly_revenue_stats.head())"
   ]
  },
  {
   "cell_type": "code",
   "execution_count": null,
   "metadata": {},
   "outputs": [
    {
     "data": {
      "image/png": "[encoded data removed]",
      "text/plain": [
       "<Figure size 800x600 with 1 Axes>"
      ]
     },
     "metadata": {},
     "output_type": "display_data"
    }
   ],
   "source": [
    "# Create a box plot to visualize the distribution of the monthly revenue for each plan.\n",
    "plt.figure(figsize=(8, 6))\n",
    "sns.boxplot(data= plan_information, \n",
    "            x='month', \n",
    "            y='revenue')\n",
    "plt.title('Distribution of the monthly internet usage')\n",
    "plt.xlabel('Month')\n",
    "plt.ylabel=('Monthly revenue')\n",
    "plt.xticks(rotation=50)  # Keep the x-axis labels horizontal for readability\n",
    "plt.show()"
   ]
  },
  {
   "cell_type": "markdown",
   "metadata": {},
   "source": [
    "Most of the months have many outliers, but there are some months such as Jan and Feb which does not have asny outlier. Along with that, the means of most of the months revenue are same. Also there are some months which have 0 variance, and some have small whiskers which shows that there is small variance while some have large whikers signifying higher variance. "
   ]
  },
  {
   "cell_type": "markdown",
   "metadata": {},
   "source": [
    "## Test statistical hypothesis"
   ]
  },
  {
   "cell_type": "markdown",
   "metadata": {},
   "source": [
    "### First Hypothesis\n"
   ]
  },
  {
   "cell_type": "markdown",
   "metadata": {},
   "source": [
    "**HO:** The average revenue from users of the Ultimate and Surf calling plans are equal. <br>\n",
    "**HA:** The average revenue from users of the Ultimate calling plan is not equal to the Surf calling plan. <br>\n",
    "**Statistical test = t-test** <br>\n",
    "**Alpha value = 0.05**"
   ]
  },
  {
   "cell_type": "code",
   "execution_count": 161,
   "metadata": {},
   "outputs": [
    {
     "name": "stdout",
     "output_type": "stream",
     "text": [
      "273.57986522829054\n"
     ]
    }
   ],
   "source": [
    "# Calculate the mean revenue for 'surf' plan\n",
    "surf_revenue = plan_revenue_stats[plan_revenue_stats['plan'] == 'surf']['revenue'].mean()\n",
    "print(surf_revenue)"
   ]
  },
  {
   "cell_type": "code",
   "execution_count": 163,
   "metadata": {},
   "outputs": [
    {
     "data": {
      "text/plain": [
       "0    20.000000\n",
       "1    20.000000\n",
       "2    29.366699\n",
       "3    89.359824\n",
       "4    26.663867\n",
       "Name: revenue, dtype: float64"
      ]
     },
     "metadata": {},
     "output_type": "display_data"
    }
   ],
   "source": [
    "# Display the mean revenue for 'surf' plan\n",
    "surf_revenue = plan_revenue_stats[plan_revenue_stats['plan'] == 'surf']['revenue']\n",
    "display(surf_revenue.head())"
   ]
  },
  {
   "cell_type": "code",
   "execution_count": 165,
   "metadata": {},
   "outputs": [
    {
     "name": "stdout",
     "output_type": "stream",
     "text": [
      "211.07145261686992\n"
     ]
    }
   ],
   "source": [
    "# Calculate the mean revenue for 'ultimate' plan\n",
    "ultimate_revenue = plan_revenue_stats[plan_revenue_stats['plan'] == 'ultimate']['revenue'].mean()\n",
    "print(ultimate_revenue)"
   ]
  },
  {
   "cell_type": "code",
   "execution_count": 166,
   "metadata": {},
   "outputs": [
    {
     "data": {
      "text/plain": [
       "321    140.0\n",
       "322     70.0\n",
       "323     70.0\n",
       "324    140.0\n",
       "325    140.0\n",
       "Name: revenue, dtype: float64"
      ]
     },
     "metadata": {},
     "output_type": "display_data"
    }
   ],
   "source": [
    "# Display the mean revenue for 'ultimate' plan\n",
    "ultimate_revenue = plan_revenue_stats[plan_revenue_stats['plan'] == 'ultimate']['revenue']\n",
    "display(ultimate_revenue.head())"
   ]
  },
  {
   "cell_type": "code",
   "execution_count": null,
   "metadata": {},
   "outputs": [
    {
     "name": "stdout",
     "output_type": "stream",
     "text": [
      "p-value: 0.04532601166223383\n",
      "We reject the null hypothesis\n"
     ]
    }
   ],
   "source": [
    "# Perform a statistical test to check if the average revenue of the two plans is significantly different.\n",
    "\n",
    "# Set the significance level\n",
    "alpha = 0.05\n",
    "\n",
    "# Perform the t-test\n",
    "results = st.ttest_ind(surf_revenue, \n",
    "                       ultimate_revenue)\n",
    "\n",
    "# Print the results of the t-test\n",
    "print('p-value:', results.pvalue)\n",
    "\n",
    "if results.pvalue < alpha:\n",
    "    print(\"We reject the null hypothesis\")\n",
    "else:\n",
    "    print(\"We can't reject the null hypothesis\")\n",
    "    \n"
   ]
  },
  {
   "cell_type": "markdown",
   "metadata": {},
   "source": [
    "As the pvalue is less than alpha, we can reject the null hypothesis. This shows that the average revenue from users of the Ultimate plan is not equal to that of Surf plan. "
   ]
  },
  {
   "cell_type": "markdown",
   "metadata": {},
   "source": [
    "### Second Hypothesis\n"
   ]
  },
  {
   "cell_type": "markdown",
   "metadata": {},
   "source": [
    "**HO:** The average revenue from users in the NY-NJ area is equal to the average revenue of the users from the other regions. <br>\n",
    "**HA:** The average revenue from users in the NY-NJ area is equal to the average revenue of the users from the other regions. <br>\n",
    "**Statistical test = t-test** <br>\n",
    "**Alpha value = 0.05**"
   ]
  },
  {
   "cell_type": "code",
   "execution_count": null,
   "metadata": {
    "scrolled": true
   },
   "outputs": [
    {
     "data": {
      "text/plain": [
       "355     20.000000\n",
       "356    122.375117\n",
       "357     98.772070\n",
       "358     81.384844\n",
       "359     80.859844\n",
       "Name: revenue, dtype: float64"
      ]
     },
     "metadata": {},
     "output_type": "display_data"
    }
   ],
   "source": [
    "# Calculate the average revenue for each plan in New York and New Jersey\n",
    "ny_nj = plan_information[plan_information['state'].isin(['NY MSA', 'NJ MSA'])]\n",
    "ny_revenue = ny_nj['revenue']\n",
    "display(ny_revenue.head())\n"
   ]
  },
  {
   "cell_type": "code",
   "execution_count": 168,
   "metadata": {},
   "outputs": [
    {
     "data": {
      "text/plain": [
       "0    70.000000\n",
       "1    20.000000\n",
       "2    20.000000\n",
       "3    88.161191\n",
       "4    50.706055\n",
       "Name: revenue, dtype: float64"
      ]
     },
     "metadata": {},
     "output_type": "display_data"
    }
   ],
   "source": [
    "# Calculate the average revenue for each plan in other regions\n",
    "other_regions = plan_information[~plan_information['state'].isin(['NY MSA', 'NJ MSA'])]\n",
    "other_regions_revenue = other_regions['revenue']\n",
    "display(other_regions_revenue.head())"
   ]
  },
  {
   "cell_type": "code",
   "execution_count": 169,
   "metadata": {},
   "outputs": [
    {
     "name": "stdout",
     "output_type": "stream",
     "text": [
      "p-value: 0.2825664061789979\n",
      "We can't reject the null hypothesis\n"
     ]
    }
   ],
   "source": [
    "# Perform a statistical test to check if the average revenue of New York and New Jersey is significantly different from other regions.\n",
    "\n",
    "# Set the significance level\n",
    "alpha = 0.05\n",
    "\n",
    "# Perform the t-test\n",
    "results = st.ttest_ind(ny_revenue, other_regions_revenue)\n",
    "\n",
    "# Print the results of the t-test\n",
    "print('p-value:', results.pvalue)\n",
    "\n",
    "if results.pvalue < alpha:\n",
    "    print(\"We reject the null hypothesis\")\n",
    "else:\n",
    "    print(\"We can't reject the null hypothesis\")\n",
    "    \n"
   ]
  },
  {
   "cell_type": "markdown",
   "metadata": {},
   "source": [
    "As the pvalue is greater than alpha, we cannot reject the null hypothesis. This shows that the average revenue from users in the NJ-NY area is not equal to the average revenue from users in other regions."
   ]
  },
  {
   "cell_type": "markdown",
   "metadata": {},
   "source": [
    "## Overall Project Conclusion"
   ]
  },
  {
   "cell_type": "markdown",
   "metadata": {},
   "source": [
    "In this project a preliminary analysis of the plans based on a relatively small client selection was done. The data is of 500 Megaline clients which includes their primary information, number of calls they made, sent text messages, and internet used in 2018. Based on the datasets provided, the clients' behavior was analyzed and determine which prepaid plan brings in more revenue. From the analysis, it is known that there was similar behavior of the calls made by the users from both; surf and ultimate plans. Also the number of calls made by surf plan users were close to that of ultimate plan users. The behavior of surf plan users in sending messages is similar to that of theirs in internet usage. Also, the behavior of ultimate plan users in sending messages is similar to that of theirs in internet usage. The number of messages sent and internet usage was higher among the surf plan users than that of ultimate plan users. All the users from both plans had a increase in the messages sent and internet usage towards the end of the year which is in Dec when compared to that in Jan which is really low. Despite having more messages send and internet usage, the revenue generated by the users of surf users is less compared to that of ultimate users. As the number of message sent and interent usage was increasing as moving toward the end of the year, the revenue too was increasing by the end of the year. Based on the t-test hypothesis, it was known that the average revenue generated by the ultimate plan was higher compared to that of surf plan. Along with that the average revenue generated from the users of other regions is higher compared to that of NY-NJ regions. "
   ]
  }
 ],
 "metadata": {
  "ExecuteTimeLog": [
   {
    "duration": 828,
    "start_time": "2021-11-16T09:21:11.304Z"
   },
   {
    "duration": 893,
    "start_time": "2021-11-16T09:21:17.728Z"
   },
   {
    "duration": 1150,
    "start_time": "2021-11-16T09:21:29.568Z"
   },
   {
    "duration": 3,
    "start_time": "2021-11-16T09:24:14.495Z"
   },
   {
    "duration": 120,
    "start_time": "2021-11-16T09:24:46.630Z"
   },
   {
    "duration": 3,
    "start_time": "2021-11-16T09:28:27.882Z"
   },
   {
    "duration": 4,
    "start_time": "2021-11-16T09:29:54.281Z"
   },
   {
    "duration": 3,
    "start_time": "2021-11-16T09:30:45.936Z"
   },
   {
    "duration": 4,
    "start_time": "2021-11-16T09:31:06.300Z"
   },
   {
    "duration": 113,
    "start_time": "2021-11-16T09:31:37.208Z"
   },
   {
    "duration": 143,
    "start_time": "2021-11-16T09:31:48.656Z"
   },
   {
    "duration": 98,
    "start_time": "2021-11-16T09:31:55.678Z"
   },
   {
    "duration": 3,
    "start_time": "2021-11-16T09:32:08.535Z"
   },
   {
    "duration": 111,
    "start_time": "2021-11-16T09:32:10.120Z"
   },
   {
    "duration": 3,
    "start_time": "2021-11-16T09:32:15.732Z"
   },
   {
    "duration": 4,
    "start_time": "2021-11-16T09:32:29.423Z"
   },
   {
    "duration": 3,
    "start_time": "2021-11-16T10:03:03.074Z"
   },
   {
    "duration": 3,
    "start_time": "2021-11-16T10:10:01.288Z"
   },
   {
    "duration": 3,
    "start_time": "2021-11-16T10:10:46.923Z"
   },
   {
    "duration": 121,
    "start_time": "2021-11-16T10:37:46.494Z"
   },
   {
    "duration": 125,
    "start_time": "2021-11-16T10:38:20.632Z"
   },
   {
    "duration": 112,
    "start_time": "2021-11-16T10:46:53.001Z"
   },
   {
    "duration": 110,
    "start_time": "2021-11-16T10:48:25.775Z"
   },
   {
    "duration": 3,
    "start_time": "2021-11-16T10:50:18.720Z"
   },
   {
    "duration": 4,
    "start_time": "2021-11-16T10:50:37.649Z"
   },
   {
    "duration": 2,
    "start_time": "2021-11-16T10:50:51.884Z"
   },
   {
    "duration": 3,
    "start_time": "2021-11-16T10:51:56.237Z"
   },
   {
    "duration": 101,
    "start_time": "2021-11-16T10:53:13.791Z"
   },
   {
    "duration": 3,
    "start_time": "2021-11-16T10:55:59.186Z"
   },
   {
    "duration": 3,
    "start_time": "2021-11-16T10:56:10.751Z"
   },
   {
    "duration": 3,
    "start_time": "2021-11-16T10:56:49.038Z"
   },
   {
    "duration": 3,
    "start_time": "2021-11-16T10:56:49.174Z"
   },
   {
    "duration": 4,
    "start_time": "2021-11-16T10:56:49.414Z"
   },
   {
    "duration": 3,
    "start_time": "2021-11-16T10:56:49.680Z"
   },
   {
    "duration": 3,
    "start_time": "2021-11-16T10:56:50.370Z"
   },
   {
    "duration": 114,
    "start_time": "2021-11-16T10:59:34.518Z"
   },
   {
    "duration": 3,
    "start_time": "2021-11-16T11:01:41.201Z"
   },
   {
    "duration": 116,
    "start_time": "2021-11-16T11:01:48.754Z"
   },
   {
    "duration": 3,
    "start_time": "2021-11-16T11:02:16.685Z"
   },
   {
    "duration": 3,
    "start_time": "2021-11-16T11:02:19.479Z"
   },
   {
    "duration": 3,
    "start_time": "2021-11-16T11:02:47.067Z"
   },
   {
    "duration": 3,
    "start_time": "2021-11-16T11:02:49.353Z"
   },
   {
    "duration": 3,
    "start_time": "2021-11-16T11:03:07.835Z"
   },
   {
    "duration": 3,
    "start_time": "2021-11-16T11:03:07.953Z"
   },
   {
    "duration": 112,
    "start_time": "2021-11-16T11:07:52.072Z"
   },
   {
    "duration": 187,
    "start_time": "2021-11-16T11:09:23.468Z"
   },
   {
    "duration": 4,
    "start_time": "2021-11-16T11:10:01.455Z"
   },
   {
    "duration": 3,
    "start_time": "2021-11-16T11:10:05.069Z"
   },
   {
    "duration": 4,
    "start_time": "2021-11-16T11:10:13.376Z"
   },
   {
    "duration": 3,
    "start_time": "2021-11-16T11:10:14.434Z"
   },
   {
    "duration": 3,
    "start_time": "2021-11-16T11:10:22.853Z"
   },
   {
    "duration": 4,
    "start_time": "2021-11-16T11:27:29.279Z"
   },
   {
    "duration": 4,
    "start_time": "2021-11-16T11:29:08.919Z"
   },
   {
    "duration": 118,
    "start_time": "2021-11-16T11:29:46.703Z"
   },
   {
    "duration": 437,
    "start_time": "2021-11-16T11:36:02.181Z"
   },
   {
    "duration": 157,
    "start_time": "2021-11-16T11:36:14.388Z"
   },
   {
    "duration": 207,
    "start_time": "2021-11-16T11:47:15.898Z"
   },
   {
    "duration": 3,
    "start_time": "2021-11-16T11:53:52.092Z"
   },
   {
    "duration": 3,
    "start_time": "2021-11-16T11:53:52.236Z"
   },
   {
    "duration": 3,
    "start_time": "2021-11-16T11:59:12.005Z"
   },
   {
    "duration": 112,
    "start_time": "2021-11-16T12:00:33.446Z"
   },
   {
    "duration": 3,
    "start_time": "2021-11-16T12:02:14.453Z"
   },
   {
    "duration": 3,
    "start_time": "2021-11-16T12:02:39.512Z"
   },
   {
    "duration": 106,
    "start_time": "2021-11-16T12:03:03.460Z"
   },
   {
    "duration": 3,
    "start_time": "2021-11-17T20:37:21.139Z"
   },
   {
    "duration": 3,
    "start_time": "2021-11-17T20:37:22.229Z"
   },
   {
    "duration": 3,
    "start_time": "2021-11-17T20:38:38.806Z"
   },
   {
    "duration": 3,
    "start_time": "2021-11-17T20:38:41.958Z"
   },
   {
    "duration": 3,
    "start_time": "2021-11-17T20:43:46.551Z"
   },
   {
    "duration": 4,
    "start_time": "2021-11-17T20:58:21.835Z"
   },
   {
    "duration": 3,
    "start_time": "2021-11-17T20:59:21.872Z"
   },
   {
    "duration": 4,
    "start_time": "2021-11-17T20:59:45.352Z"
   },
   {
    "duration": 4,
    "start_time": "2021-11-17T20:59:49.646Z"
   },
   {
    "duration": 159,
    "start_time": "2021-11-17T21:02:26.949Z"
   },
   {
    "duration": 3,
    "start_time": "2021-11-17T21:03:53.461Z"
   },
   {
    "duration": 3,
    "start_time": "2021-11-17T21:03:53.694Z"
   },
   {
    "duration": 3,
    "start_time": "2021-11-17T21:05:28.145Z"
   },
   {
    "duration": 116,
    "start_time": "2021-11-17T21:05:57.787Z"
   },
   {
    "duration": 3,
    "start_time": "2021-11-17T21:06:37.993Z"
   },
   {
    "duration": 3,
    "start_time": "2021-11-17T21:06:38.261Z"
   },
   {
    "duration": 3,
    "start_time": "2021-11-17T21:11:54.358Z"
   },
   {
    "duration": 3,
    "start_time": "2021-11-17T21:12:43.846Z"
   },
   {
    "duration": 4,
    "start_time": "2021-11-17T21:13:08.773Z"
   },
   {
    "duration": 3,
    "start_time": "2021-11-17T21:14:44.441Z"
   },
   {
    "duration": 3,
    "start_time": "2021-11-17T21:15:42.059Z"
   },
   {
    "duration": 4,
    "start_time": "2021-11-17T21:15:51.995Z"
   },
   {
    "duration": 3,
    "start_time": "2021-11-17T21:15:53.923Z"
   },
   {
    "duration": 3,
    "start_time": "2021-11-17T21:15:55.282Z"
   },
   {
    "duration": 3,
    "start_time": "2021-11-17T21:16:28.492Z"
   },
   {
    "duration": 3,
    "start_time": "2021-11-17T21:16:32.603Z"
   },
   {
    "duration": 3,
    "start_time": "2021-11-17T21:17:06.941Z"
   },
   {
    "duration": 98,
    "start_time": "2021-11-17T21:18:05.733Z"
   },
   {
    "duration": 4,
    "start_time": "2021-11-17T21:21:35.255Z"
   },
   {
    "duration": 3,
    "start_time": "2021-11-17T21:21:37.804Z"
   },
   {
    "duration": 4,
    "start_time": "2021-11-17T21:23:06.071Z"
   },
   {
    "duration": 3,
    "start_time": "2021-11-17T21:23:24.799Z"
   },
   {
    "duration": 3,
    "start_time": "2021-11-17T21:23:32.591Z"
   },
   {
    "duration": 98,
    "start_time": "2021-11-17T21:28:31.559Z"
   },
   {
    "duration": 3,
    "start_time": "2021-11-17T21:28:45.448Z"
   },
   {
    "duration": 3,
    "start_time": "2021-11-17T21:29:17.303Z"
   },
   {
    "duration": 3,
    "start_time": "2021-11-17T21:29:29.617Z"
   },
   {
    "duration": 3,
    "start_time": "2021-11-17T21:29:32.681Z"
   },
   {
    "duration": 3,
    "start_time": "2021-11-17T21:36:11.474Z"
   },
   {
    "duration": 3,
    "start_time": "2021-11-17T21:36:14.791Z"
   },
   {
    "duration": 3,
    "start_time": "2021-11-17T21:36:53.943Z"
   },
   {
    "duration": 3,
    "start_time": "2021-11-17T21:36:56.165Z"
   },
   {
    "duration": 4,
    "start_time": "2021-11-17T21:37:16.590Z"
   },
   {
    "duration": 3,
    "start_time": "2021-11-17T21:37:22.702Z"
   },
   {
    "duration": 4,
    "start_time": "2021-11-17T21:38:03.479Z"
   },
   {
    "duration": 3,
    "start_time": "2021-11-17T21:38:08.601Z"
   },
   {
    "duration": 3,
    "start_time": "2021-11-17T21:38:12.928Z"
   },
   {
    "duration": 3,
    "start_time": "2021-11-17T21:38:48.896Z"
   },
   {
    "duration": 2,
    "start_time": "2021-11-17T21:38:49.171Z"
   },
   {
    "duration": 4,
    "start_time": "2021-11-17T21:39:57.889Z"
   },
   {
    "duration": 3,
    "start_time": "2021-11-17T21:39:58.057Z"
   },
   {
    "duration": 3,
    "start_time": "2021-11-17T21:41:20.108Z"
   },
   {
    "duration": 3,
    "start_time": "2021-11-17T21:41:20.629Z"
   },
   {
    "duration": 3,
    "start_time": "2021-11-17T21:42:49.136Z"
   },
   {
    "duration": 3,
    "start_time": "2021-11-17T21:43:15.137Z"
   },
   {
    "duration": 4,
    "start_time": "2021-11-17T21:43:16.766Z"
   },
   {
    "duration": 4,
    "start_time": "2021-11-17T21:43:31.711Z"
   },
   {
    "duration": 3,
    "start_time": "2021-11-17T21:43:36.312Z"
   },
   {
    "duration": 4,
    "start_time": "2021-11-17T21:45:08.825Z"
   },
   {
    "duration": 4,
    "start_time": "2021-11-17T21:45:10.119Z"
   },
   {
    "duration": 4,
    "start_time": "2021-11-17T21:45:13.748Z"
   },
   {
    "duration": 3,
    "start_time": "2021-11-17T21:45:22.219Z"
   },
   {
    "duration": 3,
    "start_time": "2021-11-17T21:45:33.412Z"
   },
   {
    "duration": 2,
    "start_time": "2021-11-17T21:46:01.885Z"
   },
   {
    "duration": 3,
    "start_time": "2021-11-17T21:46:03.628Z"
   },
   {
    "duration": 107,
    "start_time": "2021-11-17T21:47:32.512Z"
   },
   {
    "duration": 103,
    "start_time": "2021-11-17T21:50:36.243Z"
   },
   {
    "duration": 3,
    "start_time": "2021-11-18T06:28:31.440Z"
   },
   {
    "duration": 3,
    "start_time": "2021-11-18T06:29:00.168Z"
   },
   {
    "duration": 3,
    "start_time": "2021-11-18T06:31:27.008Z"
   },
   {
    "duration": 2,
    "start_time": "2021-11-18T06:35:34.288Z"
   },
   {
    "duration": 2,
    "start_time": "2021-11-18T06:38:04.527Z"
   },
   {
    "duration": 175,
    "start_time": "2024-09-09T00:55:46.885Z"
   },
   {
    "duration": 2509,
    "start_time": "2024-09-09T00:58:07.848Z"
   },
   {
    "duration": 81,
    "start_time": "2024-09-09T00:58:10.996Z"
   },
   {
    "duration": 2,
    "start_time": "2024-09-09T00:58:22.323Z"
   },
   {
    "duration": 19,
    "start_time": "2024-09-09T00:58:25.836Z"
   },
   {
    "duration": 458,
    "start_time": "2024-09-09T00:58:50.553Z"
   },
   {
    "duration": 218,
    "start_time": "2024-09-09T00:59:51.802Z"
   },
   {
    "duration": 78,
    "start_time": "2024-09-09T01:04:33.704Z"
   },
   {
    "duration": 62,
    "start_time": "2024-09-09T01:04:35.262Z"
   },
   {
    "duration": 39,
    "start_time": "2024-09-09T01:04:36.629Z"
   },
   {
    "duration": 10,
    "start_time": "2024-09-09T01:04:38.882Z"
   },
   {
    "duration": 11,
    "start_time": "2024-09-09T01:04:41.089Z"
   },
   {
    "duration": 93,
    "start_time": "2024-09-09T01:11:35.206Z"
   },
   {
    "duration": 76,
    "start_time": "2024-09-09T01:12:25.352Z"
   },
   {
    "duration": 34,
    "start_time": "2024-09-09T01:13:33.140Z"
   },
   {
    "duration": 25,
    "start_time": "2024-09-09T01:14:10.897Z"
   },
   {
    "duration": 37,
    "start_time": "2024-09-09T01:27:15.700Z"
   },
   {
    "duration": 29,
    "start_time": "2024-09-09T01:27:22.899Z"
   },
   {
    "duration": 27,
    "start_time": "2024-09-09T01:38:02.881Z"
   },
   {
    "duration": 40,
    "start_time": "2024-09-09T01:38:04.672Z"
   },
   {
    "duration": 27,
    "start_time": "2024-09-09T01:38:10.164Z"
   },
   {
    "duration": 16,
    "start_time": "2024-09-09T01:38:11.619Z"
   },
   {
    "duration": 17,
    "start_time": "2024-09-09T01:38:12.537Z"
   },
   {
    "duration": 25,
    "start_time": "2024-09-09T01:38:40.394Z"
   },
   {
    "duration": 29,
    "start_time": "2024-09-09T01:38:44.852Z"
   },
   {
    "duration": 38,
    "start_time": "2024-09-09T01:38:45.007Z"
   },
   {
    "duration": 25,
    "start_time": "2024-09-09T01:38:45.180Z"
   },
   {
    "duration": 13,
    "start_time": "2024-09-09T01:38:45.358Z"
   },
   {
    "duration": 19,
    "start_time": "2024-09-09T01:38:45.591Z"
   },
   {
    "duration": 27,
    "start_time": "2024-09-09T01:39:36.463Z"
   },
   {
    "duration": 39,
    "start_time": "2024-09-09T01:39:37.680Z"
   },
   {
    "duration": 30,
    "start_time": "2024-09-09T01:39:56.274Z"
   },
   {
    "duration": 16,
    "start_time": "2024-09-09T01:39:59.994Z"
   },
   {
    "duration": 5,
    "start_time": "2024-09-09T01:40:01.266Z"
   },
   {
    "duration": 5,
    "start_time": "2024-09-09T01:40:02.233Z"
   },
   {
    "duration": 12,
    "start_time": "2024-09-09T01:40:47.249Z"
   },
   {
    "duration": 10,
    "start_time": "2024-09-09T01:41:28.340Z"
   },
   {
    "duration": 12,
    "start_time": "2024-09-09T01:41:28.988Z"
   },
   {
    "duration": 4,
    "start_time": "2024-09-09T01:41:29.856Z"
   },
   {
    "duration": 13,
    "start_time": "2024-09-09T01:41:30.603Z"
   },
   {
    "duration": 4,
    "start_time": "2024-09-09T01:41:35.858Z"
   },
   {
    "duration": 2520,
    "start_time": "2024-09-09T17:17:59.496Z"
   },
   {
    "duration": 137,
    "start_time": "2024-09-09T17:18:06.409Z"
   },
   {
    "duration": 113,
    "start_time": "2024-09-09T17:18:07.879Z"
   },
   {
    "duration": 68,
    "start_time": "2024-09-09T17:18:08.817Z"
   },
   {
    "duration": 33,
    "start_time": "2024-09-09T17:18:09.586Z"
   },
   {
    "duration": 28,
    "start_time": "2024-09-09T17:18:10.243Z"
   },
   {
    "duration": 32,
    "start_time": "2024-09-09T17:18:12.169Z"
   },
   {
    "duration": 36,
    "start_time": "2024-09-09T17:18:12.766Z"
   },
   {
    "duration": 16,
    "start_time": "2024-09-09T17:18:13.351Z"
   },
   {
    "duration": 5,
    "start_time": "2024-09-09T17:18:13.968Z"
   },
   {
    "duration": 6,
    "start_time": "2024-09-09T17:18:14.558Z"
   },
   {
    "duration": 12,
    "start_time": "2024-09-09T17:18:15.164Z"
   },
   {
    "duration": 11,
    "start_time": "2024-09-09T17:18:15.833Z"
   },
   {
    "duration": 12,
    "start_time": "2024-09-09T17:18:16.586Z"
   },
   {
    "duration": 5,
    "start_time": "2024-09-09T17:18:17.253Z"
   },
   {
    "duration": 5,
    "start_time": "2024-09-09T17:18:17.897Z"
   },
   {
    "duration": 232,
    "start_time": "2024-09-09T17:37:01.032Z"
   },
   {
    "duration": 6,
    "start_time": "2024-09-09T17:38:20.494Z"
   },
   {
    "duration": 6,
    "start_time": "2024-09-09T17:53:04.033Z"
   },
   {
    "duration": 6,
    "start_time": "2024-09-09T17:53:23.616Z"
   },
   {
    "duration": 8,
    "start_time": "2024-09-09T17:58:10.607Z"
   },
   {
    "duration": 3,
    "start_time": "2024-09-09T17:58:43.228Z"
   },
   {
    "duration": 95,
    "start_time": "2024-09-09T17:58:43.703Z"
   },
   {
    "duration": 80,
    "start_time": "2024-09-09T17:58:43.826Z"
   },
   {
    "duration": 53,
    "start_time": "2024-09-09T17:58:43.965Z"
   },
   {
    "duration": 35,
    "start_time": "2024-09-09T17:58:44.126Z"
   },
   {
    "duration": 28,
    "start_time": "2024-09-09T17:58:44.295Z"
   },
   {
    "duration": 27,
    "start_time": "2024-09-09T17:58:44.766Z"
   },
   {
    "duration": 30,
    "start_time": "2024-09-09T17:58:44.970Z"
   },
   {
    "duration": 16,
    "start_time": "2024-09-09T17:58:45.162Z"
   },
   {
    "duration": 5,
    "start_time": "2024-09-09T17:58:45.357Z"
   },
   {
    "duration": 5,
    "start_time": "2024-09-09T17:58:45.564Z"
   },
   {
    "duration": 13,
    "start_time": "2024-09-09T17:58:45.776Z"
   },
   {
    "duration": 9,
    "start_time": "2024-09-09T17:58:46.003Z"
   },
   {
    "duration": 14,
    "start_time": "2024-09-09T17:58:46.646Z"
   },
   {
    "duration": 4,
    "start_time": "2024-09-09T17:58:46.862Z"
   },
   {
    "duration": 5,
    "start_time": "2024-09-09T17:58:47.067Z"
   },
   {
    "duration": 9,
    "start_time": "2024-09-09T17:58:47.715Z"
   },
   {
    "duration": 8,
    "start_time": "2024-09-09T18:00:14.834Z"
   },
   {
    "duration": 25,
    "start_time": "2024-09-09T18:01:33.950Z"
   },
   {
    "duration": 21,
    "start_time": "2024-09-09T18:02:08.279Z"
   },
   {
    "duration": 8,
    "start_time": "2024-09-09T18:02:19.324Z"
   },
   {
    "duration": 26,
    "start_time": "2024-09-09T18:02:27.248Z"
   },
   {
    "duration": 9,
    "start_time": "2024-09-09T18:15:42.267Z"
   },
   {
    "duration": 3,
    "start_time": "2024-09-09T18:24:57.723Z"
   },
   {
    "duration": 68,
    "start_time": "2024-09-09T18:24:59.721Z"
   },
   {
    "duration": 54,
    "start_time": "2024-09-09T18:25:00.961Z"
   },
   {
    "duration": 34,
    "start_time": "2024-09-09T18:25:03.844Z"
   },
   {
    "duration": 6,
    "start_time": "2024-09-09T18:25:05.051Z"
   },
   {
    "duration": 7,
    "start_time": "2024-09-09T18:25:07.631Z"
   },
   {
    "duration": 27,
    "start_time": "2024-09-09T18:25:13.802Z"
   },
   {
    "duration": 33,
    "start_time": "2024-09-09T18:25:20.052Z"
   },
   {
    "duration": 16,
    "start_time": "2024-09-09T18:25:20.883Z"
   },
   {
    "duration": 6,
    "start_time": "2024-09-09T18:25:21.641Z"
   },
   {
    "duration": 7,
    "start_time": "2024-09-09T18:25:22.467Z"
   },
   {
    "duration": 12,
    "start_time": "2024-09-09T18:25:23.310Z"
   },
   {
    "duration": 11,
    "start_time": "2024-09-09T18:25:24.060Z"
   },
   {
    "duration": 13,
    "start_time": "2024-09-09T18:25:24.748Z"
   },
   {
    "duration": 5,
    "start_time": "2024-09-09T18:25:25.485Z"
   },
   {
    "duration": 5,
    "start_time": "2024-09-09T18:25:26.316Z"
   },
   {
    "duration": 8,
    "start_time": "2024-09-09T18:25:27.332Z"
   },
   {
    "duration": 29,
    "start_time": "2024-09-09T18:26:01.302Z"
   },
   {
    "duration": 2,
    "start_time": "2024-09-09T18:26:01.475Z"
   },
   {
    "duration": 12,
    "start_time": "2024-09-09T18:28:11.640Z"
   },
   {
    "duration": 350,
    "start_time": "2024-09-09T18:28:20.655Z"
   },
   {
    "duration": 5,
    "start_time": "2024-09-09T18:28:47.159Z"
   },
   {
    "duration": 6,
    "start_time": "2024-09-09T18:29:33.593Z"
   },
   {
    "duration": 7,
    "start_time": "2024-09-09T18:29:50.362Z"
   },
   {
    "duration": 6,
    "start_time": "2024-09-09T18:30:03.954Z"
   },
   {
    "duration": 5,
    "start_time": "2024-09-09T18:30:14.486Z"
   },
   {
    "duration": 7,
    "start_time": "2024-09-09T18:30:23.234Z"
   },
   {
    "duration": 13,
    "start_time": "2024-09-09T18:30:48.394Z"
   },
   {
    "duration": 6,
    "start_time": "2024-09-09T18:31:04.201Z"
   },
   {
    "duration": 8,
    "start_time": "2024-09-09T18:42:52.586Z"
   },
   {
    "duration": 2435,
    "start_time": "2024-09-10T21:15:33.749Z"
   },
   {
    "duration": 106,
    "start_time": "2024-09-10T21:15:36.187Z"
   },
   {
    "duration": 82,
    "start_time": "2024-09-10T21:15:36.294Z"
   },
   {
    "duration": 68,
    "start_time": "2024-09-10T21:15:36.378Z"
   },
   {
    "duration": 8,
    "start_time": "2024-09-10T21:15:36.447Z"
   },
   {
    "duration": 9,
    "start_time": "2024-09-10T21:15:36.457Z"
   },
   {
    "duration": 33,
    "start_time": "2024-09-10T21:15:36.467Z"
   },
   {
    "duration": 38,
    "start_time": "2024-09-10T21:15:36.502Z"
   },
   {
    "duration": 17,
    "start_time": "2024-09-10T21:15:36.542Z"
   },
   {
    "duration": 6,
    "start_time": "2024-09-10T21:15:36.561Z"
   },
   {
    "duration": 12,
    "start_time": "2024-09-10T21:15:36.569Z"
   },
   {
    "duration": 11,
    "start_time": "2024-09-10T21:16:00.649Z"
   },
   {
    "duration": 10,
    "start_time": "2024-09-10T21:16:00.820Z"
   },
   {
    "duration": 12,
    "start_time": "2024-09-10T21:16:01.000Z"
   },
   {
    "duration": 5,
    "start_time": "2024-09-10T21:16:01.156Z"
   },
   {
    "duration": 4,
    "start_time": "2024-09-10T21:16:01.331Z"
   },
   {
    "duration": 31,
    "start_time": "2024-09-10T21:16:01.650Z"
   },
   {
    "duration": 5,
    "start_time": "2024-09-10T21:16:01.821Z"
   },
   {
    "duration": 4,
    "start_time": "2024-09-10T21:27:18.912Z"
   },
   {
    "duration": 4,
    "start_time": "2024-09-10T21:27:19.055Z"
   },
   {
    "duration": 11,
    "start_time": "2024-09-10T21:27:19.194Z"
   },
   {
    "duration": 11,
    "start_time": "2024-09-10T21:27:19.355Z"
   },
   {
    "duration": 11,
    "start_time": "2024-09-10T21:27:19.568Z"
   },
   {
    "duration": 4,
    "start_time": "2024-09-10T21:27:19.735Z"
   },
   {
    "duration": 4,
    "start_time": "2024-09-10T21:27:19.909Z"
   },
   {
    "duration": 28,
    "start_time": "2024-09-10T21:27:20.220Z"
   },
   {
    "duration": 5,
    "start_time": "2024-09-10T21:27:20.401Z"
   },
   {
    "duration": 21,
    "start_time": "2024-09-10T21:27:22.661Z"
   },
   {
    "duration": 5,
    "start_time": "2024-09-10T21:27:22.838Z"
   },
   {
    "duration": 8,
    "start_time": "2024-09-10T21:30:32.970Z"
   },
   {
    "duration": 32,
    "start_time": "2024-09-10T21:34:40.712Z"
   },
   {
    "duration": 3,
    "start_time": "2024-09-10T21:47:57.132Z"
   },
   {
    "duration": 70,
    "start_time": "2024-09-10T21:47:57.138Z"
   },
   {
    "duration": 50,
    "start_time": "2024-09-10T21:47:57.210Z"
   },
   {
    "duration": 34,
    "start_time": "2024-09-10T21:47:57.262Z"
   },
   {
    "duration": 6,
    "start_time": "2024-09-10T21:47:57.306Z"
   },
   {
    "duration": 6,
    "start_time": "2024-09-10T21:47:57.313Z"
   },
   {
    "duration": 27,
    "start_time": "2024-09-10T21:47:57.320Z"
   },
   {
    "duration": 30,
    "start_time": "2024-09-10T21:47:57.349Z"
   },
   {
    "duration": 34,
    "start_time": "2024-09-10T21:47:57.380Z"
   },
   {
    "duration": 5,
    "start_time": "2024-09-10T21:47:57.416Z"
   },
   {
    "duration": 5,
    "start_time": "2024-09-10T21:47:57.425Z"
   },
   {
    "duration": 12,
    "start_time": "2024-09-10T21:47:57.431Z"
   },
   {
    "duration": 11,
    "start_time": "2024-09-10T21:47:57.444Z"
   },
   {
    "duration": 15,
    "start_time": "2024-09-10T21:47:57.457Z"
   },
   {
    "duration": 4,
    "start_time": "2024-09-10T21:47:57.505Z"
   },
   {
    "duration": 3,
    "start_time": "2024-09-10T21:47:57.511Z"
   },
   {
    "duration": 28,
    "start_time": "2024-09-10T21:47:57.516Z"
   },
   {
    "duration": 5,
    "start_time": "2024-09-10T21:47:57.546Z"
   },
   {
    "duration": 54,
    "start_time": "2024-09-10T21:47:57.552Z"
   },
   {
    "duration": 4,
    "start_time": "2024-09-10T21:47:57.608Z"
   },
   {
    "duration": 8,
    "start_time": "2024-09-10T21:47:57.614Z"
   },
   {
    "duration": 30,
    "start_time": "2024-09-10T21:47:57.623Z"
   },
   {
    "duration": 6,
    "start_time": "2024-09-10T21:47:57.655Z"
   },
   {
    "duration": 54,
    "start_time": "2024-09-10T21:47:57.663Z"
   },
   {
    "duration": 5,
    "start_time": "2024-09-10T21:47:57.719Z"
   },
   {
    "duration": 28,
    "start_time": "2024-09-10T21:47:57.727Z"
   },
   {
    "duration": 7,
    "start_time": "2024-09-10T21:47:57.757Z"
   },
   {
    "duration": 2,
    "start_time": "2024-09-10T21:47:57.766Z"
   },
   {
    "duration": 2,
    "start_time": "2024-09-10T21:47:57.807Z"
   },
   {
    "duration": 2,
    "start_time": "2024-09-10T21:47:57.810Z"
   },
   {
    "duration": 3,
    "start_time": "2024-09-10T21:47:57.814Z"
   },
   {
    "duration": 2,
    "start_time": "2024-09-10T21:47:57.819Z"
   },
   {
    "duration": 2,
    "start_time": "2024-09-10T21:47:57.822Z"
   },
   {
    "duration": 2,
    "start_time": "2024-09-10T21:47:57.826Z"
   },
   {
    "duration": 2,
    "start_time": "2024-09-10T21:47:57.830Z"
   },
   {
    "duration": 2,
    "start_time": "2024-09-10T21:47:57.835Z"
   },
   {
    "duration": 3,
    "start_time": "2024-09-10T21:47:57.838Z"
   },
   {
    "duration": 3,
    "start_time": "2024-09-10T21:47:57.842Z"
   },
   {
    "duration": 2,
    "start_time": "2024-09-10T21:47:57.846Z"
   },
   {
    "duration": 2,
    "start_time": "2024-09-10T21:47:57.850Z"
   },
   {
    "duration": 51,
    "start_time": "2024-09-10T21:47:57.854Z"
   },
   {
    "duration": 2,
    "start_time": "2024-09-10T21:47:57.907Z"
   },
   {
    "duration": 2,
    "start_time": "2024-09-10T21:47:57.911Z"
   },
   {
    "duration": 15,
    "start_time": "2024-09-10T22:23:07.061Z"
   },
   {
    "duration": 16,
    "start_time": "2024-09-10T22:24:19.459Z"
   },
   {
    "duration": 26,
    "start_time": "2024-09-10T22:27:53.636Z"
   },
   {
    "duration": 136,
    "start_time": "2024-09-10T23:14:35.117Z"
   },
   {
    "duration": 26,
    "start_time": "2024-09-10T23:15:45.139Z"
   },
   {
    "duration": 130,
    "start_time": "2024-09-10T23:17:01.177Z"
   },
   {
    "duration": 25,
    "start_time": "2024-09-10T23:17:26.604Z"
   },
   {
    "duration": 27,
    "start_time": "2024-09-10T23:18:12.104Z"
   },
   {
    "duration": 22,
    "start_time": "2024-09-10T23:18:47.210Z"
   },
   {
    "duration": 14,
    "start_time": "2024-09-10T23:21:20.341Z"
   },
   {
    "duration": 20,
    "start_time": "2024-09-10T23:21:32.155Z"
   },
   {
    "duration": 14,
    "start_time": "2024-09-10T23:22:19.433Z"
   },
   {
    "duration": 385,
    "start_time": "2024-09-10T23:35:20.798Z"
   },
   {
    "duration": 22,
    "start_time": "2024-09-10T23:35:53.386Z"
   },
   {
    "duration": 3,
    "start_time": "2024-09-11T00:16:00.578Z"
   },
   {
    "duration": 69,
    "start_time": "2024-09-11T00:16:00.587Z"
   },
   {
    "duration": 61,
    "start_time": "2024-09-11T00:16:00.658Z"
   },
   {
    "duration": 33,
    "start_time": "2024-09-11T00:16:00.721Z"
   },
   {
    "duration": 5,
    "start_time": "2024-09-11T00:16:00.756Z"
   },
   {
    "duration": 5,
    "start_time": "2024-09-11T00:16:00.763Z"
   },
   {
    "duration": 44,
    "start_time": "2024-09-11T00:16:00.769Z"
   },
   {
    "duration": 30,
    "start_time": "2024-09-11T00:16:00.814Z"
   },
   {
    "duration": 14,
    "start_time": "2024-09-11T00:16:00.845Z"
   },
   {
    "duration": 6,
    "start_time": "2024-09-11T00:16:00.861Z"
   },
   {
    "duration": 6,
    "start_time": "2024-09-11T00:16:00.869Z"
   },
   {
    "duration": 38,
    "start_time": "2024-09-11T00:16:00.877Z"
   },
   {
    "duration": 11,
    "start_time": "2024-09-11T00:16:00.916Z"
   },
   {
    "duration": 13,
    "start_time": "2024-09-11T00:16:00.930Z"
   },
   {
    "duration": 4,
    "start_time": "2024-09-11T00:16:00.945Z"
   },
   {
    "duration": 5,
    "start_time": "2024-09-11T00:16:00.950Z"
   },
   {
    "duration": 65,
    "start_time": "2024-09-11T00:16:00.957Z"
   },
   {
    "duration": 5,
    "start_time": "2024-09-11T00:16:01.023Z"
   },
   {
    "duration": 19,
    "start_time": "2024-09-11T00:16:01.030Z"
   },
   {
    "duration": 4,
    "start_time": "2024-09-11T00:16:01.052Z"
   },
   {
    "duration": 7,
    "start_time": "2024-09-11T00:16:01.058Z"
   },
   {
    "duration": 64,
    "start_time": "2024-09-11T00:16:01.066Z"
   },
   {
    "duration": 6,
    "start_time": "2024-09-11T00:16:01.132Z"
   },
   {
    "duration": 21,
    "start_time": "2024-09-11T00:16:01.140Z"
   },
   {
    "duration": 5,
    "start_time": "2024-09-11T00:16:01.163Z"
   },
   {
    "duration": 59,
    "start_time": "2024-09-11T00:16:01.170Z"
   },
   {
    "duration": 6,
    "start_time": "2024-09-11T00:16:01.230Z"
   },
   {
    "duration": 3,
    "start_time": "2024-09-11T00:16:01.237Z"
   },
   {
    "duration": 32,
    "start_time": "2024-09-11T00:16:01.244Z"
   },
   {
    "duration": 34,
    "start_time": "2024-09-11T00:16:01.278Z"
   },
   {
    "duration": 21,
    "start_time": "2024-09-11T00:16:01.314Z"
   },
   {
    "duration": 98,
    "start_time": "2024-09-11T00:16:01.336Z"
   },
   {
    "duration": 2,
    "start_time": "2024-09-11T00:16:01.436Z"
   },
   {
    "duration": 2,
    "start_time": "2024-09-11T00:16:01.441Z"
   },
   {
    "duration": 2,
    "start_time": "2024-09-11T00:16:01.446Z"
   },
   {
    "duration": 2,
    "start_time": "2024-09-11T00:16:01.450Z"
   },
   {
    "duration": 3,
    "start_time": "2024-09-11T00:16:01.453Z"
   },
   {
    "duration": 3,
    "start_time": "2024-09-11T00:16:01.458Z"
   },
   {
    "duration": 2,
    "start_time": "2024-09-11T00:16:01.463Z"
   },
   {
    "duration": 38,
    "start_time": "2024-09-11T00:16:01.467Z"
   },
   {
    "duration": 3,
    "start_time": "2024-09-11T00:16:01.507Z"
   },
   {
    "duration": 2,
    "start_time": "2024-09-11T00:16:01.512Z"
   },
   {
    "duration": 2,
    "start_time": "2024-09-11T00:16:01.516Z"
   },
   {
    "duration": 30,
    "start_time": "2024-09-11T00:34:55.129Z"
   },
   {
    "duration": 26,
    "start_time": "2024-09-11T00:35:15.592Z"
   },
   {
    "duration": 26,
    "start_time": "2024-09-11T00:42:14.835Z"
   },
   {
    "duration": 161,
    "start_time": "2024-09-11T16:03:57.484Z"
   },
   {
    "duration": 11,
    "start_time": "2024-09-11T16:03:57.715Z"
   },
   {
    "duration": 12,
    "start_time": "2024-09-11T16:03:57.931Z"
   },
   {
    "duration": 11,
    "start_time": "2024-09-11T16:03:58.143Z"
   },
   {
    "duration": 2511,
    "start_time": "2024-09-11T16:04:02.986Z"
   },
   {
    "duration": 96,
    "start_time": "2024-09-11T16:04:05.500Z"
   },
   {
    "duration": 85,
    "start_time": "2024-09-11T16:04:05.598Z"
   },
   {
    "duration": 50,
    "start_time": "2024-09-11T16:04:05.686Z"
   },
   {
    "duration": 6,
    "start_time": "2024-09-11T16:04:05.777Z"
   },
   {
    "duration": 8,
    "start_time": "2024-09-11T16:04:06.366Z"
   },
   {
    "duration": 32,
    "start_time": "2024-09-11T16:04:19.643Z"
   },
   {
    "duration": 36,
    "start_time": "2024-09-11T16:04:20.695Z"
   },
   {
    "duration": 16,
    "start_time": "2024-09-11T16:04:21.839Z"
   },
   {
    "duration": 5,
    "start_time": "2024-09-11T16:04:22.837Z"
   },
   {
    "duration": 7,
    "start_time": "2024-09-11T16:04:23.625Z"
   },
   {
    "duration": 14,
    "start_time": "2024-09-11T16:04:24.569Z"
   },
   {
    "duration": 10,
    "start_time": "2024-09-11T16:04:25.421Z"
   },
   {
    "duration": 12,
    "start_time": "2024-09-11T16:04:25.901Z"
   },
   {
    "duration": 2820,
    "start_time": "2024-09-11T18:38:25.561Z"
   },
   {
    "duration": 108,
    "start_time": "2024-09-11T18:38:28.384Z"
   },
   {
    "duration": 98,
    "start_time": "2024-09-11T18:38:28.494Z"
   },
   {
    "duration": 67,
    "start_time": "2024-09-11T18:38:28.594Z"
   },
   {
    "duration": 7,
    "start_time": "2024-09-11T18:38:28.663Z"
   },
   {
    "duration": 7,
    "start_time": "2024-09-11T18:38:28.672Z"
   },
   {
    "duration": 51,
    "start_time": "2024-09-11T18:38:28.680Z"
   },
   {
    "duration": 40,
    "start_time": "2024-09-11T18:38:28.741Z"
   },
   {
    "duration": 16,
    "start_time": "2024-09-11T18:38:28.782Z"
   },
   {
    "duration": 16,
    "start_time": "2024-09-11T18:38:28.800Z"
   },
   {
    "duration": 6,
    "start_time": "2024-09-11T18:38:28.829Z"
   },
   {
    "duration": 12,
    "start_time": "2024-09-11T18:38:28.837Z"
   },
   {
    "duration": 10,
    "start_time": "2024-09-11T18:38:28.850Z"
   },
   {
    "duration": 28,
    "start_time": "2024-09-11T18:38:28.905Z"
   },
   {
    "duration": 8,
    "start_time": "2024-09-11T18:38:29.113Z"
   },
   {
    "duration": 5,
    "start_time": "2024-09-11T18:38:29.289Z"
   },
   {
    "duration": 31,
    "start_time": "2024-09-11T18:38:29.724Z"
   },
   {
    "duration": 5,
    "start_time": "2024-09-11T18:38:29.889Z"
   },
   {
    "duration": 22,
    "start_time": "2024-09-11T18:38:31.858Z"
   },
   {
    "duration": 5,
    "start_time": "2024-09-11T18:38:32.065Z"
   },
   {
    "duration": 9,
    "start_time": "2024-09-11T18:38:33.067Z"
   },
   {
    "duration": 34,
    "start_time": "2024-09-11T18:38:34.025Z"
   },
   {
    "duration": 8,
    "start_time": "2024-09-11T18:38:34.377Z"
   },
   {
    "duration": 44,
    "start_time": "2024-09-11T18:38:36.388Z"
   },
   {
    "duration": 6,
    "start_time": "2024-09-11T18:38:36.647Z"
   },
   {
    "duration": 34,
    "start_time": "2024-09-11T18:38:38.595Z"
   },
   {
    "duration": 20,
    "start_time": "2024-09-11T18:38:38.804Z"
   },
   {
    "duration": 2,
    "start_time": "2024-09-11T18:38:41.337Z"
   },
   {
    "duration": 51,
    "start_time": "2024-09-11T18:38:41.781Z"
   },
   {
    "duration": 33,
    "start_time": "2024-09-11T18:38:42.001Z"
   },
   {
    "duration": 25,
    "start_time": "2024-09-11T18:38:42.225Z"
   },
   {
    "duration": 47,
    "start_time": "2024-09-11T18:38:42.425Z"
   },
   {
    "duration": 2,
    "start_time": "2024-09-11T18:38:42.859Z"
   },
   {
    "duration": 2,
    "start_time": "2024-09-11T18:38:43.076Z"
   },
   {
    "duration": 7,
    "start_time": "2024-09-11T18:38:43.517Z"
   },
   {
    "duration": 2,
    "start_time": "2024-09-11T18:38:44.401Z"
   },
   {
    "duration": 2,
    "start_time": "2024-09-11T18:38:44.596Z"
   },
   {
    "duration": 2,
    "start_time": "2024-09-11T18:38:45.036Z"
   },
   {
    "duration": 2,
    "start_time": "2024-09-11T18:38:45.259Z"
   },
   {
    "duration": 2,
    "start_time": "2024-09-11T18:38:46.126Z"
   },
   {
    "duration": 2,
    "start_time": "2024-09-11T18:38:46.358Z"
   },
   {
    "duration": 3,
    "start_time": "2024-09-11T22:04:03.739Z"
   },
   {
    "duration": 21,
    "start_time": "2024-09-11T22:04:49.470Z"
   },
   {
    "duration": 10,
    "start_time": "2024-09-11T22:05:00.563Z"
   },
   {
    "duration": 9,
    "start_time": "2024-09-11T22:05:50.877Z"
   },
   {
    "duration": 13,
    "start_time": "2024-09-11T22:17:01.231Z"
   },
   {
    "duration": 17,
    "start_time": "2024-09-11T22:18:53.303Z"
   },
   {
    "duration": 291,
    "start_time": "2024-09-11T22:23:49.569Z"
   },
   {
    "duration": 322,
    "start_time": "2024-09-11T22:24:12.510Z"
   },
   {
    "duration": 171,
    "start_time": "2024-09-11T22:33:20.886Z"
   },
   {
    "duration": 180,
    "start_time": "2024-09-11T22:34:56.546Z"
   },
   {
    "duration": 182,
    "start_time": "2024-09-11T22:36:08.746Z"
   },
   {
    "duration": 443,
    "start_time": "2024-09-11T22:47:21.007Z"
   },
   {
    "duration": 239,
    "start_time": "2024-09-11T22:47:30.481Z"
   },
   {
    "duration": 293,
    "start_time": "2024-09-11T22:49:09.025Z"
   },
   {
    "duration": 409,
    "start_time": "2024-09-11T23:03:24.076Z"
   },
   {
    "duration": 30,
    "start_time": "2024-09-11T23:03:46.614Z"
   },
   {
    "duration": 22,
    "start_time": "2024-09-11T23:03:52.974Z"
   },
   {
    "duration": 6,
    "start_time": "2024-09-11T23:03:56.923Z"
   },
   {
    "duration": 20,
    "start_time": "2024-09-11T23:04:01.359Z"
   },
   {
    "duration": 41,
    "start_time": "2024-09-11T23:06:09.322Z"
   },
   {
    "duration": 4,
    "start_time": "2024-09-11T23:07:01.066Z"
   },
   {
    "duration": 9,
    "start_time": "2024-09-11T23:09:30.452Z"
   },
   {
    "duration": 65,
    "start_time": "2024-09-11T23:12:43.486Z"
   },
   {
    "duration": 7,
    "start_time": "2024-09-11T23:13:03.777Z"
   },
   {
    "duration": 6,
    "start_time": "2024-09-11T23:15:10.030Z"
   },
   {
    "duration": 11,
    "start_time": "2024-09-11T23:15:56.456Z"
   },
   {
    "duration": 13,
    "start_time": "2024-09-11T23:16:21.200Z"
   },
   {
    "duration": 14,
    "start_time": "2024-09-11T23:16:44.298Z"
   },
   {
    "duration": 14,
    "start_time": "2024-09-11T23:17:40.018Z"
   },
   {
    "duration": 599,
    "start_time": "2024-09-11T23:17:43.589Z"
   },
   {
    "duration": 3,
    "start_time": "2024-09-11T23:17:51.756Z"
   },
   {
    "duration": 73,
    "start_time": "2024-09-11T23:17:51.763Z"
   },
   {
    "duration": 65,
    "start_time": "2024-09-11T23:17:51.838Z"
   },
   {
    "duration": 36,
    "start_time": "2024-09-11T23:17:51.905Z"
   },
   {
    "duration": 6,
    "start_time": "2024-09-11T23:17:51.942Z"
   },
   {
    "duration": 22,
    "start_time": "2024-09-11T23:17:51.951Z"
   },
   {
    "duration": 12,
    "start_time": "2024-09-11T23:17:51.974Z"
   },
   {
    "duration": 9,
    "start_time": "2024-09-11T23:17:51.987Z"
   },
   {
    "duration": 11,
    "start_time": "2024-09-11T23:17:51.998Z"
   },
   {
    "duration": 4,
    "start_time": "2024-09-11T23:17:52.010Z"
   },
   {
    "duration": 4,
    "start_time": "2024-09-11T23:17:52.016Z"
   },
   {
    "duration": 61,
    "start_time": "2024-09-11T23:17:52.021Z"
   },
   {
    "duration": 6,
    "start_time": "2024-09-11T23:17:52.084Z"
   },
   {
    "duration": 5,
    "start_time": "2024-09-11T23:17:52.091Z"
   },
   {
    "duration": 8,
    "start_time": "2024-09-11T23:17:52.100Z"
   },
   {
    "duration": 22,
    "start_time": "2024-09-11T23:17:52.110Z"
   },
   {
    "duration": 37,
    "start_time": "2024-09-11T23:17:52.133Z"
   },
   {
    "duration": 17,
    "start_time": "2024-09-11T23:17:52.172Z"
   },
   {
    "duration": 4,
    "start_time": "2024-09-11T23:17:52.191Z"
   },
   {
    "duration": 31,
    "start_time": "2024-09-11T23:17:52.196Z"
   },
   {
    "duration": 6,
    "start_time": "2024-09-11T23:17:52.229Z"
   },
   {
    "duration": 49,
    "start_time": "2024-09-11T23:17:52.270Z"
   },
   {
    "duration": 9,
    "start_time": "2024-09-11T23:17:52.321Z"
   },
   {
    "duration": 40,
    "start_time": "2024-09-11T23:17:52.333Z"
   },
   {
    "duration": 5,
    "start_time": "2024-09-11T23:17:52.375Z"
   },
   {
    "duration": 28,
    "start_time": "2024-09-11T23:17:52.383Z"
   },
   {
    "duration": 6,
    "start_time": "2024-09-11T23:17:52.413Z"
   },
   {
    "duration": 59,
    "start_time": "2024-09-11T23:17:52.421Z"
   },
   {
    "duration": 6,
    "start_time": "2024-09-11T23:17:52.482Z"
   },
   {
    "duration": 55,
    "start_time": "2024-09-11T23:17:52.489Z"
   },
   {
    "duration": 28,
    "start_time": "2024-09-11T23:17:52.547Z"
   },
   {
    "duration": 3,
    "start_time": "2024-09-11T23:17:52.577Z"
   },
   {
    "duration": 259,
    "start_time": "2024-09-11T23:17:52.581Z"
   },
   {
    "duration": 0,
    "start_time": "2024-09-11T23:17:52.842Z"
   },
   {
    "duration": 0,
    "start_time": "2024-09-11T23:17:52.843Z"
   },
   {
    "duration": 0,
    "start_time": "2024-09-11T23:17:52.845Z"
   },
   {
    "duration": 0,
    "start_time": "2024-09-11T23:17:52.846Z"
   },
   {
    "duration": 0,
    "start_time": "2024-09-11T23:17:52.847Z"
   },
   {
    "duration": 0,
    "start_time": "2024-09-11T23:17:52.848Z"
   },
   {
    "duration": 0,
    "start_time": "2024-09-11T23:17:52.848Z"
   },
   {
    "duration": 0,
    "start_time": "2024-09-11T23:17:52.849Z"
   },
   {
    "duration": 0,
    "start_time": "2024-09-11T23:17:52.851Z"
   },
   {
    "duration": 0,
    "start_time": "2024-09-11T23:17:52.852Z"
   },
   {
    "duration": 0,
    "start_time": "2024-09-11T23:17:52.870Z"
   },
   {
    "duration": 0,
    "start_time": "2024-09-11T23:17:52.871Z"
   },
   {
    "duration": 0,
    "start_time": "2024-09-11T23:17:52.872Z"
   },
   {
    "duration": 0,
    "start_time": "2024-09-11T23:17:52.874Z"
   },
   {
    "duration": 14,
    "start_time": "2024-09-11T23:18:15.803Z"
   },
   {
    "duration": 13,
    "start_time": "2024-09-11T23:18:23.571Z"
   },
   {
    "duration": 321,
    "start_time": "2024-09-11T23:18:27.810Z"
   },
   {
    "duration": 29,
    "start_time": "2024-09-11T23:18:42.957Z"
   },
   {
    "duration": 2390,
    "start_time": "2024-09-12T05:41:46.977Z"
   },
   {
    "duration": 102,
    "start_time": "2024-09-12T05:41:49.369Z"
   },
   {
    "duration": 87,
    "start_time": "2024-09-12T05:41:49.473Z"
   },
   {
    "duration": 50,
    "start_time": "2024-09-12T05:41:51.446Z"
   },
   {
    "duration": 7,
    "start_time": "2024-09-12T05:41:52.061Z"
   },
   {
    "duration": 8,
    "start_time": "2024-09-12T05:41:52.515Z"
   },
   {
    "duration": 13,
    "start_time": "2024-09-12T05:41:55.900Z"
   },
   {
    "duration": 10,
    "start_time": "2024-09-12T05:41:56.417Z"
   },
   {
    "duration": 11,
    "start_time": "2024-09-12T05:41:56.745Z"
   },
   {
    "duration": 4,
    "start_time": "2024-09-12T05:41:57.026Z"
   },
   {
    "duration": 4,
    "start_time": "2024-09-12T05:41:57.325Z"
   },
   {
    "duration": 33,
    "start_time": "2024-09-12T05:41:58.534Z"
   },
   {
    "duration": 5,
    "start_time": "2024-09-12T05:41:59.426Z"
   },
   {
    "duration": 5,
    "start_time": "2024-09-12T05:42:01.947Z"
   },
   {
    "duration": 12,
    "start_time": "2024-09-12T05:42:02.437Z"
   },
   {
    "duration": 21,
    "start_time": "2024-09-12T05:42:04.510Z"
   },
   {
    "duration": 5,
    "start_time": "2024-09-12T05:42:04.823Z"
   },
   {
    "duration": 18,
    "start_time": "2024-09-12T05:42:06.521Z"
   },
   {
    "duration": 5,
    "start_time": "2024-09-12T05:42:07.499Z"
   },
   {
    "duration": 33,
    "start_time": "2024-09-12T05:42:08.121Z"
   },
   {
    "duration": 8,
    "start_time": "2024-09-12T05:42:08.439Z"
   },
   {
    "duration": 58,
    "start_time": "2024-09-12T05:42:09.926Z"
   },
   {
    "duration": 8,
    "start_time": "2024-09-12T05:42:12.329Z"
   },
   {
    "duration": 22,
    "start_time": "2024-09-12T05:42:12.759Z"
   },
   {
    "duration": 6,
    "start_time": "2024-09-12T05:42:12.956Z"
   },
   {
    "duration": 29,
    "start_time": "2024-09-12T05:42:14.027Z"
   },
   {
    "duration": 6,
    "start_time": "2024-09-12T05:42:14.769Z"
   },
   {
    "duration": 31,
    "start_time": "2024-09-12T05:42:15.251Z"
   },
   {
    "duration": 6,
    "start_time": "2024-09-12T05:42:15.496Z"
   },
   {
    "duration": 53,
    "start_time": "2024-09-12T05:42:16.730Z"
   },
   {
    "duration": 10,
    "start_time": "2024-09-12T05:42:17.421Z"
   },
   {
    "duration": 2,
    "start_time": "2024-09-12T05:42:18.182Z"
   },
   {
    "duration": 533,
    "start_time": "2024-09-12T05:42:18.694Z"
   },
   {
    "duration": 0,
    "start_time": "2024-09-12T05:42:19.229Z"
   },
   {
    "duration": 0,
    "start_time": "2024-09-12T05:42:19.230Z"
   },
   {
    "duration": 127,
    "start_time": "2024-09-12T05:42:19.470Z"
   },
   {
    "duration": 2,
    "start_time": "2024-09-12T05:42:19.906Z"
   },
   {
    "duration": 2,
    "start_time": "2024-09-12T05:42:20.410Z"
   },
   {
    "duration": 2,
    "start_time": "2024-09-12T05:42:20.946Z"
   },
   {
    "duration": 13,
    "start_time": "2024-09-12T05:43:05.155Z"
   },
   {
    "duration": 12,
    "start_time": "2024-09-12T05:43:18.445Z"
   },
   {
    "duration": 353,
    "start_time": "2024-09-12T05:43:25.209Z"
   },
   {
    "duration": 8,
    "start_time": "2024-09-12T05:44:04.814Z"
   },
   {
    "duration": 10,
    "start_time": "2024-09-12T05:44:19.495Z"
   },
   {
    "duration": 290,
    "start_time": "2024-09-12T05:44:37.525Z"
   },
   {
    "duration": 13,
    "start_time": "2024-09-12T05:45:22.118Z"
   },
   {
    "duration": 307,
    "start_time": "2024-09-12T05:45:33.921Z"
   },
   {
    "duration": 13,
    "start_time": "2024-09-12T05:45:40.593Z"
   },
   {
    "duration": 256,
    "start_time": "2024-09-12T05:46:35.063Z"
   },
   {
    "duration": 25,
    "start_time": "2024-09-12T05:46:43.395Z"
   },
   {
    "duration": 255,
    "start_time": "2024-09-12T05:46:47.925Z"
   },
   {
    "duration": 55,
    "start_time": "2024-09-12T05:47:23.749Z"
   },
   {
    "duration": 11,
    "start_time": "2024-09-12T05:47:32.506Z"
   },
   {
    "duration": 28,
    "start_time": "2024-09-12T05:47:41.162Z"
   },
   {
    "duration": 41,
    "start_time": "2024-09-12T05:47:50.023Z"
   },
   {
    "duration": 224,
    "start_time": "2024-09-12T05:47:56.590Z"
   },
   {
    "duration": 42,
    "start_time": "2024-09-12T05:48:14.179Z"
   },
   {
    "duration": 46,
    "start_time": "2024-09-12T05:49:10.891Z"
   },
   {
    "duration": 12,
    "start_time": "2024-09-12T05:49:16.618Z"
   },
   {
    "duration": 42,
    "start_time": "2024-09-12T05:54:43.290Z"
   },
   {
    "duration": 16,
    "start_time": "2024-09-12T05:57:36.060Z"
   },
   {
    "duration": 17,
    "start_time": "2024-09-12T05:57:55.559Z"
   },
   {
    "duration": 40,
    "start_time": "2024-09-12T05:59:46.857Z"
   },
   {
    "duration": 16,
    "start_time": "2024-09-12T05:59:53.983Z"
   },
   {
    "duration": 10,
    "start_time": "2024-09-12T06:01:13.639Z"
   },
   {
    "duration": 11,
    "start_time": "2024-09-12T06:03:01.506Z"
   },
   {
    "duration": 2,
    "start_time": "2024-09-13T17:46:44.747Z"
   },
   {
    "duration": 74,
    "start_time": "2024-09-13T17:46:45.230Z"
   },
   {
    "duration": 55,
    "start_time": "2024-09-13T17:46:45.411Z"
   },
   {
    "duration": 33,
    "start_time": "2024-09-13T17:46:45.575Z"
   },
   {
    "duration": 5,
    "start_time": "2024-09-13T17:46:45.744Z"
   },
   {
    "duration": 6,
    "start_time": "2024-09-13T17:46:45.935Z"
   },
   {
    "duration": 13,
    "start_time": "2024-09-13T17:46:46.441Z"
   },
   {
    "duration": 12,
    "start_time": "2024-09-13T17:46:46.597Z"
   },
   {
    "duration": 12,
    "start_time": "2024-09-13T17:46:46.781Z"
   },
   {
    "duration": 5,
    "start_time": "2024-09-13T17:46:47.098Z"
   },
   {
    "duration": 5,
    "start_time": "2024-09-13T17:46:47.116Z"
   },
   {
    "duration": 30,
    "start_time": "2024-09-13T17:46:47.424Z"
   },
   {
    "duration": 7,
    "start_time": "2024-09-13T17:46:47.598Z"
   },
   {
    "duration": 5,
    "start_time": "2024-09-13T17:46:48.532Z"
   },
   {
    "duration": 10,
    "start_time": "2024-09-13T17:46:48.707Z"
   },
   {
    "duration": 25,
    "start_time": "2024-09-13T17:46:49.679Z"
   },
   {
    "duration": 6,
    "start_time": "2024-09-13T17:46:59.316Z"
   },
   {
    "duration": 19,
    "start_time": "2024-09-13T17:47:00.115Z"
   },
   {
    "duration": 4,
    "start_time": "2024-09-13T17:47:00.798Z"
   },
   {
    "duration": 33,
    "start_time": "2024-09-13T17:47:01.249Z"
   },
   {
    "duration": 7,
    "start_time": "2024-09-13T17:47:01.369Z"
   },
   {
    "duration": 51,
    "start_time": "2024-09-13T17:47:02.390Z"
   },
   {
    "duration": 9,
    "start_time": "2024-09-13T17:47:02.859Z"
   },
   {
    "duration": 22,
    "start_time": "2024-09-13T17:47:03.368Z"
   },
   {
    "duration": 6,
    "start_time": "2024-09-13T17:47:03.750Z"
   },
   {
    "duration": 32,
    "start_time": "2024-09-13T17:47:04.761Z"
   },
   {
    "duration": 10,
    "start_time": "2024-09-13T17:47:05.384Z"
   },
   {
    "duration": 30,
    "start_time": "2024-09-13T17:47:05.792Z"
   },
   {
    "duration": 8,
    "start_time": "2024-09-13T17:47:05.970Z"
   },
   {
    "duration": 56,
    "start_time": "2024-09-13T17:47:06.998Z"
   },
   {
    "duration": 12,
    "start_time": "2024-09-13T17:47:07.498Z"
   },
   {
    "duration": 3,
    "start_time": "2024-09-13T17:47:08.137Z"
   },
   {
    "duration": 15,
    "start_time": "2024-09-13T17:47:08.590Z"
   },
   {
    "duration": 15,
    "start_time": "2024-09-13T17:47:11.983Z"
   },
   {
    "duration": 11,
    "start_time": "2024-09-13T17:47:12.427Z"
   },
   {
    "duration": 11,
    "start_time": "2024-09-13T17:47:12.606Z"
   },
   {
    "duration": 3,
    "start_time": "2024-09-13T17:47:12.966Z"
   },
   {
    "duration": 3,
    "start_time": "2024-09-13T17:47:13.103Z"
   },
   {
    "duration": 3,
    "start_time": "2024-09-13T17:47:13.506Z"
   },
   {
    "duration": 6,
    "start_time": "2024-09-13T17:54:32.256Z"
   },
   {
    "duration": 144,
    "start_time": "2024-09-13T17:56:09.473Z"
   },
   {
    "duration": 30,
    "start_time": "2024-09-13T17:56:38.502Z"
   },
   {
    "duration": 31,
    "start_time": "2024-09-13T17:56:40.158Z"
   },
   {
    "duration": 6,
    "start_time": "2024-09-13T17:56:40.320Z"
   },
   {
    "duration": 5,
    "start_time": "2024-09-13T17:56:41.099Z"
   },
   {
    "duration": 10,
    "start_time": "2024-09-13T17:56:41.269Z"
   },
   {
    "duration": 24,
    "start_time": "2024-09-13T17:56:42.092Z"
   },
   {
    "duration": 8,
    "start_time": "2024-09-13T17:56:42.267Z"
   },
   {
    "duration": 21,
    "start_time": "2024-09-13T17:56:43.158Z"
   },
   {
    "duration": 4,
    "start_time": "2024-09-13T17:56:43.697Z"
   },
   {
    "duration": 30,
    "start_time": "2024-09-13T17:56:44.218Z"
   },
   {
    "duration": 9,
    "start_time": "2024-09-13T17:56:44.383Z"
   },
   {
    "duration": 301,
    "start_time": "2024-09-13T17:56:45.223Z"
   },
   {
    "duration": 9,
    "start_time": "2024-09-13T17:56:45.752Z"
   },
   {
    "duration": 21,
    "start_time": "2024-09-13T17:56:46.113Z"
   },
   {
    "duration": 7,
    "start_time": "2024-09-13T17:56:46.282Z"
   },
   {
    "duration": 214,
    "start_time": "2024-09-13T17:56:47.199Z"
   },
   {
    "duration": 11,
    "start_time": "2024-09-13T17:56:47.740Z"
   },
   {
    "duration": 27,
    "start_time": "2024-09-13T17:56:48.064Z"
   },
   {
    "duration": 7,
    "start_time": "2024-09-13T17:56:48.270Z"
   },
   {
    "duration": 243,
    "start_time": "2024-09-13T17:56:50.725Z"
   },
   {
    "duration": 13,
    "start_time": "2024-09-13T17:58:03.405Z"
   },
   {
    "duration": 2,
    "start_time": "2024-09-13T17:58:05.670Z"
   },
   {
    "duration": 12,
    "start_time": "2024-09-13T17:58:06.534Z"
   },
   {
    "duration": 13,
    "start_time": "2024-09-13T17:58:06.750Z"
   },
   {
    "duration": 10,
    "start_time": "2024-09-13T17:58:07.009Z"
   },
   {
    "duration": 11,
    "start_time": "2024-09-13T17:58:07.227Z"
   },
   {
    "duration": 16,
    "start_time": "2024-09-13T17:58:11.708Z"
   },
   {
    "duration": 11,
    "start_time": "2024-09-13T18:52:02.075Z"
   },
   {
    "duration": 2526,
    "start_time": "2024-09-13T21:12:41.965Z"
   },
   {
    "duration": 96,
    "start_time": "2024-09-13T21:12:44.494Z"
   },
   {
    "duration": 84,
    "start_time": "2024-09-13T21:12:44.592Z"
   },
   {
    "duration": 63,
    "start_time": "2024-09-13T21:12:44.678Z"
   },
   {
    "duration": 7,
    "start_time": "2024-09-13T21:12:47.404Z"
   },
   {
    "duration": 11,
    "start_time": "2024-09-13T21:12:47.597Z"
   },
   {
    "duration": 12,
    "start_time": "2024-09-13T21:12:48.449Z"
   },
   {
    "duration": 12,
    "start_time": "2024-09-13T21:12:48.653Z"
   },
   {
    "duration": 12,
    "start_time": "2024-09-13T21:12:48.868Z"
   },
   {
    "duration": 5,
    "start_time": "2024-09-13T21:12:49.254Z"
   },
   {
    "duration": 5,
    "start_time": "2024-09-13T21:12:49.471Z"
   },
   {
    "duration": 33,
    "start_time": "2024-09-13T21:12:49.889Z"
   },
   {
    "duration": 5,
    "start_time": "2024-09-13T21:12:50.079Z"
   },
   {
    "duration": 5,
    "start_time": "2024-09-13T21:12:56.083Z"
   },
   {
    "duration": 9,
    "start_time": "2024-09-13T21:12:56.273Z"
   },
   {
    "duration": 22,
    "start_time": "2024-09-13T21:13:04.415Z"
   },
   {
    "duration": 5,
    "start_time": "2024-09-13T21:13:05.543Z"
   },
   {
    "duration": 18,
    "start_time": "2024-09-13T21:13:08.363Z"
   },
   {
    "duration": 5,
    "start_time": "2024-09-13T21:13:09.995Z"
   },
   {
    "duration": 39,
    "start_time": "2024-09-13T21:13:11.088Z"
   },
   {
    "duration": 7,
    "start_time": "2024-09-13T21:13:11.364Z"
   },
   {
    "duration": 60,
    "start_time": "2024-09-13T21:13:14.218Z"
   },
   {
    "duration": 9,
    "start_time": "2024-09-13T21:13:15.207Z"
   },
   {
    "duration": 23,
    "start_time": "2024-09-13T21:13:15.861Z"
   },
   {
    "duration": 6,
    "start_time": "2024-09-13T21:13:16.186Z"
   },
   {
    "duration": 29,
    "start_time": "2024-09-13T21:13:18.063Z"
   },
   {
    "duration": 11,
    "start_time": "2024-09-13T21:13:18.963Z"
   },
   {
    "duration": 32,
    "start_time": "2024-09-13T21:13:19.501Z"
   },
   {
    "duration": 7,
    "start_time": "2024-09-13T21:13:19.796Z"
   },
   {
    "duration": 63,
    "start_time": "2024-09-13T21:13:20.986Z"
   },
   {
    "duration": 13,
    "start_time": "2024-09-13T21:13:21.880Z"
   },
   {
    "duration": 15,
    "start_time": "2024-09-13T21:13:31.295Z"
   },
   {
    "duration": 15,
    "start_time": "2024-09-13T21:13:32.116Z"
   },
   {
    "duration": 10,
    "start_time": "2024-09-13T21:13:32.745Z"
   },
   {
    "duration": 12,
    "start_time": "2024-09-13T21:13:33.390Z"
   },
   {
    "duration": 15,
    "start_time": "2024-09-13T21:13:34.902Z"
   },
   {
    "duration": 10,
    "start_time": "2024-09-13T21:13:35.555Z"
   },
   {
    "duration": 264,
    "start_time": "2024-09-13T22:17:24.540Z"
   },
   {
    "duration": 2,
    "start_time": "2024-09-13T22:28:28.529Z"
   },
   {
    "duration": 70,
    "start_time": "2024-09-13T22:28:29.055Z"
   },
   {
    "duration": 52,
    "start_time": "2024-09-13T22:28:29.248Z"
   },
   {
    "duration": 34,
    "start_time": "2024-09-13T22:28:29.453Z"
   },
   {
    "duration": 7,
    "start_time": "2024-09-13T22:28:29.621Z"
   },
   {
    "duration": 7,
    "start_time": "2024-09-13T22:28:29.807Z"
   },
   {
    "duration": 13,
    "start_time": "2024-09-13T22:28:30.369Z"
   },
   {
    "duration": 10,
    "start_time": "2024-09-13T22:28:30.528Z"
   },
   {
    "duration": 12,
    "start_time": "2024-09-13T22:28:30.732Z"
   },
   {
    "duration": 5,
    "start_time": "2024-09-13T22:28:30.938Z"
   },
   {
    "duration": 4,
    "start_time": "2024-09-13T22:28:31.138Z"
   },
   {
    "duration": 30,
    "start_time": "2024-09-13T22:28:31.505Z"
   },
   {
    "duration": 6,
    "start_time": "2024-09-13T22:28:31.688Z"
   },
   {
    "duration": 6,
    "start_time": "2024-09-13T22:28:32.678Z"
   },
   {
    "duration": 9,
    "start_time": "2024-09-13T22:28:32.832Z"
   },
   {
    "duration": 23,
    "start_time": "2024-09-13T22:28:33.788Z"
   },
   {
    "duration": 6,
    "start_time": "2024-09-13T22:28:34.217Z"
   },
   {
    "duration": 17,
    "start_time": "2024-09-13T22:28:35.328Z"
   },
   {
    "duration": 5,
    "start_time": "2024-09-13T22:28:35.899Z"
   },
   {
    "duration": 34,
    "start_time": "2024-09-13T22:28:36.290Z"
   },
   {
    "duration": 9,
    "start_time": "2024-09-13T22:28:36.487Z"
   },
   {
    "duration": 58,
    "start_time": "2024-09-13T22:28:37.898Z"
   },
   {
    "duration": 9,
    "start_time": "2024-09-13T22:29:06.016Z"
   },
   {
    "duration": 23,
    "start_time": "2024-09-13T22:29:06.480Z"
   },
   {
    "duration": 6,
    "start_time": "2024-09-13T22:29:06.627Z"
   },
   {
    "duration": 32,
    "start_time": "2024-09-13T22:29:08.606Z"
   },
   {
    "duration": 11,
    "start_time": "2024-09-13T22:29:09.129Z"
   },
   {
    "duration": 31,
    "start_time": "2024-09-13T22:29:09.487Z"
   },
   {
    "duration": 7,
    "start_time": "2024-09-13T22:29:09.789Z"
   },
   {
    "duration": 57,
    "start_time": "2024-09-13T22:29:10.878Z"
   },
   {
    "duration": 13,
    "start_time": "2024-09-13T22:29:11.472Z"
   },
   {
    "duration": 14,
    "start_time": "2024-09-13T22:29:12.474Z"
   },
   {
    "duration": 15,
    "start_time": "2024-09-13T22:29:12.611Z"
   },
   {
    "duration": 11,
    "start_time": "2024-09-13T22:29:12.802Z"
   },
   {
    "duration": 12,
    "start_time": "2024-09-13T22:29:12.990Z"
   },
   {
    "duration": 13,
    "start_time": "2024-09-13T22:29:13.391Z"
   },
   {
    "duration": 11,
    "start_time": "2024-09-13T22:29:13.616Z"
   },
   {
    "duration": 7,
    "start_time": "2024-09-13T22:40:16.010Z"
   },
   {
    "duration": 4,
    "start_time": "2024-09-13T22:40:27.552Z"
   },
   {
    "duration": 3,
    "start_time": "2024-09-13T22:40:35.268Z"
   },
   {
    "duration": 5,
    "start_time": "2024-09-13T22:46:10.270Z"
   },
   {
    "duration": 6,
    "start_time": "2024-09-13T22:49:23.170Z"
   },
   {
    "duration": 4,
    "start_time": "2024-09-13T22:49:51.293Z"
   },
   {
    "duration": 9,
    "start_time": "2024-09-13T22:52:35.873Z"
   },
   {
    "duration": 8,
    "start_time": "2024-09-13T22:52:49.146Z"
   },
   {
    "duration": 8,
    "start_time": "2024-09-13T22:55:25.622Z"
   },
   {
    "duration": 8,
    "start_time": "2024-09-13T22:56:31.886Z"
   },
   {
    "duration": 7,
    "start_time": "2024-09-13T22:56:32.930Z"
   },
   {
    "duration": 8,
    "start_time": "2024-09-13T22:56:33.771Z"
   },
   {
    "duration": 9,
    "start_time": "2024-09-13T22:56:34.775Z"
   },
   {
    "duration": 5,
    "start_time": "2024-09-13T23:03:42.442Z"
   },
   {
    "duration": 16,
    "start_time": "2024-09-13T23:06:45.389Z"
   },
   {
    "duration": 4,
    "start_time": "2024-09-13T23:06:55.705Z"
   },
   {
    "duration": 2374,
    "start_time": "2024-09-14T04:14:54.896Z"
   },
   {
    "duration": 100,
    "start_time": "2024-09-14T04:14:57.272Z"
   },
   {
    "duration": 86,
    "start_time": "2024-09-14T04:14:57.660Z"
   },
   {
    "duration": 46,
    "start_time": "2024-09-14T04:14:58.518Z"
   },
   {
    "duration": 6,
    "start_time": "2024-09-14T04:14:59.256Z"
   },
   {
    "duration": 7,
    "start_time": "2024-09-14T04:14:59.912Z"
   },
   {
    "duration": 13,
    "start_time": "2024-09-14T04:15:02.012Z"
   },
   {
    "duration": 12,
    "start_time": "2024-09-14T04:15:02.934Z"
   },
   {
    "duration": 11,
    "start_time": "2024-09-14T04:15:03.427Z"
   },
   {
    "duration": 5,
    "start_time": "2024-09-14T04:15:04.353Z"
   },
   {
    "duration": 4,
    "start_time": "2024-09-14T04:15:05.120Z"
   },
   {
    "duration": 33,
    "start_time": "2024-09-14T04:15:06.591Z"
   },
   {
    "duration": 5,
    "start_time": "2024-09-14T04:15:07.449Z"
   },
   {
    "duration": 6,
    "start_time": "2024-09-14T04:15:11.240Z"
   },
   {
    "duration": 9,
    "start_time": "2024-09-14T04:15:11.900Z"
   },
   {
    "duration": 21,
    "start_time": "2024-09-14T04:15:15.510Z"
   },
   {
    "duration": 5,
    "start_time": "2024-09-14T04:15:16.280Z"
   },
   {
    "duration": 18,
    "start_time": "2024-09-14T04:15:20.241Z"
   },
   {
    "duration": 5,
    "start_time": "2024-09-14T04:15:22.587Z"
   },
   {
    "duration": 33,
    "start_time": "2024-09-14T04:15:24.186Z"
   },
   {
    "duration": 7,
    "start_time": "2024-09-14T04:15:24.993Z"
   },
   {
    "duration": 54,
    "start_time": "2024-09-14T04:15:28.854Z"
   },
   {
    "duration": 9,
    "start_time": "2024-09-14T04:15:31.103Z"
   },
   {
    "duration": 22,
    "start_time": "2024-09-14T04:15:32.584Z"
   },
   {
    "duration": 7,
    "start_time": "2024-09-14T04:15:33.284Z"
   },
   {
    "duration": 30,
    "start_time": "2024-09-14T04:15:36.896Z"
   },
   {
    "duration": 11,
    "start_time": "2024-09-14T04:15:39.003Z"
   },
   {
    "duration": 28,
    "start_time": "2024-09-14T04:15:40.450Z"
   },
   {
    "duration": 6,
    "start_time": "2024-09-14T04:15:41.104Z"
   },
   {
    "duration": 52,
    "start_time": "2024-09-14T04:15:44.799Z"
   },
   {
    "duration": 12,
    "start_time": "2024-09-14T04:15:55.456Z"
   },
   {
    "duration": 14,
    "start_time": "2024-09-14T04:15:57.345Z"
   },
   {
    "duration": 16,
    "start_time": "2024-09-14T04:15:57.735Z"
   },
   {
    "duration": 10,
    "start_time": "2024-09-14T04:15:58.192Z"
   },
   {
    "duration": 11,
    "start_time": "2024-09-14T04:15:58.532Z"
   },
   {
    "duration": 14,
    "start_time": "2024-09-14T04:15:59.353Z"
   },
   {
    "duration": 10,
    "start_time": "2024-09-14T04:15:59.705Z"
   },
   {
    "duration": 4,
    "start_time": "2024-09-14T04:16:00.670Z"
   },
   {
    "duration": 7,
    "start_time": "2024-09-14T04:30:11.788Z"
   },
   {
    "duration": 8,
    "start_time": "2024-09-14T04:31:48.874Z"
   },
   {
    "duration": 16,
    "start_time": "2024-09-14T04:36:25.860Z"
   },
   {
    "duration": 2562,
    "start_time": "2024-09-14T07:52:22.646Z"
   },
   {
    "duration": 117,
    "start_time": "2024-09-14T07:52:25.212Z"
   },
   {
    "duration": 86,
    "start_time": "2024-09-14T07:52:25.330Z"
   },
   {
    "duration": 49,
    "start_time": "2024-09-14T07:52:25.418Z"
   },
   {
    "duration": 7,
    "start_time": "2024-09-14T07:52:25.469Z"
   },
   {
    "duration": 7,
    "start_time": "2024-09-14T07:52:25.477Z"
   },
   {
    "duration": 11,
    "start_time": "2024-09-14T07:52:25.486Z"
   },
   {
    "duration": 9,
    "start_time": "2024-09-14T07:52:25.499Z"
   },
   {
    "duration": 11,
    "start_time": "2024-09-14T07:52:25.530Z"
   },
   {
    "duration": 5,
    "start_time": "2024-09-14T07:52:25.770Z"
   },
   {
    "duration": 4,
    "start_time": "2024-09-14T07:52:25.980Z"
   },
   {
    "duration": 33,
    "start_time": "2024-09-14T07:52:26.457Z"
   },
   {
    "duration": 5,
    "start_time": "2024-09-14T07:52:26.674Z"
   },
   {
    "duration": 5,
    "start_time": "2024-09-14T07:52:27.800Z"
   },
   {
    "duration": 9,
    "start_time": "2024-09-14T07:52:28.289Z"
   },
   {
    "duration": 23,
    "start_time": "2024-09-14T07:52:28.447Z"
   },
   {
    "duration": 5,
    "start_time": "2024-09-14T07:52:28.473Z"
   },
   {
    "duration": 16,
    "start_time": "2024-09-14T07:52:29.458Z"
   },
   {
    "duration": 4,
    "start_time": "2024-09-14T07:52:29.540Z"
   },
   {
    "duration": 31,
    "start_time": "2024-09-14T07:52:29.604Z"
   },
   {
    "duration": 7,
    "start_time": "2024-09-14T07:52:29.637Z"
   },
   {
    "duration": 55,
    "start_time": "2024-09-14T07:52:29.800Z"
   },
   {
    "duration": 9,
    "start_time": "2024-09-14T07:52:29.883Z"
   },
   {
    "duration": 22,
    "start_time": "2024-09-14T07:52:29.934Z"
   },
   {
    "duration": 6,
    "start_time": "2024-09-14T07:52:29.970Z"
   },
   {
    "duration": 307,
    "start_time": "2024-09-14T07:56:51.205Z"
   },
   {
    "duration": 17,
    "start_time": "2024-09-14T07:57:05.568Z"
   },
   {
    "duration": 9,
    "start_time": "2024-09-14T07:57:15.895Z"
   },
   {
    "duration": 9,
    "start_time": "2024-09-14T07:57:47.366Z"
   },
   {
    "duration": 6,
    "start_time": "2024-09-14T07:58:10.959Z"
   },
   {
    "duration": 8,
    "start_time": "2024-09-14T07:58:15.599Z"
   },
   {
    "duration": 12,
    "start_time": "2024-09-14T08:00:29.254Z"
   },
   {
    "duration": 8,
    "start_time": "2024-09-14T08:00:38.146Z"
   },
   {
    "duration": 6,
    "start_time": "2024-09-14T08:00:41.446Z"
   },
   {
    "duration": 24,
    "start_time": "2024-09-14T08:01:39.752Z"
   },
   {
    "duration": 5,
    "start_time": "2024-09-14T08:02:59.967Z"
   },
   {
    "duration": 3,
    "start_time": "2024-09-14T08:03:42.225Z"
   },
   {
    "duration": 3,
    "start_time": "2024-09-14T08:03:45.469Z"
   },
   {
    "duration": 4,
    "start_time": "2024-09-14T08:04:05.374Z"
   },
   {
    "duration": 9,
    "start_time": "2024-09-14T08:05:29.469Z"
   },
   {
    "duration": 8,
    "start_time": "2024-09-14T08:07:03.001Z"
   },
   {
    "duration": 17,
    "start_time": "2024-09-14T08:37:35.020Z"
   },
   {
    "duration": 18,
    "start_time": "2024-09-14T08:37:44.342Z"
   },
   {
    "duration": 624,
    "start_time": "2024-09-14T08:38:02.069Z"
   },
   {
    "duration": 76,
    "start_time": "2024-09-14T08:39:03.088Z"
   },
   {
    "duration": 103,
    "start_time": "2024-09-14T08:39:48.227Z"
   },
   {
    "duration": 77,
    "start_time": "2024-09-14T08:40:03.896Z"
   },
   {
    "duration": 620,
    "start_time": "2024-09-14T08:40:22.733Z"
   },
   {
    "duration": 8,
    "start_time": "2024-09-14T08:41:03.379Z"
   },
   {
    "duration": 8,
    "start_time": "2024-09-14T08:41:06.149Z"
   },
   {
    "duration": 11,
    "start_time": "2024-09-14T08:41:20.350Z"
   },
   {
    "duration": 11,
    "start_time": "2024-09-14T08:42:06.235Z"
   },
   {
    "duration": 17,
    "start_time": "2024-09-14T08:47:33.133Z"
   },
   {
    "duration": 8,
    "start_time": "2024-09-14T08:47:45.310Z"
   },
   {
    "duration": 189,
    "start_time": "2024-09-14T08:47:49.133Z"
   },
   {
    "duration": 141,
    "start_time": "2024-09-14T08:50:58.629Z"
   },
   {
    "duration": 18,
    "start_time": "2024-09-14T08:52:09.736Z"
   },
   {
    "duration": 19,
    "start_time": "2024-09-14T08:53:13.633Z"
   },
   {
    "duration": 18,
    "start_time": "2024-09-14T08:53:27.989Z"
   },
   {
    "duration": 46,
    "start_time": "2024-09-14T08:53:39.745Z"
   },
   {
    "duration": 63,
    "start_time": "2024-09-14T08:54:06.765Z"
   },
   {
    "duration": 52,
    "start_time": "2024-09-14T08:54:22.344Z"
   },
   {
    "duration": 2438,
    "start_time": "2024-09-14T20:41:11.858Z"
   },
   {
    "duration": 97,
    "start_time": "2024-09-14T20:41:14.298Z"
   },
   {
    "duration": 87,
    "start_time": "2024-09-14T20:41:14.397Z"
   },
   {
    "duration": 49,
    "start_time": "2024-09-14T20:41:14.487Z"
   },
   {
    "duration": 7,
    "start_time": "2024-09-14T20:41:14.537Z"
   },
   {
    "duration": 8,
    "start_time": "2024-09-14T20:41:14.545Z"
   },
   {
    "duration": 12,
    "start_time": "2024-09-14T20:41:14.554Z"
   },
   {
    "duration": 8,
    "start_time": "2024-09-14T20:41:14.568Z"
   },
   {
    "duration": 11,
    "start_time": "2024-09-14T20:41:14.578Z"
   },
   {
    "duration": 4,
    "start_time": "2024-09-14T20:41:14.612Z"
   },
   {
    "duration": 4,
    "start_time": "2024-09-14T20:41:14.618Z"
   },
   {
    "duration": 31,
    "start_time": "2024-09-14T20:41:14.623Z"
   },
   {
    "duration": 5,
    "start_time": "2024-09-14T20:41:14.754Z"
   },
   {
    "duration": 5,
    "start_time": "2024-09-14T20:41:15.650Z"
   },
   {
    "duration": 9,
    "start_time": "2024-09-14T20:41:15.837Z"
   },
   {
    "duration": 22,
    "start_time": "2024-09-14T20:41:16.687Z"
   },
   {
    "duration": 5,
    "start_time": "2024-09-14T20:41:16.882Z"
   },
   {
    "duration": 19,
    "start_time": "2024-09-14T20:41:17.733Z"
   },
   {
    "duration": 4,
    "start_time": "2024-09-14T20:41:18.295Z"
   },
   {
    "duration": 33,
    "start_time": "2024-09-14T20:41:18.606Z"
   },
   {
    "duration": 6,
    "start_time": "2024-09-14T20:41:18.764Z"
   },
   {
    "duration": 55,
    "start_time": "2024-09-14T20:41:19.671Z"
   },
   {
    "duration": 10,
    "start_time": "2024-09-14T20:41:20.253Z"
   },
   {
    "duration": 23,
    "start_time": "2024-09-14T20:41:20.579Z"
   },
   {
    "duration": 6,
    "start_time": "2024-09-14T20:41:20.796Z"
   },
   {
    "duration": 29,
    "start_time": "2024-09-14T20:41:21.707Z"
   },
   {
    "duration": 10,
    "start_time": "2024-09-14T20:41:22.464Z"
   },
   {
    "duration": 28,
    "start_time": "2024-09-14T20:41:22.878Z"
   },
   {
    "duration": 6,
    "start_time": "2024-09-14T20:41:23.070Z"
   },
   {
    "duration": 51,
    "start_time": "2024-09-14T20:41:24.060Z"
   },
   {
    "duration": 12,
    "start_time": "2024-09-14T20:41:24.620Z"
   },
   {
    "duration": 14,
    "start_time": "2024-09-14T20:41:25.604Z"
   },
   {
    "duration": 15,
    "start_time": "2024-09-14T20:41:25.822Z"
   },
   {
    "duration": 10,
    "start_time": "2024-09-14T20:41:26.038Z"
   },
   {
    "duration": 11,
    "start_time": "2024-09-14T20:41:27.563Z"
   },
   {
    "duration": 14,
    "start_time": "2024-09-14T20:41:27.947Z"
   },
   {
    "duration": 9,
    "start_time": "2024-09-14T20:41:28.167Z"
   },
   {
    "duration": 589,
    "start_time": "2024-09-14T20:41:28.752Z"
   },
   {
    "duration": 8,
    "start_time": "2024-09-14T20:41:30.790Z"
   },
   {
    "duration": 181,
    "start_time": "2024-09-14T20:41:31.004Z"
   },
   {
    "duration": 7,
    "start_time": "2024-09-14T20:41:31.231Z"
   },
   {
    "duration": 135,
    "start_time": "2024-09-14T20:41:31.383Z"
   },
   {
    "duration": 4,
    "start_time": "2024-09-14T20:41:31.747Z"
   },
   {
    "duration": 2,
    "start_time": "2024-09-14T20:41:31.915Z"
   },
   {
    "duration": 8,
    "start_time": "2024-09-14T20:41:32.622Z"
   },
   {
    "duration": 8,
    "start_time": "2024-09-14T20:41:32.830Z"
   },
   {
    "duration": 10,
    "start_time": "2024-09-14T20:41:33.721Z"
   },
   {
    "duration": 10,
    "start_time": "2024-09-14T20:41:35.552Z"
   },
   {
    "duration": 217,
    "start_time": "2024-09-14T20:45:18.136Z"
   },
   {
    "duration": 233,
    "start_time": "2024-09-14T20:46:03.215Z"
   },
   {
    "duration": 228,
    "start_time": "2024-09-14T20:46:17.437Z"
   },
   {
    "duration": 224,
    "start_time": "2024-09-14T20:51:47.558Z"
   },
   {
    "duration": 373,
    "start_time": "2024-09-14T20:52:19.911Z"
   },
   {
    "duration": 47,
    "start_time": "2024-09-14T20:57:13.997Z"
   },
   {
    "duration": 386,
    "start_time": "2024-09-14T20:57:52.362Z"
   },
   {
    "duration": 27,
    "start_time": "2024-09-14T20:58:12.666Z"
   },
   {
    "duration": 190,
    "start_time": "2024-09-14T21:00:27.794Z"
   },
   {
    "duration": 195,
    "start_time": "2024-09-14T21:01:42.162Z"
   },
   {
    "duration": 165,
    "start_time": "2024-09-14T21:04:11.442Z"
   },
   {
    "duration": 65,
    "start_time": "2024-09-14T21:10:14.274Z"
   },
   {
    "duration": 769,
    "start_time": "2024-09-14T21:10:35.620Z"
   },
   {
    "duration": 7,
    "start_time": "2024-09-14T21:12:34.812Z"
   },
   {
    "duration": 5,
    "start_time": "2024-09-14T21:12:40.482Z"
   },
   {
    "duration": 315,
    "start_time": "2024-09-14T21:12:50.833Z"
   },
   {
    "duration": 319,
    "start_time": "2024-09-14T21:13:07.461Z"
   },
   {
    "duration": 177,
    "start_time": "2024-09-14T21:13:42.623Z"
   },
   {
    "duration": 158,
    "start_time": "2024-09-14T21:13:48.132Z"
   },
   {
    "duration": 161,
    "start_time": "2024-09-14T21:14:01.432Z"
   },
   {
    "duration": 235,
    "start_time": "2024-09-14T21:17:40.573Z"
   },
   {
    "duration": 216,
    "start_time": "2024-09-14T21:34:15.056Z"
   },
   {
    "duration": 219,
    "start_time": "2024-09-14T21:36:23.253Z"
   },
   {
    "duration": 265,
    "start_time": "2024-09-14T21:37:18.880Z"
   },
   {
    "duration": 157,
    "start_time": "2024-09-14T21:37:54.091Z"
   },
   {
    "duration": 166,
    "start_time": "2024-09-14T21:39:10.812Z"
   },
   {
    "duration": 161,
    "start_time": "2024-09-14T21:40:07.066Z"
   },
   {
    "duration": 4,
    "start_time": "2024-09-14T21:40:59.045Z"
   },
   {
    "duration": 243,
    "start_time": "2024-09-14T21:41:14.759Z"
   },
   {
    "duration": 512,
    "start_time": "2024-09-14T21:41:25.130Z"
   },
   {
    "duration": 217,
    "start_time": "2024-09-14T21:42:53.948Z"
   },
   {
    "duration": 6,
    "start_time": "2024-09-14T21:44:36.669Z"
   },
   {
    "duration": 9,
    "start_time": "2024-09-14T21:44:47.345Z"
   },
   {
    "duration": 9,
    "start_time": "2024-09-14T21:45:04.819Z"
   },
   {
    "duration": 70,
    "start_time": "2024-09-14T21:45:18.798Z"
   },
   {
    "duration": 3,
    "start_time": "2024-09-14T21:45:59.638Z"
   },
   {
    "duration": 215,
    "start_time": "2024-09-14T21:46:05.365Z"
   },
   {
    "duration": 211,
    "start_time": "2024-09-14T21:52:40.586Z"
   },
   {
    "duration": 210,
    "start_time": "2024-09-14T21:54:01.571Z"
   },
   {
    "duration": 212,
    "start_time": "2024-09-14T21:54:25.366Z"
   },
   {
    "duration": 11,
    "start_time": "2024-09-14T21:56:24.485Z"
   },
   {
    "duration": 9,
    "start_time": "2024-09-14T21:57:27.881Z"
   },
   {
    "duration": 211,
    "start_time": "2024-09-14T21:57:30.970Z"
   },
   {
    "duration": 9,
    "start_time": "2024-09-14T21:57:52.803Z"
   },
   {
    "duration": 221,
    "start_time": "2024-09-14T21:57:54.800Z"
   },
   {
    "duration": 3,
    "start_time": "2024-09-14T21:59:49.665Z"
   },
   {
    "duration": 8,
    "start_time": "2024-09-14T21:59:58.412Z"
   },
   {
    "duration": 71,
    "start_time": "2024-09-14T22:04:15.734Z"
   },
   {
    "duration": 202,
    "start_time": "2024-09-14T22:04:41.523Z"
   },
   {
    "duration": 8,
    "start_time": "2024-09-14T22:36:52.735Z"
   },
   {
    "duration": 8,
    "start_time": "2024-09-14T22:37:03.847Z"
   },
   {
    "duration": 4,
    "start_time": "2024-09-14T22:41:21.351Z"
   },
   {
    "duration": 4,
    "start_time": "2024-09-14T22:42:43.478Z"
   },
   {
    "duration": 5,
    "start_time": "2024-09-14T22:43:32.207Z"
   },
   {
    "duration": 6,
    "start_time": "2024-09-14T22:44:33.585Z"
   },
   {
    "duration": 4,
    "start_time": "2024-09-14T22:44:54.240Z"
   },
   {
    "duration": 4,
    "start_time": "2024-09-14T22:45:03.161Z"
   },
   {
    "duration": 5,
    "start_time": "2024-09-14T22:47:01.861Z"
   },
   {
    "duration": 3,
    "start_time": "2024-09-14T22:48:12.917Z"
   },
   {
    "duration": 4,
    "start_time": "2024-09-14T22:57:07.737Z"
   },
   {
    "duration": 6,
    "start_time": "2024-09-14T22:57:12.706Z"
   },
   {
    "duration": 2529,
    "start_time": "2024-09-15T17:55:46.283Z"
   },
   {
    "duration": 103,
    "start_time": "2024-09-15T17:55:51.723Z"
   },
   {
    "duration": 79,
    "start_time": "2024-09-15T17:55:51.907Z"
   },
   {
    "duration": 63,
    "start_time": "2024-09-15T17:55:52.113Z"
   },
   {
    "duration": 7,
    "start_time": "2024-09-15T17:55:52.302Z"
   },
   {
    "duration": 8,
    "start_time": "2024-09-15T17:55:52.526Z"
   },
   {
    "duration": 11,
    "start_time": "2024-09-15T17:55:56.825Z"
   },
   {
    "duration": 11,
    "start_time": "2024-09-15T17:55:57.012Z"
   },
   {
    "duration": 12,
    "start_time": "2024-09-15T17:55:57.172Z"
   },
   {
    "duration": 5,
    "start_time": "2024-09-15T17:55:57.351Z"
   },
   {
    "duration": 5,
    "start_time": "2024-09-15T17:55:57.579Z"
   },
   {
    "duration": 33,
    "start_time": "2024-09-15T17:56:02.360Z"
   },
   {
    "duration": 6,
    "start_time": "2024-09-15T17:56:02.548Z"
   },
   {
    "duration": 6,
    "start_time": "2024-09-15T17:56:03.508Z"
   },
   {
    "duration": 10,
    "start_time": "2024-09-15T17:56:03.750Z"
   },
   {
    "duration": 9,
    "start_time": "2024-09-15T18:14:56.398Z"
   },
   {
    "duration": 14,
    "start_time": "2024-09-15T18:25:44.558Z"
   },
   {
    "duration": 10,
    "start_time": "2024-09-15T18:27:48.674Z"
   },
   {
    "duration": 8,
    "start_time": "2024-09-15T18:33:54.540Z"
   },
   {
    "duration": 33,
    "start_time": "2024-09-15T18:51:57.630Z"
   },
   {
    "duration": 8,
    "start_time": "2024-09-15T18:52:05.385Z"
   },
   {
    "duration": 60,
    "start_time": "2024-09-15T18:52:09.013Z"
   },
   {
    "duration": 9,
    "start_time": "2024-09-15T18:52:31.467Z"
   },
   {
    "duration": 12,
    "start_time": "2024-09-15T18:52:45.892Z"
   },
   {
    "duration": 217,
    "start_time": "2024-09-15T20:08:41.615Z"
   },
   {
    "duration": 19,
    "start_time": "2024-09-15T20:08:51.334Z"
   },
   {
    "duration": 2,
    "start_time": "2024-09-15T20:09:03.239Z"
   },
   {
    "duration": 69,
    "start_time": "2024-09-15T20:09:03.705Z"
   },
   {
    "duration": 52,
    "start_time": "2024-09-15T20:09:03.868Z"
   },
   {
    "duration": 35,
    "start_time": "2024-09-15T20:09:04.022Z"
   },
   {
    "duration": 6,
    "start_time": "2024-09-15T20:09:04.195Z"
   },
   {
    "duration": 6,
    "start_time": "2024-09-15T20:09:04.335Z"
   },
   {
    "duration": 11,
    "start_time": "2024-09-15T20:09:04.820Z"
   },
   {
    "duration": 10,
    "start_time": "2024-09-15T20:09:04.978Z"
   },
   {
    "duration": 13,
    "start_time": "2024-09-15T20:09:05.178Z"
   },
   {
    "duration": 5,
    "start_time": "2024-09-15T20:09:05.319Z"
   },
   {
    "duration": 4,
    "start_time": "2024-09-15T20:09:05.478Z"
   },
   {
    "duration": 30,
    "start_time": "2024-09-15T20:09:05.794Z"
   },
   {
    "duration": 5,
    "start_time": "2024-09-15T20:09:05.956Z"
   },
   {
    "duration": 4,
    "start_time": "2024-09-15T20:09:06.950Z"
   },
   {
    "duration": 9,
    "start_time": "2024-09-15T20:09:07.116Z"
   },
   {
    "duration": 22,
    "start_time": "2024-09-15T20:09:07.943Z"
   },
   {
    "duration": 8,
    "start_time": "2024-09-15T20:09:08.098Z"
   },
   {
    "duration": 14,
    "start_time": "2024-09-15T20:09:08.998Z"
   },
   {
    "duration": 11,
    "start_time": "2024-09-15T20:09:09.544Z"
   },
   {
    "duration": 32,
    "start_time": "2024-09-15T20:09:09.893Z"
   },
   {
    "duration": 8,
    "start_time": "2024-09-15T20:09:10.058Z"
   },
   {
    "duration": 50,
    "start_time": "2024-09-15T20:09:11.093Z"
   },
   {
    "duration": 9,
    "start_time": "2024-09-15T20:09:11.717Z"
   },
   {
    "duration": 24,
    "start_time": "2024-09-15T20:09:12.057Z"
   },
   {
    "duration": 6,
    "start_time": "2024-09-15T20:09:12.228Z"
   },
   {
    "duration": 29,
    "start_time": "2024-09-15T20:09:13.253Z"
   },
   {
    "duration": 62,
    "start_time": "2024-09-15T20:09:13.814Z"
   },
   {
    "duration": 28,
    "start_time": "2024-09-15T20:09:14.193Z"
   },
   {
    "duration": 7,
    "start_time": "2024-09-15T20:09:14.384Z"
   },
   {
    "duration": 50,
    "start_time": "2024-09-15T20:09:15.495Z"
   },
   {
    "duration": 13,
    "start_time": "2024-09-15T20:09:16.074Z"
   },
   {
    "duration": 13,
    "start_time": "2024-09-15T20:09:17.049Z"
   },
   {
    "duration": 14,
    "start_time": "2024-09-15T20:09:17.268Z"
   },
   {
    "duration": 10,
    "start_time": "2024-09-15T20:09:19.029Z"
   },
   {
    "duration": 12,
    "start_time": "2024-09-15T20:09:19.197Z"
   },
   {
    "duration": 15,
    "start_time": "2024-09-15T20:09:19.598Z"
   },
   {
    "duration": 10,
    "start_time": "2024-09-15T20:09:20.713Z"
   },
   {
    "duration": 604,
    "start_time": "2024-09-15T20:09:22.215Z"
   },
   {
    "duration": 8,
    "start_time": "2024-09-15T20:09:23.875Z"
   },
   {
    "duration": 249,
    "start_time": "2024-09-15T20:09:24.044Z"
   },
   {
    "duration": 8,
    "start_time": "2024-09-15T20:09:24.376Z"
   },
   {
    "duration": 168,
    "start_time": "2024-09-15T20:09:24.548Z"
   },
   {
    "duration": 12,
    "start_time": "2024-09-15T20:09:25.043Z"
   },
   {
    "duration": 221,
    "start_time": "2024-09-15T20:09:25.235Z"
   },
   {
    "duration": 8,
    "start_time": "2024-09-15T20:09:26.939Z"
   },
   {
    "duration": 220,
    "start_time": "2024-09-15T20:09:27.144Z"
   },
   {
    "duration": 9,
    "start_time": "2024-09-15T20:09:28.183Z"
   },
   {
    "duration": 214,
    "start_time": "2024-09-15T20:09:28.375Z"
   },
   {
    "duration": 8,
    "start_time": "2024-09-15T20:09:29.514Z"
   },
   {
    "duration": 221,
    "start_time": "2024-09-15T20:10:17.281Z"
   },
   {
    "duration": 10,
    "start_time": "2024-09-15T20:15:04.724Z"
   },
   {
    "duration": 2583,
    "start_time": "2024-09-15T21:54:39.882Z"
   },
   {
    "duration": 104,
    "start_time": "2024-09-15T21:54:42.468Z"
   },
   {
    "duration": 87,
    "start_time": "2024-09-15T21:54:42.573Z"
   },
   {
    "duration": 71,
    "start_time": "2024-09-15T21:54:42.663Z"
   },
   {
    "duration": 10,
    "start_time": "2024-09-15T21:54:42.736Z"
   },
   {
    "duration": 10,
    "start_time": "2024-09-15T21:54:42.749Z"
   },
   {
    "duration": 16,
    "start_time": "2024-09-15T21:54:42.760Z"
   },
   {
    "duration": 9,
    "start_time": "2024-09-15T21:54:42.777Z"
   },
   {
    "duration": 11,
    "start_time": "2024-09-15T21:54:42.788Z"
   },
   {
    "duration": 4,
    "start_time": "2024-09-15T21:54:42.801Z"
   },
   {
    "duration": 4,
    "start_time": "2024-09-15T21:54:42.997Z"
   },
   {
    "duration": 34,
    "start_time": "2024-09-15T21:54:43.495Z"
   },
   {
    "duration": 7,
    "start_time": "2024-09-15T21:54:43.738Z"
   },
   {
    "duration": 5,
    "start_time": "2024-09-15T21:54:45.356Z"
   },
   {
    "duration": 10,
    "start_time": "2024-09-15T21:54:45.591Z"
   },
   {
    "duration": 21,
    "start_time": "2024-09-15T21:54:46.207Z"
   },
   {
    "duration": 7,
    "start_time": "2024-09-15T21:54:46.232Z"
   },
   {
    "duration": 13,
    "start_time": "2024-09-15T21:54:46.388Z"
   },
   {
    "duration": 10,
    "start_time": "2024-09-15T21:54:46.471Z"
   },
   {
    "duration": 31,
    "start_time": "2024-09-15T21:54:46.534Z"
   },
   {
    "duration": 6,
    "start_time": "2024-09-15T21:54:46.581Z"
   },
   {
    "duration": 53,
    "start_time": "2024-09-15T21:54:46.749Z"
   },
   {
    "duration": 8,
    "start_time": "2024-09-15T21:54:46.843Z"
   },
   {
    "duration": 20,
    "start_time": "2024-09-15T21:54:46.901Z"
   },
   {
    "duration": 5,
    "start_time": "2024-09-15T21:54:46.930Z"
   },
   {
    "duration": 30,
    "start_time": "2024-09-15T21:54:47.108Z"
   },
   {
    "duration": 11,
    "start_time": "2024-09-15T21:54:47.198Z"
   },
   {
    "duration": 28,
    "start_time": "2024-09-15T21:54:47.258Z"
   },
   {
    "duration": 6,
    "start_time": "2024-09-15T21:54:47.293Z"
   },
   {
    "duration": 62,
    "start_time": "2024-09-15T21:54:47.466Z"
   },
   {
    "duration": 13,
    "start_time": "2024-09-15T21:54:47.554Z"
   },
   {
    "duration": 15,
    "start_time": "2024-09-15T21:54:47.708Z"
   },
   {
    "duration": 16,
    "start_time": "2024-09-15T21:54:47.739Z"
   },
   {
    "duration": 9,
    "start_time": "2024-09-15T21:54:47.767Z"
   },
   {
    "duration": 10,
    "start_time": "2024-09-15T21:54:47.798Z"
   },
   {
    "duration": 14,
    "start_time": "2024-09-15T21:54:47.858Z"
   },
   {
    "duration": 10,
    "start_time": "2024-09-15T21:54:47.893Z"
   },
   {
    "duration": 637,
    "start_time": "2024-09-15T21:54:47.951Z"
   },
   {
    "duration": 8,
    "start_time": "2024-09-15T21:54:48.590Z"
   },
   {
    "duration": 267,
    "start_time": "2024-09-15T21:54:48.599Z"
   },
   {
    "duration": 7,
    "start_time": "2024-09-15T21:54:48.869Z"
   },
   {
    "duration": 173,
    "start_time": "2024-09-15T21:54:48.879Z"
   },
   {
    "duration": 10,
    "start_time": "2024-09-15T21:54:49.054Z"
   },
   {
    "duration": 244,
    "start_time": "2024-09-15T21:54:49.066Z"
   },
   {
    "duration": 13,
    "start_time": "2024-09-15T21:54:49.312Z"
   },
   {
    "duration": 219,
    "start_time": "2024-09-15T21:54:49.328Z"
   },
   {
    "duration": 8,
    "start_time": "2024-09-15T21:54:49.550Z"
   },
   {
    "duration": 285,
    "start_time": "2024-09-15T21:54:49.560Z"
   },
   {
    "duration": 7,
    "start_time": "2024-09-15T21:54:49.847Z"
   },
   {
    "duration": 218,
    "start_time": "2024-09-15T21:54:49.856Z"
   },
   {
    "duration": 3,
    "start_time": "2024-09-15T22:25:44.181Z"
   },
   {
    "duration": 115,
    "start_time": "2024-09-15T22:34:37.064Z"
   },
   {
    "duration": 252,
    "start_time": "2024-09-15T22:35:13.851Z"
   },
   {
    "duration": 27,
    "start_time": "2024-09-15T22:35:23.603Z"
   },
   {
    "duration": 7,
    "start_time": "2024-09-15T22:35:57.069Z"
   },
   {
    "duration": 21,
    "start_time": "2024-09-15T22:36:01.223Z"
   },
   {
    "duration": 5,
    "start_time": "2024-09-15T22:36:11.039Z"
   },
   {
    "duration": 26,
    "start_time": "2024-09-15T22:36:13.410Z"
   },
   {
    "duration": 21,
    "start_time": "2024-09-15T22:36:33.976Z"
   },
   {
    "duration": 23,
    "start_time": "2024-09-15T22:38:17.825Z"
   },
   {
    "duration": 8,
    "start_time": "2024-09-15T22:38:24.519Z"
   },
   {
    "duration": 27,
    "start_time": "2024-09-15T22:38:49.976Z"
   },
   {
    "duration": 22,
    "start_time": "2024-09-15T22:39:01.025Z"
   },
   {
    "duration": 6,
    "start_time": "2024-09-15T22:39:08.144Z"
   },
   {
    "duration": 21,
    "start_time": "2024-09-15T22:39:14.259Z"
   },
   {
    "duration": 10,
    "start_time": "2024-09-15T22:39:19.049Z"
   },
   {
    "duration": 26,
    "start_time": "2024-09-15T22:43:14.446Z"
   },
   {
    "duration": 3,
    "start_time": "2024-09-15T22:43:42.777Z"
   },
   {
    "duration": 5,
    "start_time": "2024-09-15T22:44:03.376Z"
   },
   {
    "duration": 732,
    "start_time": "2024-09-15T22:49:36.216Z"
   },
   {
    "duration": 641,
    "start_time": "2024-09-15T22:49:51.230Z"
   },
   {
    "duration": 11,
    "start_time": "2024-09-15T22:50:04.194Z"
   },
   {
    "duration": 628,
    "start_time": "2024-09-15T22:50:19.549Z"
   },
   {
    "duration": 4,
    "start_time": "2024-09-15T22:50:34.551Z"
   },
   {
    "duration": 8,
    "start_time": "2024-09-15T22:50:57.172Z"
   },
   {
    "duration": 4,
    "start_time": "2024-09-15T22:51:10.608Z"
   },
   {
    "duration": 28,
    "start_time": "2024-09-15T22:51:20.624Z"
   },
   {
    "duration": 25,
    "start_time": "2024-09-15T22:51:51.477Z"
   },
   {
    "duration": 7,
    "start_time": "2024-09-15T22:52:24.193Z"
   },
   {
    "duration": 5,
    "start_time": "2024-09-15T22:55:49.081Z"
   },
   {
    "duration": 14,
    "start_time": "2024-09-15T22:56:03.413Z"
   },
   {
    "duration": 4,
    "start_time": "2024-09-15T22:57:05.559Z"
   },
   {
    "duration": 4,
    "start_time": "2024-09-15T22:57:07.657Z"
   },
   {
    "duration": 11,
    "start_time": "2024-09-15T22:57:39.348Z"
   },
   {
    "duration": 11,
    "start_time": "2024-09-15T22:58:03.441Z"
   },
   {
    "duration": 301,
    "start_time": "2024-09-15T22:58:17.658Z"
   },
   {
    "duration": 47,
    "start_time": "2024-09-15T22:59:59.389Z"
   },
   {
    "duration": 45,
    "start_time": "2024-09-15T23:00:14.070Z"
   },
   {
    "duration": 11,
    "start_time": "2024-09-15T23:00:51.643Z"
   },
   {
    "duration": 716,
    "start_time": "2024-09-15T23:00:56.731Z"
   },
   {
    "duration": 15,
    "start_time": "2024-09-15T23:01:25.994Z"
   },
   {
    "duration": 13,
    "start_time": "2024-09-15T23:01:37.141Z"
   },
   {
    "duration": 10,
    "start_time": "2024-09-15T23:02:15.114Z"
   },
   {
    "duration": 11,
    "start_time": "2024-09-15T23:02:38.280Z"
   },
   {
    "duration": 7,
    "start_time": "2024-09-15T23:02:49.096Z"
   },
   {
    "duration": 6,
    "start_time": "2024-09-15T23:03:08.521Z"
   },
   {
    "duration": 5,
    "start_time": "2024-09-15T23:03:20.479Z"
   },
   {
    "duration": 6,
    "start_time": "2024-09-15T23:03:52.954Z"
   },
   {
    "duration": 11,
    "start_time": "2024-09-15T23:04:00.829Z"
   },
   {
    "duration": 16,
    "start_time": "2024-09-15T23:04:35.763Z"
   },
   {
    "duration": 5,
    "start_time": "2024-09-15T23:04:59.259Z"
   },
   {
    "duration": 4,
    "start_time": "2024-09-15T23:05:06.926Z"
   },
   {
    "duration": 16,
    "start_time": "2024-09-15T23:05:15.731Z"
   },
   {
    "duration": 5,
    "start_time": "2024-09-15T23:05:22.675Z"
   },
   {
    "duration": 5,
    "start_time": "2024-09-15T23:05:44.065Z"
   },
   {
    "duration": 4,
    "start_time": "2024-09-15T23:05:55.045Z"
   },
   {
    "duration": 6,
    "start_time": "2024-09-15T23:05:57.758Z"
   },
   {
    "duration": 5,
    "start_time": "2024-09-15T23:06:46.074Z"
   },
   {
    "duration": 6,
    "start_time": "2024-09-15T23:06:59.593Z"
   },
   {
    "duration": 4,
    "start_time": "2024-09-15T23:07:03.637Z"
   },
   {
    "duration": 3,
    "start_time": "2024-09-15T23:08:24.588Z"
   },
   {
    "duration": 15,
    "start_time": "2024-09-15T23:08:35.870Z"
   },
   {
    "duration": 5,
    "start_time": "2024-09-15T23:09:46.855Z"
   },
   {
    "duration": 4,
    "start_time": "2024-09-15T23:10:22.851Z"
   },
   {
    "duration": 6,
    "start_time": "2024-09-15T23:11:41.295Z"
   },
   {
    "duration": 7,
    "start_time": "2024-09-15T23:11:47.207Z"
   },
   {
    "duration": 17,
    "start_time": "2024-09-15T23:13:01.578Z"
   },
   {
    "duration": 6,
    "start_time": "2024-09-15T23:13:10.683Z"
   },
   {
    "duration": 4,
    "start_time": "2024-09-15T23:13:12.791Z"
   },
   {
    "duration": 7,
    "start_time": "2024-09-15T23:13:42.932Z"
   },
   {
    "duration": 7,
    "start_time": "2024-09-15T23:13:46.183Z"
   },
   {
    "duration": 3,
    "start_time": "2024-09-15T23:13:49.693Z"
   },
   {
    "duration": 4,
    "start_time": "2024-09-15T23:14:10.058Z"
   },
   {
    "duration": 4,
    "start_time": "2024-09-15T23:14:10.503Z"
   },
   {
    "duration": 6,
    "start_time": "2024-09-15T23:14:18.686Z"
   },
   {
    "duration": 5,
    "start_time": "2024-09-15T23:14:22.265Z"
   },
   {
    "duration": 6,
    "start_time": "2024-09-15T23:14:42.139Z"
   },
   {
    "duration": 5,
    "start_time": "2024-09-15T23:33:37.683Z"
   },
   {
    "duration": 2574,
    "start_time": "2024-09-16T05:55:19.094Z"
   },
   {
    "duration": 96,
    "start_time": "2024-09-16T05:55:21.670Z"
   },
   {
    "duration": 80,
    "start_time": "2024-09-16T05:55:21.770Z"
   },
   {
    "duration": 62,
    "start_time": "2024-09-16T05:55:21.852Z"
   },
   {
    "duration": 8,
    "start_time": "2024-09-16T05:55:21.916Z"
   },
   {
    "duration": 9,
    "start_time": "2024-09-16T05:55:21.926Z"
   },
   {
    "duration": 13,
    "start_time": "2024-09-16T05:55:21.936Z"
   },
   {
    "duration": 10,
    "start_time": "2024-09-16T05:55:21.951Z"
   },
   {
    "duration": 11,
    "start_time": "2024-09-16T05:55:21.964Z"
   },
   {
    "duration": 4,
    "start_time": "2024-09-16T05:55:21.978Z"
   },
   {
    "duration": 4,
    "start_time": "2024-09-16T05:55:21.985Z"
   },
   {
    "duration": 63,
    "start_time": "2024-09-16T05:55:21.991Z"
   },
   {
    "duration": 7,
    "start_time": "2024-09-16T05:55:22.056Z"
   },
   {
    "duration": 4,
    "start_time": "2024-09-16T05:55:22.065Z"
   },
   {
    "duration": 9,
    "start_time": "2024-09-16T05:55:22.071Z"
   },
   {
    "duration": 22,
    "start_time": "2024-09-16T05:55:22.081Z"
   },
   {
    "duration": 37,
    "start_time": "2024-09-16T05:55:22.106Z"
   },
   {
    "duration": 13,
    "start_time": "2024-09-16T05:55:22.144Z"
   },
   {
    "duration": 10,
    "start_time": "2024-09-16T05:55:22.160Z"
   },
   {
    "duration": 10,
    "start_time": "2024-09-16T05:55:22.172Z"
   },
   {
    "duration": 60,
    "start_time": "2024-09-16T05:55:22.183Z"
   },
   {
    "duration": 6,
    "start_time": "2024-09-16T05:55:22.245Z"
   },
   {
    "duration": 57,
    "start_time": "2024-09-16T05:55:22.253Z"
   },
   {
    "duration": 8,
    "start_time": "2024-09-16T05:55:22.312Z"
   },
   {
    "duration": 23,
    "start_time": "2024-09-16T05:55:22.343Z"
   },
   {
    "duration": 6,
    "start_time": "2024-09-16T05:55:22.367Z"
   },
   {
    "duration": 29,
    "start_time": "2024-09-16T05:55:22.375Z"
   },
   {
    "duration": 38,
    "start_time": "2024-09-16T05:55:22.409Z"
   },
   {
    "duration": 28,
    "start_time": "2024-09-16T05:55:22.450Z"
   },
   {
    "duration": 6,
    "start_time": "2024-09-16T05:55:22.480Z"
   },
   {
    "duration": 74,
    "start_time": "2024-09-16T05:55:22.487Z"
   },
   {
    "duration": 12,
    "start_time": "2024-09-16T05:55:22.563Z"
   },
   {
    "duration": 15,
    "start_time": "2024-09-16T05:55:22.577Z"
   },
   {
    "duration": 16,
    "start_time": "2024-09-16T05:55:22.593Z"
   },
   {
    "duration": 34,
    "start_time": "2024-09-16T05:55:22.611Z"
   },
   {
    "duration": 10,
    "start_time": "2024-09-16T05:55:22.646Z"
   },
   {
    "duration": 15,
    "start_time": "2024-09-16T05:55:22.658Z"
   },
   {
    "duration": 11,
    "start_time": "2024-09-16T05:55:22.675Z"
   },
   {
    "duration": 680,
    "start_time": "2024-09-16T05:55:22.687Z"
   },
   {
    "duration": 8,
    "start_time": "2024-09-16T05:55:23.370Z"
   },
   {
    "duration": 265,
    "start_time": "2024-09-16T05:55:23.380Z"
   },
   {
    "duration": 8,
    "start_time": "2024-09-16T05:55:23.647Z"
   },
   {
    "duration": 176,
    "start_time": "2024-09-16T05:55:23.656Z"
   },
   {
    "duration": 14,
    "start_time": "2024-09-16T05:55:23.835Z"
   },
   {
    "duration": 229,
    "start_time": "2024-09-16T05:55:23.851Z"
   },
   {
    "duration": 8,
    "start_time": "2024-09-16T05:55:24.082Z"
   },
   {
    "duration": 230,
    "start_time": "2024-09-16T05:55:24.092Z"
   },
   {
    "duration": 8,
    "start_time": "2024-09-16T05:55:24.324Z"
   },
   {
    "duration": 285,
    "start_time": "2024-09-16T05:55:24.343Z"
   },
   {
    "duration": 14,
    "start_time": "2024-09-16T05:55:24.631Z"
   },
   {
    "duration": 556,
    "start_time": "2024-09-16T05:55:24.646Z"
   },
   {
    "duration": 5,
    "start_time": "2024-09-16T05:55:25.205Z"
   },
   {
    "duration": 5,
    "start_time": "2024-09-16T05:55:25.211Z"
   },
   {
    "duration": 4,
    "start_time": "2024-09-16T05:55:25.217Z"
   },
   {
    "duration": 5,
    "start_time": "2024-09-16T05:55:25.243Z"
   },
   {
    "duration": 231,
    "start_time": "2024-09-16T05:55:25.249Z"
   },
   {
    "duration": 0,
    "start_time": "2024-09-16T05:55:25.481Z"
   },
   {
    "duration": 0,
    "start_time": "2024-09-16T05:55:25.483Z"
   },
   {
    "duration": 0,
    "start_time": "2024-09-16T05:55:25.484Z"
   },
   {
    "duration": 7,
    "start_time": "2024-09-16T06:05:21.060Z"
   },
   {
    "duration": 156,
    "start_time": "2024-09-16T08:29:26.519Z"
   },
   {
    "duration": 2506,
    "start_time": "2024-09-16T08:29:35.138Z"
   },
   {
    "duration": 126,
    "start_time": "2024-09-16T08:29:37.647Z"
   },
   {
    "duration": 84,
    "start_time": "2024-09-16T08:29:37.775Z"
   },
   {
    "duration": 52,
    "start_time": "2024-09-16T08:29:37.861Z"
   },
   {
    "duration": 7,
    "start_time": "2024-09-16T08:29:37.915Z"
   },
   {
    "duration": 7,
    "start_time": "2024-09-16T08:29:37.926Z"
   },
   {
    "duration": 13,
    "start_time": "2024-09-16T08:29:37.937Z"
   },
   {
    "duration": 10,
    "start_time": "2024-09-16T08:29:37.951Z"
   },
   {
    "duration": 13,
    "start_time": "2024-09-16T08:29:37.963Z"
   },
   {
    "duration": 4,
    "start_time": "2024-09-16T08:29:38.125Z"
   },
   {
    "duration": 4,
    "start_time": "2024-09-16T08:29:38.297Z"
   },
   {
    "duration": 31,
    "start_time": "2024-09-16T08:29:38.716Z"
   },
   {
    "duration": 6,
    "start_time": "2024-09-16T08:29:38.914Z"
   },
   {
    "duration": 5,
    "start_time": "2024-09-16T08:29:43.135Z"
   },
   {
    "duration": 9,
    "start_time": "2024-09-16T08:29:44.148Z"
   },
   {
    "duration": 22,
    "start_time": "2024-09-16T08:29:59.807Z"
   },
   {
    "duration": 8,
    "start_time": "2024-09-16T08:30:00.522Z"
   },
   {
    "duration": 14,
    "start_time": "2024-09-16T08:30:05.946Z"
   },
   {
    "duration": 11,
    "start_time": "2024-09-16T08:30:17.401Z"
   },
   {
    "duration": 34,
    "start_time": "2024-09-16T08:30:19.365Z"
   },
   {
    "duration": 8,
    "start_time": "2024-09-16T08:30:20.132Z"
   },
   {
    "duration": 54,
    "start_time": "2024-09-16T08:30:24.353Z"
   },
   {
    "duration": 405,
    "start_time": "2024-09-16T08:31:28.830Z"
   },
   {
    "duration": 31,
    "start_time": "2024-09-16T08:31:37.248Z"
   },
   {
    "duration": 6,
    "start_time": "2024-09-16T08:31:41.809Z"
   },
   {
    "duration": 54,
    "start_time": "2024-09-16T08:31:43.942Z"
   },
   {
    "duration": 43,
    "start_time": "2024-09-16T08:32:01.439Z"
   },
   {
    "duration": 12,
    "start_time": "2024-09-16T08:32:06.231Z"
   },
   {
    "duration": 21,
    "start_time": "2024-09-16T08:32:20.037Z"
   },
   {
    "duration": 46,
    "start_time": "2024-09-16T08:32:26.778Z"
   },
   {
    "duration": 2,
    "start_time": "2024-09-16T08:32:37.518Z"
   },
   {
    "duration": 73,
    "start_time": "2024-09-16T08:32:37.526Z"
   },
   {
    "duration": 74,
    "start_time": "2024-09-16T08:32:37.601Z"
   },
   {
    "duration": 35,
    "start_time": "2024-09-16T08:32:37.677Z"
   },
   {
    "duration": 17,
    "start_time": "2024-09-16T08:32:37.714Z"
   },
   {
    "duration": 7,
    "start_time": "2024-09-16T08:32:37.734Z"
   },
   {
    "duration": 12,
    "start_time": "2024-09-16T08:32:37.743Z"
   },
   {
    "duration": 10,
    "start_time": "2024-09-16T08:32:37.757Z"
   },
   {
    "duration": 13,
    "start_time": "2024-09-16T08:32:37.769Z"
   },
   {
    "duration": 4,
    "start_time": "2024-09-16T08:32:37.783Z"
   },
   {
    "duration": 4,
    "start_time": "2024-09-16T08:32:37.789Z"
   },
   {
    "duration": 33,
    "start_time": "2024-09-16T08:32:37.832Z"
   },
   {
    "duration": 5,
    "start_time": "2024-09-16T08:32:37.867Z"
   },
   {
    "duration": 5,
    "start_time": "2024-09-16T08:32:37.874Z"
   },
   {
    "duration": 8,
    "start_time": "2024-09-16T08:32:37.883Z"
   },
   {
    "duration": 62,
    "start_time": "2024-09-16T08:32:37.893Z"
   },
   {
    "duration": 8,
    "start_time": "2024-09-16T08:32:37.956Z"
   },
   {
    "duration": 13,
    "start_time": "2024-09-16T08:32:37.965Z"
   },
   {
    "duration": 10,
    "start_time": "2024-09-16T08:32:37.980Z"
   },
   {
    "duration": 40,
    "start_time": "2024-09-16T08:32:37.992Z"
   },
   {
    "duration": 37,
    "start_time": "2024-09-16T08:32:38.034Z"
   },
   {
    "duration": 7,
    "start_time": "2024-09-16T08:32:38.073Z"
   },
   {
    "duration": 83,
    "start_time": "2024-09-16T08:32:38.081Z"
   },
   {
    "duration": 8,
    "start_time": "2024-09-16T08:32:38.166Z"
   },
   {
    "duration": 23,
    "start_time": "2024-09-16T08:32:38.176Z"
   },
   {
    "duration": 5,
    "start_time": "2024-09-16T08:32:38.201Z"
   },
   {
    "duration": 30,
    "start_time": "2024-09-16T08:32:38.231Z"
   },
   {
    "duration": 10,
    "start_time": "2024-09-16T08:32:38.263Z"
   },
   {
    "duration": 28,
    "start_time": "2024-09-16T08:32:38.274Z"
   },
   {
    "duration": 32,
    "start_time": "2024-09-16T08:32:38.304Z"
   },
   {
    "duration": 55,
    "start_time": "2024-09-16T08:32:38.339Z"
   },
   {
    "duration": 11,
    "start_time": "2024-09-16T08:32:38.396Z"
   },
   {
    "duration": 37,
    "start_time": "2024-09-16T08:32:38.408Z"
   },
   {
    "duration": 13,
    "start_time": "2024-09-16T08:32:38.447Z"
   },
   {
    "duration": 10,
    "start_time": "2024-09-16T08:32:38.462Z"
   },
   {
    "duration": 20,
    "start_time": "2024-09-16T08:32:38.473Z"
   },
   {
    "duration": 0,
    "start_time": "2024-09-16T08:32:38.495Z"
   },
   {
    "duration": 0,
    "start_time": "2024-09-16T08:32:38.497Z"
   },
   {
    "duration": 0,
    "start_time": "2024-09-16T08:32:38.498Z"
   },
   {
    "duration": 0,
    "start_time": "2024-09-16T08:32:38.499Z"
   },
   {
    "duration": 0,
    "start_time": "2024-09-16T08:32:38.501Z"
   },
   {
    "duration": 0,
    "start_time": "2024-09-16T08:32:38.531Z"
   },
   {
    "duration": 0,
    "start_time": "2024-09-16T08:32:38.532Z"
   },
   {
    "duration": 0,
    "start_time": "2024-09-16T08:32:38.533Z"
   },
   {
    "duration": 0,
    "start_time": "2024-09-16T08:32:38.534Z"
   },
   {
    "duration": 0,
    "start_time": "2024-09-16T08:32:38.535Z"
   },
   {
    "duration": 0,
    "start_time": "2024-09-16T08:32:38.536Z"
   },
   {
    "duration": 0,
    "start_time": "2024-09-16T08:32:38.537Z"
   },
   {
    "duration": 0,
    "start_time": "2024-09-16T08:32:38.538Z"
   },
   {
    "duration": 0,
    "start_time": "2024-09-16T08:32:38.539Z"
   },
   {
    "duration": 0,
    "start_time": "2024-09-16T08:32:38.540Z"
   },
   {
    "duration": 0,
    "start_time": "2024-09-16T08:32:38.541Z"
   },
   {
    "duration": 0,
    "start_time": "2024-09-16T08:32:38.542Z"
   },
   {
    "duration": 0,
    "start_time": "2024-09-16T08:32:38.544Z"
   },
   {
    "duration": 0,
    "start_time": "2024-09-16T08:32:38.545Z"
   },
   {
    "duration": 0,
    "start_time": "2024-09-16T08:32:38.545Z"
   },
   {
    "duration": 0,
    "start_time": "2024-09-16T08:32:38.546Z"
   },
   {
    "duration": 0,
    "start_time": "2024-09-16T08:32:38.548Z"
   },
   {
    "duration": 0,
    "start_time": "2024-09-16T08:32:38.549Z"
   },
   {
    "duration": 24,
    "start_time": "2024-09-16T08:33:00.231Z"
   },
   {
    "duration": 82,
    "start_time": "2024-09-16T08:33:29.845Z"
   },
   {
    "duration": 19,
    "start_time": "2024-09-16T08:33:38.274Z"
   },
   {
    "duration": 27,
    "start_time": "2024-09-16T08:33:45.440Z"
   },
   {
    "duration": 7,
    "start_time": "2024-09-16T08:33:48.260Z"
   },
   {
    "duration": 261,
    "start_time": "2024-09-16T08:33:50.458Z"
   },
   {
    "duration": 11,
    "start_time": "2024-09-16T08:33:53.832Z"
   },
   {
    "duration": 20,
    "start_time": "2024-09-16T08:33:59.187Z"
   },
   {
    "duration": 12,
    "start_time": "2024-09-16T08:34:30.829Z"
   },
   {
    "duration": 14,
    "start_time": "2024-09-16T08:34:36.856Z"
   },
   {
    "duration": 11,
    "start_time": "2024-09-16T08:34:41.729Z"
   },
   {
    "duration": 354,
    "start_time": "2024-09-16T08:34:52.014Z"
   },
   {
    "duration": 76,
    "start_time": "2024-09-16T08:34:56.586Z"
   },
   {
    "duration": 668,
    "start_time": "2024-09-16T08:35:28.355Z"
   },
   {
    "duration": 11,
    "start_time": "2024-09-16T08:36:14.123Z"
   },
   {
    "duration": 13,
    "start_time": "2024-09-16T08:36:16.156Z"
   },
   {
    "duration": 18,
    "start_time": "2024-09-16T08:36:30.084Z"
   },
   {
    "duration": 9,
    "start_time": "2024-09-16T08:36:32.219Z"
   },
   {
    "duration": 177,
    "start_time": "2024-09-16T08:36:34.491Z"
   },
   {
    "duration": 8,
    "start_time": "2024-09-16T08:36:37.978Z"
   },
   {
    "duration": 243,
    "start_time": "2024-09-16T08:36:40.788Z"
   },
   {
    "duration": 10,
    "start_time": "2024-09-16T08:36:47.832Z"
   },
   {
    "duration": 322,
    "start_time": "2024-09-16T08:36:50.136Z"
   },
   {
    "duration": 8,
    "start_time": "2024-09-16T08:36:55.120Z"
   },
   {
    "duration": 224,
    "start_time": "2024-09-16T08:36:57.943Z"
   },
   {
    "duration": 112,
    "start_time": "2024-09-16T08:37:04.093Z"
   },
   {
    "duration": 11,
    "start_time": "2024-09-16T08:37:22.361Z"
   },
   {
    "duration": 678,
    "start_time": "2024-09-16T08:37:24.627Z"
   },
   {
    "duration": 216,
    "start_time": "2024-09-16T08:37:38.687Z"
   },
   {
    "duration": 24,
    "start_time": "2024-09-16T08:37:41.518Z"
   },
   {
    "duration": 22,
    "start_time": "2024-09-16T08:37:42.727Z"
   },
   {
    "duration": 9,
    "start_time": "2024-09-16T08:37:48.217Z"
   },
   {
    "duration": 167,
    "start_time": "2024-09-16T08:37:51.113Z"
   },
   {
    "duration": 216,
    "start_time": "2024-09-16T08:37:56.495Z"
   },
   {
    "duration": 10,
    "start_time": "2024-09-16T08:38:01.530Z"
   },
   {
    "duration": 635,
    "start_time": "2024-09-16T08:38:04.004Z"
   },
   {
    "duration": 14,
    "start_time": "2024-09-16T08:38:28.763Z"
   },
   {
    "duration": 4,
    "start_time": "2024-09-16T08:38:31.316Z"
   },
   {
    "duration": 5,
    "start_time": "2024-09-16T08:38:33.096Z"
   },
   {
    "duration": 4,
    "start_time": "2024-09-16T08:38:35.150Z"
   },
   {
    "duration": 4,
    "start_time": "2024-09-16T08:38:36.618Z"
   },
   {
    "duration": 15,
    "start_time": "2024-09-16T08:38:38.239Z"
   },
   {
    "duration": 6,
    "start_time": "2024-09-16T08:38:57.820Z"
   },
   {
    "duration": 6,
    "start_time": "2024-09-16T08:39:00.083Z"
   },
   {
    "duration": 16,
    "start_time": "2024-09-16T08:39:01.897Z"
   },
   {
    "duration": 4,
    "start_time": "2024-09-16T08:39:38.449Z"
   },
   {
    "duration": 4,
    "start_time": "2024-09-16T08:39:54.194Z"
   },
   {
    "duration": 10,
    "start_time": "2024-09-16T08:42:04.284Z"
   },
   {
    "duration": 9,
    "start_time": "2024-09-16T08:46:28.961Z"
   },
   {
    "duration": 22,
    "start_time": "2024-09-16T08:47:44.555Z"
   },
   {
    "duration": 14,
    "start_time": "2024-09-16T08:48:01.932Z"
   },
   {
    "duration": 7,
    "start_time": "2024-09-16T08:48:19.251Z"
   },
   {
    "duration": 14,
    "start_time": "2024-09-16T08:48:30.312Z"
   },
   {
    "duration": 15,
    "start_time": "2024-09-16T08:48:47.474Z"
   },
   {
    "duration": 10,
    "start_time": "2024-09-16T08:49:02.804Z"
   },
   {
    "duration": 679,
    "start_time": "2024-09-16T08:49:20.639Z"
   },
   {
    "duration": 679,
    "start_time": "2024-09-16T08:49:48.342Z"
   },
   {
    "duration": 8,
    "start_time": "2024-09-16T08:50:19.474Z"
   },
   {
    "duration": 9,
    "start_time": "2024-09-16T08:50:24.773Z"
   },
   {
    "duration": 212,
    "start_time": "2024-09-16T08:50:32.072Z"
   },
   {
    "duration": 4,
    "start_time": "2024-09-16T08:54:36.993Z"
   },
   {
    "duration": 4,
    "start_time": "2024-09-16T08:54:46.968Z"
   },
   {
    "duration": 6,
    "start_time": "2024-09-16T08:54:53.172Z"
   },
   {
    "duration": 8,
    "start_time": "2024-09-16T08:54:59.379Z"
   },
   {
    "duration": 683,
    "start_time": "2024-09-16T08:55:38.999Z"
   },
   {
    "duration": 690,
    "start_time": "2024-09-16T08:55:51.244Z"
   },
   {
    "duration": 372,
    "start_time": "2024-09-16T09:00:45.893Z"
   },
   {
    "duration": 367,
    "start_time": "2024-09-16T09:01:04.888Z"
   },
   {
    "duration": 35,
    "start_time": "2024-09-16T09:01:27.016Z"
   },
   {
    "duration": 3,
    "start_time": "2024-09-16T09:01:39.743Z"
   },
   {
    "duration": 66,
    "start_time": "2024-09-16T09:01:46.226Z"
   },
   {
    "duration": 39,
    "start_time": "2024-09-16T09:01:50.399Z"
   },
   {
    "duration": 7,
    "start_time": "2024-09-16T09:01:54.732Z"
   },
   {
    "duration": 67,
    "start_time": "2024-09-16T09:01:57.609Z"
   },
   {
    "duration": 14,
    "start_time": "2024-09-16T09:02:37.023Z"
   },
   {
    "duration": 15,
    "start_time": "2024-09-16T09:02:53.739Z"
   },
   {
    "duration": 11,
    "start_time": "2024-09-16T09:02:59.218Z"
   },
   {
    "duration": 13,
    "start_time": "2024-09-16T09:03:22.822Z"
   },
   {
    "duration": 15,
    "start_time": "2024-09-16T09:03:41.964Z"
   },
   {
    "duration": 16,
    "start_time": "2024-09-16T09:03:54.253Z"
   },
   {
    "duration": 9,
    "start_time": "2024-09-16T09:04:33.082Z"
   },
   {
    "duration": 22,
    "start_time": "2024-09-16T09:04:34.765Z"
   },
   {
    "duration": 13,
    "start_time": "2024-09-16T09:04:53.299Z"
   },
   {
    "duration": 15,
    "start_time": "2024-09-16T09:05:08.137Z"
   },
   {
    "duration": 14,
    "start_time": "2024-09-16T09:05:32.909Z"
   },
   {
    "duration": 16,
    "start_time": "2024-09-16T09:05:43.260Z"
   },
   {
    "duration": 11,
    "start_time": "2024-09-16T09:05:54.930Z"
   },
   {
    "duration": 915,
    "start_time": "2024-09-16T09:06:02.845Z"
   },
   {
    "duration": 10,
    "start_time": "2024-09-16T09:06:34.540Z"
   },
   {
    "duration": 248,
    "start_time": "2024-09-16T09:06:40.864Z"
   },
   {
    "duration": 8,
    "start_time": "2024-09-16T09:06:49.100Z"
   },
   {
    "duration": 174,
    "start_time": "2024-09-16T09:06:53.985Z"
   },
   {
    "duration": 10,
    "start_time": "2024-09-16T09:07:02.139Z"
   },
   {
    "duration": 226,
    "start_time": "2024-09-16T09:07:06.593Z"
   },
   {
    "duration": 9,
    "start_time": "2024-09-16T09:07:12.353Z"
   },
   {
    "duration": 335,
    "start_time": "2024-09-16T09:07:39.904Z"
   },
   {
    "duration": 9,
    "start_time": "2024-09-16T09:07:46.380Z"
   },
   {
    "duration": 210,
    "start_time": "2024-09-16T09:07:48.759Z"
   },
   {
    "duration": 11,
    "start_time": "2024-09-16T09:07:52.936Z"
   },
   {
    "duration": 565,
    "start_time": "2024-09-16T09:07:55.923Z"
   },
   {
    "duration": 3,
    "start_time": "2024-09-16T09:11:18.984Z"
   },
   {
    "duration": 14,
    "start_time": "2024-09-16T09:11:30.075Z"
   },
   {
    "duration": 15,
    "start_time": "2024-09-16T09:12:35.606Z"
   },
   {
    "duration": 12,
    "start_time": "2024-09-16T09:12:42.672Z"
   },
   {
    "duration": 61,
    "start_time": "2024-09-16T09:12:46.899Z"
   },
   {
    "duration": 62,
    "start_time": "2024-09-16T09:12:50.200Z"
   },
   {
    "duration": 74,
    "start_time": "2024-09-16T09:13:30.815Z"
   },
   {
    "duration": 11,
    "start_time": "2024-09-16T09:14:00.801Z"
   },
   {
    "duration": 62,
    "start_time": "2024-09-16T09:14:06.927Z"
   },
   {
    "duration": 44,
    "start_time": "2024-09-16T09:15:46.913Z"
   },
   {
    "duration": 11,
    "start_time": "2024-09-16T09:16:01.538Z"
   },
   {
    "duration": 60,
    "start_time": "2024-09-16T09:16:04.428Z"
   },
   {
    "duration": 60,
    "start_time": "2024-09-16T09:17:45.876Z"
   },
   {
    "duration": 2470,
    "start_time": "2024-09-16T20:05:26.890Z"
   },
   {
    "duration": 114,
    "start_time": "2024-09-16T20:05:29.362Z"
   },
   {
    "duration": 84,
    "start_time": "2024-09-16T20:05:29.480Z"
   },
   {
    "duration": 62,
    "start_time": "2024-09-16T20:05:29.565Z"
   },
   {
    "duration": 8,
    "start_time": "2024-09-16T20:05:29.630Z"
   },
   {
    "duration": 9,
    "start_time": "2024-09-16T20:05:29.639Z"
   },
   {
    "duration": 11,
    "start_time": "2024-09-16T20:05:29.650Z"
   },
   {
    "duration": 9,
    "start_time": "2024-09-16T20:05:29.663Z"
   },
   {
    "duration": 11,
    "start_time": "2024-09-16T20:05:29.673Z"
   },
   {
    "duration": 4,
    "start_time": "2024-09-16T20:05:29.686Z"
   },
   {
    "duration": 21,
    "start_time": "2024-09-16T20:05:29.692Z"
   },
   {
    "duration": 30,
    "start_time": "2024-09-16T20:05:29.714Z"
   },
   {
    "duration": 4,
    "start_time": "2024-09-16T20:05:29.746Z"
   },
   {
    "duration": 4,
    "start_time": "2024-09-16T20:05:29.754Z"
   },
   {
    "duration": 8,
    "start_time": "2024-09-16T20:05:29.760Z"
   },
   {
    "duration": 46,
    "start_time": "2024-09-16T20:05:29.769Z"
   },
   {
    "duration": 22,
    "start_time": "2024-09-16T20:05:29.817Z"
   },
   {
    "duration": 8,
    "start_time": "2024-09-16T20:05:29.840Z"
   },
   {
    "duration": 13,
    "start_time": "2024-09-16T20:05:29.849Z"
   },
   {
    "duration": 11,
    "start_time": "2024-09-16T20:05:29.864Z"
   },
   {
    "duration": 41,
    "start_time": "2024-09-16T20:05:29.877Z"
   },
   {
    "duration": 42,
    "start_time": "2024-09-16T20:05:29.919Z"
   },
   {
    "duration": 7,
    "start_time": "2024-09-16T20:05:29.963Z"
   },
   {
    "duration": 78,
    "start_time": "2024-09-16T20:05:29.971Z"
   },
   {
    "duration": 9,
    "start_time": "2024-09-16T20:05:30.051Z"
   },
   {
    "duration": 21,
    "start_time": "2024-09-16T20:05:30.062Z"
   },
   {
    "duration": 28,
    "start_time": "2024-09-16T20:05:30.084Z"
   },
   {
    "duration": 31,
    "start_time": "2024-09-16T20:05:30.114Z"
   },
   {
    "duration": 10,
    "start_time": "2024-09-16T20:05:30.147Z"
   },
   {
    "duration": 55,
    "start_time": "2024-09-16T20:05:30.159Z"
   },
   {
    "duration": 7,
    "start_time": "2024-09-16T20:05:30.216Z"
   },
   {
    "duration": 51,
    "start_time": "2024-09-16T20:05:30.224Z"
   },
   {
    "duration": 12,
    "start_time": "2024-09-16T20:05:30.276Z"
   },
   {
    "duration": 8,
    "start_time": "2024-09-16T20:05:30.312Z"
   },
   {
    "duration": 14,
    "start_time": "2024-09-16T20:05:30.321Z"
   },
   {
    "duration": 13,
    "start_time": "2024-09-16T20:05:30.336Z"
   },
   {
    "duration": 9,
    "start_time": "2024-09-16T20:05:30.351Z"
   },
   {
    "duration": 14,
    "start_time": "2024-09-16T20:05:30.362Z"
   },
   {
    "duration": 48,
    "start_time": "2024-09-16T20:05:30.378Z"
   },
   {
    "duration": 15,
    "start_time": "2024-09-16T20:05:30.428Z"
   },
   {
    "duration": 10,
    "start_time": "2024-09-16T20:05:30.447Z"
   },
   {
    "duration": 529,
    "start_time": "2024-09-16T20:05:30.458Z"
   },
   {
    "duration": 0,
    "start_time": "2024-09-16T20:05:30.989Z"
   },
   {
    "duration": 0,
    "start_time": "2024-09-16T20:05:30.991Z"
   },
   {
    "duration": 0,
    "start_time": "2024-09-16T20:05:30.992Z"
   },
   {
    "duration": 0,
    "start_time": "2024-09-16T20:05:30.994Z"
   },
   {
    "duration": 0,
    "start_time": "2024-09-16T20:05:30.995Z"
   },
   {
    "duration": 0,
    "start_time": "2024-09-16T20:05:30.996Z"
   },
   {
    "duration": 0,
    "start_time": "2024-09-16T20:05:31.012Z"
   },
   {
    "duration": 0,
    "start_time": "2024-09-16T20:05:31.013Z"
   },
   {
    "duration": 0,
    "start_time": "2024-09-16T20:05:31.014Z"
   },
   {
    "duration": 0,
    "start_time": "2024-09-16T20:05:31.016Z"
   },
   {
    "duration": 0,
    "start_time": "2024-09-16T20:05:31.017Z"
   },
   {
    "duration": 0,
    "start_time": "2024-09-16T20:05:31.018Z"
   },
   {
    "duration": 0,
    "start_time": "2024-09-16T20:05:31.019Z"
   },
   {
    "duration": 0,
    "start_time": "2024-09-16T20:05:31.020Z"
   },
   {
    "duration": 0,
    "start_time": "2024-09-16T20:05:31.022Z"
   },
   {
    "duration": 0,
    "start_time": "2024-09-16T20:05:31.023Z"
   },
   {
    "duration": 0,
    "start_time": "2024-09-16T20:05:31.025Z"
   },
   {
    "duration": 0,
    "start_time": "2024-09-16T20:05:31.026Z"
   },
   {
    "duration": 0,
    "start_time": "2024-09-16T20:05:31.027Z"
   },
   {
    "duration": 0,
    "start_time": "2024-09-16T20:05:31.028Z"
   },
   {
    "duration": 3,
    "start_time": "2024-09-16T20:08:58.329Z"
   },
   {
    "duration": 3,
    "start_time": "2024-09-16T20:09:12.334Z"
   },
   {
    "duration": 5,
    "start_time": "2024-09-16T20:09:36.114Z"
   },
   {
    "duration": 4,
    "start_time": "2024-09-16T20:09:56.451Z"
   },
   {
    "duration": 4,
    "start_time": "2024-09-16T20:10:01.536Z"
   },
   {
    "duration": 64,
    "start_time": "2024-09-16T20:10:08.253Z"
   },
   {
    "duration": 393,
    "start_time": "2024-09-16T20:10:34.230Z"
   },
   {
    "duration": 22,
    "start_time": "2024-09-16T20:10:40.482Z"
   },
   {
    "duration": 3,
    "start_time": "2024-09-16T20:13:05.593Z"
   },
   {
    "duration": 103,
    "start_time": "2024-09-16T20:13:05.600Z"
   },
   {
    "duration": 83,
    "start_time": "2024-09-16T20:13:05.705Z"
   },
   {
    "duration": 49,
    "start_time": "2024-09-16T20:13:05.790Z"
   },
   {
    "duration": 6,
    "start_time": "2024-09-16T20:13:05.842Z"
   },
   {
    "duration": 7,
    "start_time": "2024-09-16T20:13:05.850Z"
   },
   {
    "duration": 24,
    "start_time": "2024-09-16T20:13:05.859Z"
   },
   {
    "duration": 13,
    "start_time": "2024-09-16T20:13:05.885Z"
   },
   {
    "duration": 26,
    "start_time": "2024-09-16T20:13:05.900Z"
   },
   {
    "duration": 5,
    "start_time": "2024-09-16T20:13:05.928Z"
   },
   {
    "duration": 4,
    "start_time": "2024-09-16T20:13:05.935Z"
   },
   {
    "duration": 37,
    "start_time": "2024-09-16T20:13:05.941Z"
   },
   {
    "duration": 35,
    "start_time": "2024-09-16T20:13:05.980Z"
   },
   {
    "duration": 5,
    "start_time": "2024-09-16T20:13:06.020Z"
   },
   {
    "duration": 10,
    "start_time": "2024-09-16T20:13:06.028Z"
   },
   {
    "duration": 11,
    "start_time": "2024-09-16T20:13:06.039Z"
   },
   {
    "duration": 37,
    "start_time": "2024-09-16T20:13:06.052Z"
   },
   {
    "duration": 24,
    "start_time": "2024-09-16T20:13:06.093Z"
   },
   {
    "duration": 15,
    "start_time": "2024-09-16T20:13:06.120Z"
   },
   {
    "duration": 13,
    "start_time": "2024-09-16T20:13:06.138Z"
   },
   {
    "duration": 18,
    "start_time": "2024-09-16T20:13:06.153Z"
   },
   {
    "duration": 60,
    "start_time": "2024-09-16T20:13:06.174Z"
   },
   {
    "duration": 7,
    "start_time": "2024-09-16T20:13:06.236Z"
   },
   {
    "duration": 104,
    "start_time": "2024-09-16T20:13:06.244Z"
   },
   {
    "duration": 8,
    "start_time": "2024-09-16T20:13:06.349Z"
   },
   {
    "duration": 36,
    "start_time": "2024-09-16T20:13:06.360Z"
   },
   {
    "duration": 18,
    "start_time": "2024-09-16T20:13:06.398Z"
   },
   {
    "duration": 43,
    "start_time": "2024-09-16T20:13:06.418Z"
   },
   {
    "duration": 11,
    "start_time": "2024-09-16T20:13:06.463Z"
   },
   {
    "duration": 53,
    "start_time": "2024-09-16T20:13:06.476Z"
   },
   {
    "duration": 6,
    "start_time": "2024-09-16T20:13:06.531Z"
   },
   {
    "duration": 72,
    "start_time": "2024-09-16T20:13:06.539Z"
   },
   {
    "duration": 14,
    "start_time": "2024-09-16T20:13:06.614Z"
   },
   {
    "duration": 12,
    "start_time": "2024-09-16T20:13:06.629Z"
   },
   {
    "duration": 18,
    "start_time": "2024-09-16T20:13:06.643Z"
   },
   {
    "duration": 20,
    "start_time": "2024-09-16T20:13:06.663Z"
   },
   {
    "duration": 34,
    "start_time": "2024-09-16T20:13:06.685Z"
   },
   {
    "duration": 14,
    "start_time": "2024-09-16T20:13:06.721Z"
   },
   {
    "duration": 21,
    "start_time": "2024-09-16T20:13:06.737Z"
   },
   {
    "duration": 15,
    "start_time": "2024-09-16T20:13:06.760Z"
   },
   {
    "duration": 37,
    "start_time": "2024-09-16T20:13:06.780Z"
   },
   {
    "duration": 67,
    "start_time": "2024-09-16T20:13:06.819Z"
   },
   {
    "duration": 0,
    "start_time": "2024-09-16T20:13:06.887Z"
   },
   {
    "duration": 1,
    "start_time": "2024-09-16T20:13:06.888Z"
   },
   {
    "duration": 0,
    "start_time": "2024-09-16T20:13:06.890Z"
   },
   {
    "duration": 0,
    "start_time": "2024-09-16T20:13:06.892Z"
   },
   {
    "duration": 0,
    "start_time": "2024-09-16T20:13:06.893Z"
   },
   {
    "duration": 0,
    "start_time": "2024-09-16T20:13:06.912Z"
   },
   {
    "duration": 0,
    "start_time": "2024-09-16T20:13:06.914Z"
   },
   {
    "duration": 0,
    "start_time": "2024-09-16T20:13:06.915Z"
   },
   {
    "duration": 0,
    "start_time": "2024-09-16T20:13:06.916Z"
   },
   {
    "duration": 0,
    "start_time": "2024-09-16T20:13:06.918Z"
   },
   {
    "duration": 0,
    "start_time": "2024-09-16T20:13:06.919Z"
   },
   {
    "duration": 0,
    "start_time": "2024-09-16T20:13:06.921Z"
   },
   {
    "duration": 0,
    "start_time": "2024-09-16T20:13:06.922Z"
   },
   {
    "duration": 0,
    "start_time": "2024-09-16T20:13:06.923Z"
   },
   {
    "duration": 0,
    "start_time": "2024-09-16T20:13:06.925Z"
   },
   {
    "duration": 0,
    "start_time": "2024-09-16T20:13:06.926Z"
   },
   {
    "duration": 0,
    "start_time": "2024-09-16T20:13:06.927Z"
   },
   {
    "duration": 0,
    "start_time": "2024-09-16T20:13:06.928Z"
   },
   {
    "duration": 0,
    "start_time": "2024-09-16T20:13:06.930Z"
   },
   {
    "duration": 0,
    "start_time": "2024-09-16T20:13:06.931Z"
   },
   {
    "duration": 83,
    "start_time": "2024-09-16T20:14:50.917Z"
   },
   {
    "duration": 2518,
    "start_time": "2024-09-17T16:58:35.053Z"
   },
   {
    "duration": 104,
    "start_time": "2024-09-17T16:58:37.573Z"
   },
   {
    "duration": 89,
    "start_time": "2024-09-17T16:58:37.678Z"
   },
   {
    "duration": 47,
    "start_time": "2024-09-17T16:58:37.770Z"
   },
   {
    "duration": 6,
    "start_time": "2024-09-17T16:58:37.818Z"
   },
   {
    "duration": 7,
    "start_time": "2024-09-17T16:58:37.825Z"
   },
   {
    "duration": 12,
    "start_time": "2024-09-17T16:58:37.834Z"
   },
   {
    "duration": 10,
    "start_time": "2024-09-17T16:58:37.848Z"
   },
   {
    "duration": 11,
    "start_time": "2024-09-17T16:58:37.860Z"
   },
   {
    "duration": 4,
    "start_time": "2024-09-17T16:58:37.873Z"
   },
   {
    "duration": 5,
    "start_time": "2024-09-17T16:58:37.878Z"
   },
   {
    "duration": 64,
    "start_time": "2024-09-17T16:58:37.886Z"
   },
   {
    "duration": 5,
    "start_time": "2024-09-17T16:58:37.952Z"
   },
   {
    "duration": 4,
    "start_time": "2024-09-17T16:58:37.959Z"
   },
   {
    "duration": 8,
    "start_time": "2024-09-17T16:58:37.964Z"
   },
   {
    "duration": 9,
    "start_time": "2024-09-17T16:58:37.973Z"
   },
   {
    "duration": 54,
    "start_time": "2024-09-17T16:58:37.983Z"
   },
   {
    "duration": 7,
    "start_time": "2024-09-17T16:58:38.039Z"
   },
   {
    "duration": 12,
    "start_time": "2024-09-17T16:58:38.048Z"
   },
   {
    "duration": 9,
    "start_time": "2024-09-17T16:58:38.063Z"
   },
   {
    "duration": 9,
    "start_time": "2024-09-17T16:58:38.074Z"
   },
   {
    "duration": 61,
    "start_time": "2024-09-17T16:58:38.085Z"
   },
   {
    "duration": 6,
    "start_time": "2024-09-17T16:58:38.148Z"
   },
   {
    "duration": 81,
    "start_time": "2024-09-17T16:58:38.156Z"
   },
   {
    "duration": 10,
    "start_time": "2024-09-17T16:58:38.239Z"
   },
   {
    "duration": 21,
    "start_time": "2024-09-17T16:58:38.251Z"
   },
   {
    "duration": 5,
    "start_time": "2024-09-17T16:58:38.273Z"
   },
   {
    "duration": 56,
    "start_time": "2024-09-17T16:58:38.284Z"
   },
   {
    "duration": 9,
    "start_time": "2024-09-17T16:58:38.342Z"
   },
   {
    "duration": 28,
    "start_time": "2024-09-17T16:58:38.354Z"
   },
   {
    "duration": 7,
    "start_time": "2024-09-17T16:58:38.384Z"
   },
   {
    "duration": 77,
    "start_time": "2024-09-17T16:58:38.393Z"
   },
   {
    "duration": 11,
    "start_time": "2024-09-17T16:58:38.472Z"
   },
   {
    "duration": 7,
    "start_time": "2024-09-17T16:58:38.485Z"
   },
   {
    "duration": 34,
    "start_time": "2024-09-17T16:58:38.494Z"
   },
   {
    "duration": 14,
    "start_time": "2024-09-17T16:58:38.529Z"
   },
   {
    "duration": 9,
    "start_time": "2024-09-17T16:58:38.545Z"
   },
   {
    "duration": 16,
    "start_time": "2024-09-17T16:58:38.556Z"
   },
   {
    "duration": 20,
    "start_time": "2024-09-17T16:58:38.574Z"
   },
   {
    "duration": 42,
    "start_time": "2024-09-17T16:58:38.596Z"
   },
   {
    "duration": 10,
    "start_time": "2024-09-17T16:58:38.640Z"
   },
   {
    "duration": 525,
    "start_time": "2024-09-17T16:58:38.653Z"
   },
   {
    "duration": 0,
    "start_time": "2024-09-17T16:58:39.180Z"
   },
   {
    "duration": 0,
    "start_time": "2024-09-17T16:58:39.181Z"
   },
   {
    "duration": 0,
    "start_time": "2024-09-17T16:58:39.183Z"
   },
   {
    "duration": 0,
    "start_time": "2024-09-17T16:58:39.184Z"
   },
   {
    "duration": 0,
    "start_time": "2024-09-17T16:58:39.185Z"
   },
   {
    "duration": 0,
    "start_time": "2024-09-17T16:58:39.186Z"
   },
   {
    "duration": 0,
    "start_time": "2024-09-17T16:58:39.188Z"
   },
   {
    "duration": 0,
    "start_time": "2024-09-17T16:58:39.189Z"
   },
   {
    "duration": 0,
    "start_time": "2024-09-17T16:58:39.190Z"
   },
   {
    "duration": 0,
    "start_time": "2024-09-17T16:58:39.191Z"
   },
   {
    "duration": 0,
    "start_time": "2024-09-17T16:58:39.192Z"
   },
   {
    "duration": 0,
    "start_time": "2024-09-17T16:58:39.193Z"
   },
   {
    "duration": 0,
    "start_time": "2024-09-17T16:58:39.194Z"
   },
   {
    "duration": 0,
    "start_time": "2024-09-17T16:58:39.223Z"
   },
   {
    "duration": 0,
    "start_time": "2024-09-17T16:58:39.224Z"
   },
   {
    "duration": 0,
    "start_time": "2024-09-17T16:58:39.226Z"
   },
   {
    "duration": 0,
    "start_time": "2024-09-17T16:58:39.227Z"
   },
   {
    "duration": 0,
    "start_time": "2024-09-17T16:58:39.228Z"
   },
   {
    "duration": 0,
    "start_time": "2024-09-17T16:58:39.229Z"
   },
   {
    "duration": 0,
    "start_time": "2024-09-17T16:58:39.230Z"
   },
   {
    "duration": 3,
    "start_time": "2024-09-17T17:04:15.964Z"
   },
   {
    "duration": 2,
    "start_time": "2024-09-17T17:04:17.489Z"
   },
   {
    "duration": 15,
    "start_time": "2024-09-17T17:04:25.889Z"
   },
   {
    "duration": 16,
    "start_time": "2024-09-17T17:04:33.372Z"
   },
   {
    "duration": 62,
    "start_time": "2024-09-17T17:09:35.361Z"
   },
   {
    "duration": 64,
    "start_time": "2024-09-17T17:11:56.004Z"
   },
   {
    "duration": 62,
    "start_time": "2024-09-17T17:13:26.548Z"
   },
   {
    "duration": 780,
    "start_time": "2024-09-17T17:14:30.249Z"
   },
   {
    "duration": 699,
    "start_time": "2024-09-17T17:14:46.863Z"
   },
   {
    "duration": 60,
    "start_time": "2024-09-17T17:15:01.472Z"
   },
   {
    "duration": 956,
    "start_time": "2024-09-17T17:17:10.163Z"
   },
   {
    "duration": 1036,
    "start_time": "2024-09-17T17:17:33.316Z"
   },
   {
    "duration": 967,
    "start_time": "2024-09-17T17:18:06.912Z"
   },
   {
    "duration": 174,
    "start_time": "2024-09-17T17:18:12.911Z"
   },
   {
    "duration": 10,
    "start_time": "2024-09-17T17:19:20.081Z"
   },
   {
    "duration": 242,
    "start_time": "2024-09-17T17:19:25.739Z"
   },
   {
    "duration": 9,
    "start_time": "2024-09-17T17:19:29.495Z"
   },
   {
    "duration": 193,
    "start_time": "2024-09-17T17:19:32.681Z"
   },
   {
    "duration": 10,
    "start_time": "2024-09-17T17:19:35.265Z"
   },
   {
    "duration": 229,
    "start_time": "2024-09-17T17:19:37.922Z"
   },
   {
    "duration": 8,
    "start_time": "2024-09-17T17:19:40.964Z"
   },
   {
    "duration": 221,
    "start_time": "2024-09-17T17:19:43.784Z"
   },
   {
    "duration": 7,
    "start_time": "2024-09-17T17:19:46.680Z"
   },
   {
    "duration": 233,
    "start_time": "2024-09-17T17:19:48.823Z"
   },
   {
    "duration": 9,
    "start_time": "2024-09-17T17:19:51.839Z"
   },
   {
    "duration": 620,
    "start_time": "2024-09-17T17:19:54.020Z"
   },
   {
    "duration": 4,
    "start_time": "2024-09-17T17:19:58.112Z"
   },
   {
    "duration": 6,
    "start_time": "2024-09-17T17:19:59.729Z"
   },
   {
    "duration": 5,
    "start_time": "2024-09-17T17:20:02.199Z"
   },
   {
    "duration": 5,
    "start_time": "2024-09-17T17:20:03.961Z"
   },
   {
    "duration": 4,
    "start_time": "2024-09-17T17:20:05.535Z"
   },
   {
    "duration": 8,
    "start_time": "2024-09-17T17:20:10.398Z"
   },
   {
    "duration": 6,
    "start_time": "2024-09-17T17:20:18.520Z"
   },
   {
    "duration": 6,
    "start_time": "2024-09-17T17:20:20.853Z"
   },
   {
    "duration": 2884,
    "start_time": "2024-09-18T08:12:28.908Z"
   },
   {
    "duration": 114,
    "start_time": "2024-09-18T08:12:31.795Z"
   },
   {
    "duration": 90,
    "start_time": "2024-09-18T08:12:31.912Z"
   },
   {
    "duration": 75,
    "start_time": "2024-09-18T08:12:32.005Z"
   },
   {
    "duration": 10,
    "start_time": "2024-09-18T08:12:32.082Z"
   },
   {
    "duration": 13,
    "start_time": "2024-09-18T08:12:32.094Z"
   },
   {
    "duration": 12,
    "start_time": "2024-09-18T08:12:32.109Z"
   },
   {
    "duration": 11,
    "start_time": "2024-09-18T08:12:32.123Z"
   },
   {
    "duration": 12,
    "start_time": "2024-09-18T08:12:32.136Z"
   },
   {
    "duration": 4,
    "start_time": "2024-09-18T08:12:32.151Z"
   },
   {
    "duration": 4,
    "start_time": "2024-09-18T08:12:32.157Z"
   },
   {
    "duration": 74,
    "start_time": "2024-09-18T08:12:32.164Z"
   },
   {
    "duration": 5,
    "start_time": "2024-09-18T08:12:32.240Z"
   },
   {
    "duration": 6,
    "start_time": "2024-09-18T08:12:32.248Z"
   },
   {
    "duration": 9,
    "start_time": "2024-09-18T08:12:32.256Z"
   },
   {
    "duration": 44,
    "start_time": "2024-09-18T08:12:32.267Z"
   },
   {
    "duration": 24,
    "start_time": "2024-09-18T08:12:32.313Z"
   },
   {
    "duration": 9,
    "start_time": "2024-09-18T08:12:32.338Z"
   },
   {
    "duration": 16,
    "start_time": "2024-09-18T08:12:32.349Z"
   },
   {
    "duration": 45,
    "start_time": "2024-09-18T08:12:32.367Z"
   },
   {
    "duration": 12,
    "start_time": "2024-09-18T08:12:32.414Z"
   },
   {
    "duration": 36,
    "start_time": "2024-09-18T08:12:32.428Z"
   },
   {
    "duration": 7,
    "start_time": "2024-09-18T08:12:32.466Z"
   },
   {
    "duration": 69,
    "start_time": "2024-09-18T08:12:32.510Z"
   },
   {
    "duration": 28,
    "start_time": "2024-09-18T08:12:32.581Z"
   },
   {
    "duration": 24,
    "start_time": "2024-09-18T08:12:32.611Z"
   },
   {
    "duration": 6,
    "start_time": "2024-09-18T08:12:32.637Z"
   },
   {
    "duration": 31,
    "start_time": "2024-09-18T08:12:32.648Z"
   },
   {
    "duration": 11,
    "start_time": "2024-09-18T08:12:32.709Z"
   },
   {
    "duration": 36,
    "start_time": "2024-09-18T08:12:32.722Z"
   },
   {
    "duration": 8,
    "start_time": "2024-09-18T08:12:32.760Z"
   },
   {
    "duration": 97,
    "start_time": "2024-09-18T08:12:32.770Z"
   },
   {
    "duration": 12,
    "start_time": "2024-09-18T08:12:32.869Z"
   },
   {
    "duration": 27,
    "start_time": "2024-09-18T08:12:32.883Z"
   },
   {
    "duration": 17,
    "start_time": "2024-09-18T08:12:32.912Z"
   },
   {
    "duration": 15,
    "start_time": "2024-09-18T08:12:32.931Z"
   },
   {
    "duration": 11,
    "start_time": "2024-09-18T08:12:32.948Z"
   },
   {
    "duration": 17,
    "start_time": "2024-09-18T08:12:32.961Z"
   },
   {
    "duration": 18,
    "start_time": "2024-09-18T08:12:33.008Z"
   },
   {
    "duration": 16,
    "start_time": "2024-09-18T08:12:33.028Z"
   },
   {
    "duration": 11,
    "start_time": "2024-09-18T08:12:33.046Z"
   },
   {
    "duration": 642,
    "start_time": "2024-09-18T08:12:33.059Z"
   },
   {
    "duration": 0,
    "start_time": "2024-09-18T08:12:33.710Z"
   },
   {
    "duration": 0,
    "start_time": "2024-09-18T08:12:33.710Z"
   },
   {
    "duration": 0,
    "start_time": "2024-09-18T08:12:33.712Z"
   },
   {
    "duration": 0,
    "start_time": "2024-09-18T08:12:33.713Z"
   },
   {
    "duration": 0,
    "start_time": "2024-09-18T08:12:33.714Z"
   },
   {
    "duration": 0,
    "start_time": "2024-09-18T08:12:33.715Z"
   },
   {
    "duration": 0,
    "start_time": "2024-09-18T08:12:33.716Z"
   },
   {
    "duration": 0,
    "start_time": "2024-09-18T08:12:33.717Z"
   },
   {
    "duration": 0,
    "start_time": "2024-09-18T08:12:33.718Z"
   },
   {
    "duration": 0,
    "start_time": "2024-09-18T08:12:33.719Z"
   },
   {
    "duration": 0,
    "start_time": "2024-09-18T08:12:33.720Z"
   },
   {
    "duration": 0,
    "start_time": "2024-09-18T08:12:33.721Z"
   },
   {
    "duration": 0,
    "start_time": "2024-09-18T08:12:33.721Z"
   },
   {
    "duration": 0,
    "start_time": "2024-09-18T08:12:33.722Z"
   },
   {
    "duration": 0,
    "start_time": "2024-09-18T08:12:33.723Z"
   },
   {
    "duration": 0,
    "start_time": "2024-09-18T08:12:33.724Z"
   },
   {
    "duration": 0,
    "start_time": "2024-09-18T08:12:33.725Z"
   },
   {
    "duration": 0,
    "start_time": "2024-09-18T08:12:33.726Z"
   },
   {
    "duration": 0,
    "start_time": "2024-09-18T08:12:33.728Z"
   },
   {
    "duration": 0,
    "start_time": "2024-09-18T08:12:33.729Z"
   },
   {
    "duration": 128,
    "start_time": "2024-09-18T08:14:07.444Z"
   },
   {
    "duration": 983,
    "start_time": "2024-09-18T08:15:06.700Z"
   },
   {
    "duration": 961,
    "start_time": "2024-09-18T08:15:16.480Z"
   },
   {
    "duration": 9,
    "start_time": "2024-09-18T08:15:24.683Z"
   },
   {
    "duration": 227,
    "start_time": "2024-09-18T08:15:27.405Z"
   },
   {
    "duration": 9,
    "start_time": "2024-09-18T08:15:43.171Z"
   },
   {
    "duration": 181,
    "start_time": "2024-09-18T08:15:46.801Z"
   },
   {
    "duration": 11,
    "start_time": "2024-09-18T08:15:56.458Z"
   },
   {
    "duration": 238,
    "start_time": "2024-09-18T08:16:00.177Z"
   },
   {
    "duration": 9,
    "start_time": "2024-09-18T08:16:07.742Z"
   },
   {
    "duration": 238,
    "start_time": "2024-09-18T08:16:19.612Z"
   },
   {
    "duration": 9,
    "start_time": "2024-09-18T08:16:34.318Z"
   },
   {
    "duration": 329,
    "start_time": "2024-09-18T08:16:36.714Z"
   },
   {
    "duration": 12,
    "start_time": "2024-09-18T08:16:44.230Z"
   },
   {
    "duration": 578,
    "start_time": "2024-09-18T08:16:46.820Z"
   },
   {
    "duration": 5,
    "start_time": "2024-09-18T08:17:03.472Z"
   },
   {
    "duration": 6,
    "start_time": "2024-09-18T08:17:05.195Z"
   },
   {
    "duration": 4,
    "start_time": "2024-09-18T08:17:07.580Z"
   },
   {
    "duration": 5,
    "start_time": "2024-09-18T08:17:10.003Z"
   },
   {
    "duration": 4,
    "start_time": "2024-09-18T08:17:12.635Z"
   },
   {
    "duration": 8,
    "start_time": "2024-09-18T08:17:17.788Z"
   },
   {
    "duration": 7,
    "start_time": "2024-09-18T08:17:23.399Z"
   },
   {
    "duration": 7,
    "start_time": "2024-09-18T08:17:25.991Z"
   },
   {
    "duration": 11,
    "start_time": "2024-09-18T08:19:30.921Z"
   },
   {
    "duration": 240,
    "start_time": "2024-09-18T08:19:35.949Z"
   },
   {
    "duration": 12,
    "start_time": "2024-09-18T08:20:19.194Z"
   },
   {
    "duration": 229,
    "start_time": "2024-09-18T08:21:14.849Z"
   },
   {
    "duration": 10,
    "start_time": "2024-09-18T08:36:49.541Z"
   },
   {
    "duration": 226,
    "start_time": "2024-09-18T08:38:13.628Z"
   },
   {
    "duration": 11,
    "start_time": "2024-09-18T08:44:45.123Z"
   },
   {
    "duration": 216,
    "start_time": "2024-09-18T08:45:16.877Z"
   },
   {
    "duration": 3,
    "start_time": "2024-09-18T08:53:02.723Z"
   },
   {
    "duration": 78,
    "start_time": "2024-09-18T08:53:03.734Z"
   },
   {
    "duration": 56,
    "start_time": "2024-09-18T08:53:04.167Z"
   },
   {
    "duration": 35,
    "start_time": "2024-09-18T08:53:04.378Z"
   },
   {
    "duration": 8,
    "start_time": "2024-09-18T08:53:04.659Z"
   },
   {
    "duration": 8,
    "start_time": "2024-09-18T08:53:04.914Z"
   },
   {
    "duration": 13,
    "start_time": "2024-09-18T08:53:06.794Z"
   },
   {
    "duration": 11,
    "start_time": "2024-09-18T08:53:07.134Z"
   },
   {
    "duration": 13,
    "start_time": "2024-09-18T08:53:07.518Z"
   },
   {
    "duration": 6,
    "start_time": "2024-09-18T08:53:07.733Z"
   },
   {
    "duration": 5,
    "start_time": "2024-09-18T08:53:08.052Z"
   },
   {
    "duration": 32,
    "start_time": "2024-09-18T08:53:09.523Z"
   },
   {
    "duration": 6,
    "start_time": "2024-09-18T08:53:10.320Z"
   },
   {
    "duration": 6,
    "start_time": "2024-09-18T08:53:14.200Z"
   },
   {
    "duration": 10,
    "start_time": "2024-09-18T08:53:14.404Z"
   },
   {
    "duration": 9,
    "start_time": "2024-09-18T08:53:15.373Z"
   },
   {
    "duration": 22,
    "start_time": "2024-09-18T08:53:15.816Z"
   },
   {
    "duration": 8,
    "start_time": "2024-09-18T08:53:16.206Z"
   },
   {
    "duration": 15,
    "start_time": "2024-09-18T08:53:21.759Z"
   },
   {
    "duration": 12,
    "start_time": "2024-09-18T08:53:21.994Z"
   },
   {
    "duration": 11,
    "start_time": "2024-09-18T08:53:33.420Z"
   },
   {
    "duration": 34,
    "start_time": "2024-09-18T08:53:34.043Z"
   },
   {
    "duration": 6,
    "start_time": "2024-09-18T08:53:34.511Z"
   },
   {
    "duration": 60,
    "start_time": "2024-09-18T08:53:36.145Z"
   },
   {
    "duration": 8,
    "start_time": "2024-09-18T08:53:36.842Z"
   },
   {
    "duration": 23,
    "start_time": "2024-09-18T08:53:37.217Z"
   },
   {
    "duration": 7,
    "start_time": "2024-09-18T08:53:37.363Z"
   },
   {
    "duration": 30,
    "start_time": "2024-09-18T08:53:38.447Z"
   },
   {
    "duration": 10,
    "start_time": "2024-09-18T08:53:38.973Z"
   },
   {
    "duration": 29,
    "start_time": "2024-09-18T08:53:39.532Z"
   },
   {
    "duration": 7,
    "start_time": "2024-09-18T08:53:39.698Z"
   },
   {
    "duration": 52,
    "start_time": "2024-09-18T08:53:40.767Z"
   },
   {
    "duration": 11,
    "start_time": "2024-09-18T08:53:41.553Z"
   },
   {
    "duration": 8,
    "start_time": "2024-09-18T08:53:41.719Z"
   },
   {
    "duration": 14,
    "start_time": "2024-09-18T08:53:42.679Z"
   },
   {
    "duration": 15,
    "start_time": "2024-09-18T08:53:42.845Z"
   },
   {
    "duration": 11,
    "start_time": "2024-09-18T08:53:43.302Z"
   },
   {
    "duration": 16,
    "start_time": "2024-09-18T08:53:43.779Z"
   },
   {
    "duration": 17,
    "start_time": "2024-09-18T08:53:44.440Z"
   },
   {
    "duration": 17,
    "start_time": "2024-09-18T08:53:44.686Z"
   },
   {
    "duration": 12,
    "start_time": "2024-09-18T08:53:45.105Z"
   },
   {
    "duration": 958,
    "start_time": "2024-09-18T08:53:45.527Z"
   },
   {
    "duration": 10,
    "start_time": "2024-09-18T08:53:46.652Z"
   },
   {
    "duration": 314,
    "start_time": "2024-09-18T08:53:46.857Z"
   },
   {
    "duration": 10,
    "start_time": "2024-09-18T08:53:47.910Z"
   },
   {
    "duration": 180,
    "start_time": "2024-09-18T08:53:48.131Z"
   },
   {
    "duration": 11,
    "start_time": "2024-09-18T08:53:48.953Z"
   },
   {
    "duration": 229,
    "start_time": "2024-09-18T08:53:49.152Z"
   },
   {
    "duration": 9,
    "start_time": "2024-09-18T08:53:50.594Z"
   },
   {
    "duration": 220,
    "start_time": "2024-09-18T08:53:50.841Z"
   },
   {
    "duration": 10,
    "start_time": "2024-09-18T08:53:51.610Z"
   },
   {
    "duration": 221,
    "start_time": "2024-09-18T08:53:51.817Z"
   },
   {
    "duration": 9,
    "start_time": "2024-09-18T08:53:53.743Z"
   },
   {
    "duration": 217,
    "start_time": "2024-09-18T08:53:54.055Z"
   },
   {
    "duration": 11,
    "start_time": "2024-09-18T08:53:54.923Z"
   },
   {
    "duration": 232,
    "start_time": "2024-09-18T08:53:55.242Z"
   },
   {
    "duration": 11,
    "start_time": "2024-09-18T08:53:56.917Z"
   },
   {
    "duration": 655,
    "start_time": "2024-09-18T08:53:57.198Z"
   },
   {
    "duration": 9,
    "start_time": "2024-09-18T08:53:57.856Z"
   },
   {
    "duration": 219,
    "start_time": "2024-09-18T08:53:57.983Z"
   },
   {
    "duration": 4,
    "start_time": "2024-09-18T08:54:08.199Z"
   },
   {
    "duration": 5,
    "start_time": "2024-09-18T08:54:08.400Z"
   },
   {
    "duration": 4,
    "start_time": "2024-09-18T08:54:08.579Z"
   },
   {
    "duration": 5,
    "start_time": "2024-09-18T08:54:08.777Z"
   },
   {
    "duration": 5,
    "start_time": "2024-09-18T08:54:08.974Z"
   },
   {
    "duration": 10,
    "start_time": "2024-09-18T08:54:11.721Z"
   },
   {
    "duration": 7,
    "start_time": "2024-09-18T08:54:11.876Z"
   },
   {
    "duration": 4,
    "start_time": "2024-09-18T08:54:12.351Z"
   },
   {
    "duration": 955,
    "start_time": "2024-09-18T08:54:58.338Z"
   },
   {
    "duration": 5,
    "start_time": "2024-09-18T08:55:56.400Z"
   },
   {
    "duration": 5,
    "start_time": "2024-09-18T08:56:31.483Z"
   },
   {
    "duration": 7,
    "start_time": "2024-09-18T08:56:34.235Z"
   },
   {
    "duration": 6,
    "start_time": "2024-09-18T08:56:45.887Z"
   },
   {
    "duration": 5,
    "start_time": "2024-09-18T08:57:04.057Z"
   },
   {
    "duration": 6,
    "start_time": "2024-09-18T08:57:12.073Z"
   },
   {
    "duration": 6,
    "start_time": "2024-09-18T08:57:14.348Z"
   },
   {
    "duration": 974,
    "start_time": "2024-09-18T08:57:16.934Z"
   },
   {
    "duration": 11,
    "start_time": "2024-09-18T08:57:37.666Z"
   },
   {
    "duration": 5,
    "start_time": "2024-09-18T08:57:40.215Z"
   },
   {
    "duration": 7,
    "start_time": "2024-09-18T08:57:46.653Z"
   },
   {
    "duration": 997,
    "start_time": "2024-09-18T08:57:56.919Z"
   },
   {
    "duration": 10,
    "start_time": "2024-09-18T08:58:05.973Z"
   },
   {
    "duration": 216,
    "start_time": "2024-09-18T08:58:08.279Z"
   },
   {
    "duration": 2850,
    "start_time": "2024-09-18T18:04:40.802Z"
   },
   {
    "duration": 105,
    "start_time": "2024-09-18T18:04:43.654Z"
   },
   {
    "duration": 88,
    "start_time": "2024-09-18T18:04:43.761Z"
   },
   {
    "duration": 78,
    "start_time": "2024-09-18T18:04:43.852Z"
   },
   {
    "duration": 7,
    "start_time": "2024-09-18T18:04:43.933Z"
   },
   {
    "duration": 8,
    "start_time": "2024-09-18T18:04:43.942Z"
   },
   {
    "duration": 13,
    "start_time": "2024-09-18T18:04:43.951Z"
   },
   {
    "duration": 10,
    "start_time": "2024-09-18T18:04:43.965Z"
   },
   {
    "duration": 18,
    "start_time": "2024-09-18T18:04:43.977Z"
   },
   {
    "duration": 4,
    "start_time": "2024-09-18T18:04:44.000Z"
   },
   {
    "duration": 5,
    "start_time": "2024-09-18T18:04:44.007Z"
   },
   {
    "duration": 74,
    "start_time": "2024-09-18T18:04:44.013Z"
   },
   {
    "duration": 7,
    "start_time": "2024-09-18T18:04:44.089Z"
   },
   {
    "duration": 6,
    "start_time": "2024-09-18T18:04:44.098Z"
   },
   {
    "duration": 8,
    "start_time": "2024-09-18T18:04:44.106Z"
   },
   {
    "duration": 10,
    "start_time": "2024-09-18T18:04:44.116Z"
   },
   {
    "duration": 60,
    "start_time": "2024-09-18T18:04:44.128Z"
   },
   {
    "duration": 11,
    "start_time": "2024-09-18T18:04:44.190Z"
   },
   {
    "duration": 18,
    "start_time": "2024-09-18T18:04:44.204Z"
   },
   {
    "duration": 11,
    "start_time": "2024-09-18T18:04:44.224Z"
   },
   {
    "duration": 14,
    "start_time": "2024-09-18T18:04:44.237Z"
   },
   {
    "duration": 65,
    "start_time": "2024-09-18T18:04:44.253Z"
   },
   {
    "duration": 8,
    "start_time": "2024-09-18T18:04:44.320Z"
   },
   {
    "duration": 86,
    "start_time": "2024-09-18T18:04:44.330Z"
   },
   {
    "duration": 9,
    "start_time": "2024-09-18T18:04:44.419Z"
   },
   {
    "duration": 29,
    "start_time": "2024-09-18T18:04:44.430Z"
   },
   {
    "duration": 26,
    "start_time": "2024-09-18T18:04:44.462Z"
   },
   {
    "duration": 31,
    "start_time": "2024-09-18T18:04:44.494Z"
   },
   {
    "duration": 12,
    "start_time": "2024-09-18T18:04:44.528Z"
   },
   {
    "duration": 52,
    "start_time": "2024-09-18T18:04:44.542Z"
   },
   {
    "duration": 7,
    "start_time": "2024-09-18T18:04:44.596Z"
   },
   {
    "duration": 57,
    "start_time": "2024-09-18T18:04:44.604Z"
   },
   {
    "duration": 31,
    "start_time": "2024-09-18T18:04:44.663Z"
   },
   {
    "duration": 12,
    "start_time": "2024-09-18T18:04:44.696Z"
   },
   {
    "duration": 18,
    "start_time": "2024-09-18T18:04:44.710Z"
   },
   {
    "duration": 20,
    "start_time": "2024-09-18T18:04:44.730Z"
   },
   {
    "duration": 12,
    "start_time": "2024-09-18T18:04:44.786Z"
   },
   {
    "duration": 16,
    "start_time": "2024-09-18T18:04:44.799Z"
   },
   {
    "duration": 16,
    "start_time": "2024-09-18T18:04:44.817Z"
   },
   {
    "duration": 16,
    "start_time": "2024-09-18T18:04:44.834Z"
   },
   {
    "duration": 39,
    "start_time": "2024-09-18T18:04:44.852Z"
   },
   {
    "duration": 4,
    "start_time": "2024-09-18T18:04:44.893Z"
   },
   {
    "duration": 7,
    "start_time": "2024-09-18T18:04:44.898Z"
   },
   {
    "duration": 967,
    "start_time": "2024-09-18T18:04:44.906Z"
   },
   {
    "duration": 16,
    "start_time": "2024-09-18T18:04:45.875Z"
   },
   {
    "duration": 223,
    "start_time": "2024-09-18T18:04:45.893Z"
   },
   {
    "duration": 8,
    "start_time": "2024-09-18T18:04:46.118Z"
   },
   {
    "duration": 189,
    "start_time": "2024-09-18T18:04:46.128Z"
   },
   {
    "duration": 228,
    "start_time": "2024-09-18T18:04:46.318Z"
   },
   {
    "duration": 0,
    "start_time": "2024-09-18T18:04:46.548Z"
   },
   {
    "duration": 0,
    "start_time": "2024-09-18T18:04:46.549Z"
   },
   {
    "duration": 0,
    "start_time": "2024-09-18T18:04:46.551Z"
   },
   {
    "duration": 0,
    "start_time": "2024-09-18T18:04:46.552Z"
   },
   {
    "duration": 0,
    "start_time": "2024-09-18T18:04:46.554Z"
   },
   {
    "duration": 0,
    "start_time": "2024-09-18T18:04:46.555Z"
   },
   {
    "duration": 0,
    "start_time": "2024-09-18T18:04:46.556Z"
   },
   {
    "duration": 0,
    "start_time": "2024-09-18T18:04:46.557Z"
   },
   {
    "duration": 0,
    "start_time": "2024-09-18T18:04:46.558Z"
   },
   {
    "duration": 0,
    "start_time": "2024-09-18T18:04:46.559Z"
   },
   {
    "duration": 0,
    "start_time": "2024-09-18T18:04:46.561Z"
   },
   {
    "duration": 0,
    "start_time": "2024-09-18T18:04:46.588Z"
   },
   {
    "duration": 0,
    "start_time": "2024-09-18T18:04:46.589Z"
   },
   {
    "duration": 0,
    "start_time": "2024-09-18T18:04:46.590Z"
   },
   {
    "duration": 0,
    "start_time": "2024-09-18T18:04:46.591Z"
   },
   {
    "duration": 0,
    "start_time": "2024-09-18T18:04:46.592Z"
   },
   {
    "duration": 0,
    "start_time": "2024-09-18T18:04:46.593Z"
   },
   {
    "duration": 0,
    "start_time": "2024-09-18T18:04:46.594Z"
   },
   {
    "duration": 0,
    "start_time": "2024-09-18T18:04:46.595Z"
   },
   {
    "duration": 0,
    "start_time": "2024-09-18T18:04:46.597Z"
   },
   {
    "duration": 0,
    "start_time": "2024-09-18T18:04:46.598Z"
   },
   {
    "duration": 2597,
    "start_time": "2024-09-19T01:39:00.298Z"
   },
   {
    "duration": 96,
    "start_time": "2024-09-19T01:39:02.897Z"
   },
   {
    "duration": 82,
    "start_time": "2024-09-19T01:39:02.994Z"
   },
   {
    "duration": 46,
    "start_time": "2024-09-19T01:39:03.078Z"
   },
   {
    "duration": 6,
    "start_time": "2024-09-19T01:39:03.126Z"
   },
   {
    "duration": 9,
    "start_time": "2024-09-19T01:39:03.134Z"
   },
   {
    "duration": 11,
    "start_time": "2024-09-19T01:39:03.144Z"
   },
   {
    "duration": 9,
    "start_time": "2024-09-19T01:39:03.157Z"
   },
   {
    "duration": 10,
    "start_time": "2024-09-19T01:39:03.171Z"
   },
   {
    "duration": 3,
    "start_time": "2024-09-19T01:39:03.185Z"
   },
   {
    "duration": 4,
    "start_time": "2024-09-19T01:39:03.190Z"
   },
   {
    "duration": 31,
    "start_time": "2024-09-19T01:39:03.196Z"
   },
   {
    "duration": 5,
    "start_time": "2024-09-19T01:39:03.229Z"
   },
   {
    "duration": 4,
    "start_time": "2024-09-19T01:39:03.270Z"
   },
   {
    "duration": 7,
    "start_time": "2024-09-19T01:39:03.276Z"
   },
   {
    "duration": 9,
    "start_time": "2024-09-19T01:39:03.285Z"
   },
   {
    "duration": 21,
    "start_time": "2024-09-19T01:39:03.295Z"
   },
   {
    "duration": 7,
    "start_time": "2024-09-19T01:39:03.318Z"
   },
   {
    "duration": 49,
    "start_time": "2024-09-19T01:39:03.327Z"
   },
   {
    "duration": 10,
    "start_time": "2024-09-19T01:39:03.378Z"
   },
   {
    "duration": 10,
    "start_time": "2024-09-19T01:39:03.391Z"
   },
   {
    "duration": 34,
    "start_time": "2024-09-19T01:39:03.402Z"
   },
   {
    "duration": 32,
    "start_time": "2024-09-19T01:39:03.438Z"
   },
   {
    "duration": 63,
    "start_time": "2024-09-19T01:39:03.472Z"
   },
   {
    "duration": 9,
    "start_time": "2024-09-19T01:39:03.537Z"
   },
   {
    "duration": 22,
    "start_time": "2024-09-19T01:39:03.570Z"
   },
   {
    "duration": 5,
    "start_time": "2024-09-19T01:39:03.594Z"
   },
   {
    "duration": 30,
    "start_time": "2024-09-19T01:39:03.603Z"
   },
   {
    "duration": 37,
    "start_time": "2024-09-19T01:39:03.635Z"
   },
   {
    "duration": 30,
    "start_time": "2024-09-19T01:39:03.674Z"
   },
   {
    "duration": 6,
    "start_time": "2024-09-19T01:39:03.706Z"
   },
   {
    "duration": 77,
    "start_time": "2024-09-19T01:39:03.714Z"
   },
   {
    "duration": 12,
    "start_time": "2024-09-19T01:39:03.793Z"
   },
   {
    "duration": 7,
    "start_time": "2024-09-19T01:39:03.807Z"
   },
   {
    "duration": 14,
    "start_time": "2024-09-19T01:39:03.816Z"
   },
   {
    "duration": 44,
    "start_time": "2024-09-19T01:39:03.832Z"
   },
   {
    "duration": 10,
    "start_time": "2024-09-19T01:39:03.878Z"
   },
   {
    "duration": 15,
    "start_time": "2024-09-19T01:39:03.890Z"
   },
   {
    "duration": 16,
    "start_time": "2024-09-19T01:39:03.906Z"
   },
   {
    "duration": 47,
    "start_time": "2024-09-19T01:39:03.924Z"
   },
   {
    "duration": 12,
    "start_time": "2024-09-19T01:39:03.973Z"
   },
   {
    "duration": 4,
    "start_time": "2024-09-19T01:39:03.987Z"
   },
   {
    "duration": 6,
    "start_time": "2024-09-19T01:39:03.993Z"
   },
   {
    "duration": 917,
    "start_time": "2024-09-19T01:39:04.001Z"
   },
   {
    "duration": 8,
    "start_time": "2024-09-19T01:39:04.920Z"
   },
   {
    "duration": 240,
    "start_time": "2024-09-19T01:39:04.931Z"
   },
   {
    "duration": 8,
    "start_time": "2024-09-19T01:39:05.173Z"
   },
   {
    "duration": 183,
    "start_time": "2024-09-19T01:39:05.183Z"
   },
   {
    "duration": 231,
    "start_time": "2024-09-19T01:39:05.367Z"
   },
   {
    "duration": 0,
    "start_time": "2024-09-19T01:39:05.600Z"
   },
   {
    "duration": 0,
    "start_time": "2024-09-19T01:39:05.602Z"
   },
   {
    "duration": 0,
    "start_time": "2024-09-19T01:39:05.603Z"
   },
   {
    "duration": 0,
    "start_time": "2024-09-19T01:39:05.604Z"
   },
   {
    "duration": 0,
    "start_time": "2024-09-19T01:39:05.606Z"
   },
   {
    "duration": 0,
    "start_time": "2024-09-19T01:39:05.607Z"
   },
   {
    "duration": 0,
    "start_time": "2024-09-19T01:39:05.609Z"
   },
   {
    "duration": 0,
    "start_time": "2024-09-19T01:39:05.610Z"
   },
   {
    "duration": 0,
    "start_time": "2024-09-19T01:39:05.612Z"
   },
   {
    "duration": 0,
    "start_time": "2024-09-19T01:39:05.613Z"
   },
   {
    "duration": 0,
    "start_time": "2024-09-19T01:39:05.615Z"
   },
   {
    "duration": 0,
    "start_time": "2024-09-19T01:39:05.616Z"
   },
   {
    "duration": 0,
    "start_time": "2024-09-19T01:39:05.618Z"
   },
   {
    "duration": 0,
    "start_time": "2024-09-19T01:39:05.619Z"
   },
   {
    "duration": 0,
    "start_time": "2024-09-19T01:39:05.621Z"
   },
   {
    "duration": 0,
    "start_time": "2024-09-19T01:39:05.622Z"
   },
   {
    "duration": 0,
    "start_time": "2024-09-19T01:39:05.624Z"
   },
   {
    "duration": 0,
    "start_time": "2024-09-19T01:39:05.625Z"
   },
   {
    "duration": 0,
    "start_time": "2024-09-19T01:39:05.627Z"
   },
   {
    "duration": 0,
    "start_time": "2024-09-19T01:39:05.628Z"
   },
   {
    "duration": 0,
    "start_time": "2024-09-19T01:39:05.669Z"
   },
   {
    "duration": 10,
    "start_time": "2024-09-19T01:40:22.746Z"
   },
   {
    "duration": 285,
    "start_time": "2024-09-19T01:40:27.168Z"
   },
   {
    "duration": 9,
    "start_time": "2024-09-19T01:40:34.769Z"
   },
   {
    "duration": 224,
    "start_time": "2024-09-19T01:40:36.323Z"
   },
   {
    "duration": 19,
    "start_time": "2024-09-19T01:40:39.703Z"
   },
   {
    "duration": 10,
    "start_time": "2024-09-19T01:40:45.508Z"
   },
   {
    "duration": 216,
    "start_time": "2024-09-19T01:40:47.742Z"
   },
   {
    "duration": 8,
    "start_time": "2024-09-19T01:40:50.867Z"
   },
   {
    "duration": 211,
    "start_time": "2024-09-19T01:40:52.545Z"
   },
   {
    "duration": 9,
    "start_time": "2024-09-19T01:40:55.596Z"
   },
   {
    "duration": 232,
    "start_time": "2024-09-19T01:40:57.112Z"
   },
   {
    "duration": 10,
    "start_time": "2024-09-19T01:41:01.472Z"
   },
   {
    "duration": 597,
    "start_time": "2024-09-19T01:41:03.562Z"
   },
   {
    "duration": 11,
    "start_time": "2024-09-19T01:41:07.321Z"
   },
   {
    "duration": 213,
    "start_time": "2024-09-19T01:41:09.680Z"
   },
   {
    "duration": 5,
    "start_time": "2024-09-19T01:41:14.231Z"
   },
   {
    "duration": 5,
    "start_time": "2024-09-19T01:41:15.664Z"
   },
   {
    "duration": 4,
    "start_time": "2024-09-19T01:41:18.297Z"
   },
   {
    "duration": 5,
    "start_time": "2024-09-19T01:41:21.151Z"
   },
   {
    "duration": 4,
    "start_time": "2024-09-19T01:41:23.278Z"
   },
   {
    "duration": 10,
    "start_time": "2024-09-19T01:41:27.067Z"
   },
   {
    "duration": 6,
    "start_time": "2024-09-19T01:41:31.087Z"
   },
   {
    "duration": 7,
    "start_time": "2024-09-19T01:41:32.845Z"
   },
   {
    "duration": 4,
    "start_time": "2024-09-19T01:42:42.010Z"
   },
   {
    "duration": 173,
    "start_time": "2024-09-19T01:43:02.334Z"
   },
   {
    "duration": 12,
    "start_time": "2024-09-19T01:43:05.731Z"
   },
   {
    "duration": 228,
    "start_time": "2024-09-19T01:43:08.343Z"
   },
   {
    "duration": 9,
    "start_time": "2024-09-19T01:43:11.916Z"
   },
   {
    "duration": 211,
    "start_time": "2024-09-19T01:43:14.219Z"
   },
   {
    "duration": 9,
    "start_time": "2024-09-19T01:43:17.038Z"
   },
   {
    "duration": 213,
    "start_time": "2024-09-19T01:43:19.467Z"
   },
   {
    "duration": 10,
    "start_time": "2024-09-19T01:43:22.862Z"
   },
   {
    "duration": 220,
    "start_time": "2024-09-19T01:43:26.211Z"
   },
   {
    "duration": 10,
    "start_time": "2024-09-19T01:43:29.560Z"
   },
   {
    "duration": 294,
    "start_time": "2024-09-19T01:43:31.597Z"
   },
   {
    "duration": 11,
    "start_time": "2024-09-19T01:43:35.034Z"
   },
   {
    "duration": 506,
    "start_time": "2024-09-19T01:43:37.291Z"
   },
   {
    "duration": 10,
    "start_time": "2024-09-19T01:43:39.540Z"
   },
   {
    "duration": 212,
    "start_time": "2024-09-19T01:43:41.869Z"
   },
   {
    "duration": 7,
    "start_time": "2024-09-19T01:43:46.352Z"
   },
   {
    "duration": 5,
    "start_time": "2024-09-19T01:43:48.663Z"
   },
   {
    "duration": 5,
    "start_time": "2024-09-19T01:43:53.813Z"
   },
   {
    "duration": 5,
    "start_time": "2024-09-19T01:43:54.609Z"
   },
   {
    "duration": 7,
    "start_time": "2024-09-19T01:43:58.271Z"
   },
   {
    "duration": 7,
    "start_time": "2024-09-19T01:43:58.499Z"
   },
   {
    "duration": 4,
    "start_time": "2024-09-19T01:43:58.998Z"
   },
   {
    "duration": 833,
    "start_time": "2024-09-19T04:33:23.575Z"
   },
   {
    "duration": 68,
    "start_time": "2024-09-19T04:33:24.411Z"
   },
   {
    "duration": 61,
    "start_time": "2024-09-19T04:33:24.481Z"
   },
   {
    "duration": 32,
    "start_time": "2024-09-19T04:33:24.544Z"
   },
   {
    "duration": 5,
    "start_time": "2024-09-19T04:33:24.580Z"
   },
   {
    "duration": 6,
    "start_time": "2024-09-19T04:33:24.586Z"
   },
   {
    "duration": 11,
    "start_time": "2024-09-19T04:33:24.606Z"
   },
   {
    "duration": 9,
    "start_time": "2024-09-19T04:33:24.619Z"
   },
   {
    "duration": 11,
    "start_time": "2024-09-19T04:33:24.630Z"
   },
   {
    "duration": 4,
    "start_time": "2024-09-19T04:33:24.643Z"
   },
   {
    "duration": 4,
    "start_time": "2024-09-19T04:33:24.649Z"
   },
   {
    "duration": 67,
    "start_time": "2024-09-19T04:33:24.655Z"
   },
   {
    "duration": 5,
    "start_time": "2024-09-19T04:33:24.723Z"
   },
   {
    "duration": 5,
    "start_time": "2024-09-19T04:33:24.732Z"
   },
   {
    "duration": 9,
    "start_time": "2024-09-19T04:33:24.738Z"
   },
   {
    "duration": 9,
    "start_time": "2024-09-19T04:33:24.748Z"
   },
   {
    "duration": 56,
    "start_time": "2024-09-19T04:33:24.759Z"
   },
   {
    "duration": 7,
    "start_time": "2024-09-19T04:33:24.817Z"
   },
   {
    "duration": 13,
    "start_time": "2024-09-19T04:33:24.826Z"
   },
   {
    "duration": 11,
    "start_time": "2024-09-19T04:33:24.840Z"
   },
   {
    "duration": 11,
    "start_time": "2024-09-19T04:33:24.853Z"
   },
   {
    "duration": 67,
    "start_time": "2024-09-19T04:33:24.866Z"
   },
   {
    "duration": 7,
    "start_time": "2024-09-19T04:33:24.935Z"
   },
   {
    "duration": 85,
    "start_time": "2024-09-19T04:33:24.943Z"
   },
   {
    "duration": 9,
    "start_time": "2024-09-19T04:33:25.030Z"
   },
   {
    "duration": 22,
    "start_time": "2024-09-19T04:33:25.040Z"
   },
   {
    "duration": 5,
    "start_time": "2024-09-19T04:33:25.063Z"
   },
   {
    "duration": 60,
    "start_time": "2024-09-19T04:33:25.070Z"
   },
   {
    "duration": 9,
    "start_time": "2024-09-19T04:33:25.132Z"
   },
   {
    "duration": 30,
    "start_time": "2024-09-19T04:33:25.143Z"
   },
   {
    "duration": 6,
    "start_time": "2024-09-19T04:33:25.174Z"
   },
   {
    "duration": 59,
    "start_time": "2024-09-19T04:33:25.204Z"
   },
   {
    "duration": 11,
    "start_time": "2024-09-19T04:33:25.265Z"
   },
   {
    "duration": 30,
    "start_time": "2024-09-19T04:33:25.278Z"
   },
   {
    "duration": 14,
    "start_time": "2024-09-19T04:33:25.310Z"
   },
   {
    "duration": 15,
    "start_time": "2024-09-19T04:33:25.326Z"
   },
   {
    "duration": 10,
    "start_time": "2024-09-19T04:33:25.343Z"
   },
   {
    "duration": 14,
    "start_time": "2024-09-19T04:33:25.355Z"
   },
   {
    "duration": 50,
    "start_time": "2024-09-19T04:33:25.371Z"
   },
   {
    "duration": 19,
    "start_time": "2024-09-19T04:33:25.423Z"
   },
   {
    "duration": 10,
    "start_time": "2024-09-19T04:33:25.447Z"
   },
   {
    "duration": 4,
    "start_time": "2024-09-19T04:33:25.459Z"
   },
   {
    "duration": 6,
    "start_time": "2024-09-19T04:33:25.465Z"
   },
   {
    "duration": 956,
    "start_time": "2024-09-19T04:33:25.473Z"
   },
   {
    "duration": 9,
    "start_time": "2024-09-19T04:33:26.430Z"
   },
   {
    "duration": 238,
    "start_time": "2024-09-19T04:33:26.441Z"
   },
   {
    "duration": 8,
    "start_time": "2024-09-19T04:33:26.681Z"
   },
   {
    "duration": 247,
    "start_time": "2024-09-19T04:33:26.691Z"
   },
   {
    "duration": 10,
    "start_time": "2024-09-19T04:33:26.939Z"
   },
   {
    "duration": 232,
    "start_time": "2024-09-19T04:33:26.951Z"
   },
   {
    "duration": 9,
    "start_time": "2024-09-19T04:33:27.185Z"
   },
   {
    "duration": 229,
    "start_time": "2024-09-19T04:33:27.205Z"
   },
   {
    "duration": 10,
    "start_time": "2024-09-19T04:33:27.436Z"
   },
   {
    "duration": 243,
    "start_time": "2024-09-19T04:33:27.447Z"
   },
   {
    "duration": 16,
    "start_time": "2024-09-19T04:33:27.693Z"
   },
   {
    "duration": 217,
    "start_time": "2024-09-19T04:33:27.710Z"
   },
   {
    "duration": 10,
    "start_time": "2024-09-19T04:33:27.929Z"
   },
   {
    "duration": 241,
    "start_time": "2024-09-19T04:33:27.941Z"
   },
   {
    "duration": 10,
    "start_time": "2024-09-19T04:33:28.185Z"
   },
   {
    "duration": 592,
    "start_time": "2024-09-19T04:33:28.204Z"
   },
   {
    "duration": 14,
    "start_time": "2024-09-19T04:33:28.798Z"
   },
   {
    "duration": 225,
    "start_time": "2024-09-19T04:33:28.814Z"
   },
   {
    "duration": 5,
    "start_time": "2024-09-19T04:33:29.041Z"
   },
   {
    "duration": 5,
    "start_time": "2024-09-19T04:33:29.049Z"
   },
   {
    "duration": 4,
    "start_time": "2024-09-19T04:33:29.055Z"
   },
   {
    "duration": 5,
    "start_time": "2024-09-19T04:33:29.060Z"
   },
   {
    "duration": 3,
    "start_time": "2024-09-19T04:33:29.067Z"
   },
   {
    "duration": 8,
    "start_time": "2024-09-19T04:33:29.104Z"
   },
   {
    "duration": 6,
    "start_time": "2024-09-19T04:33:29.113Z"
   },
   {
    "duration": 5,
    "start_time": "2024-09-19T04:33:29.121Z"
   },
   {
    "duration": 4,
    "start_time": "2024-09-19T04:39:03.686Z"
   },
   {
    "duration": 159,
    "start_time": "2024-09-19T05:58:06.573Z"
   },
   {
    "duration": 12,
    "start_time": "2024-09-19T05:58:25.778Z"
   },
   {
    "duration": 2564,
    "start_time": "2024-09-19T05:58:35.459Z"
   },
   {
    "duration": 109,
    "start_time": "2024-09-19T05:58:38.026Z"
   },
   {
    "duration": 85,
    "start_time": "2024-09-19T05:58:38.138Z"
   },
   {
    "duration": 62,
    "start_time": "2024-09-19T05:58:38.225Z"
   },
   {
    "duration": 9,
    "start_time": "2024-09-19T05:58:38.289Z"
   },
   {
    "duration": 10,
    "start_time": "2024-09-19T05:58:38.299Z"
   },
   {
    "duration": 11,
    "start_time": "2024-09-19T05:58:38.311Z"
   },
   {
    "duration": 10,
    "start_time": "2024-09-19T05:58:38.324Z"
   },
   {
    "duration": 11,
    "start_time": "2024-09-19T05:58:38.335Z"
   },
   {
    "duration": 4,
    "start_time": "2024-09-19T05:58:38.348Z"
   },
   {
    "duration": 4,
    "start_time": "2024-09-19T05:58:38.354Z"
   },
   {
    "duration": 31,
    "start_time": "2024-09-19T05:58:38.360Z"
   },
   {
    "duration": 5,
    "start_time": "2024-09-19T05:58:38.393Z"
   },
   {
    "duration": 7,
    "start_time": "2024-09-19T05:58:38.434Z"
   },
   {
    "duration": 7,
    "start_time": "2024-09-19T05:58:38.443Z"
   },
   {
    "duration": 10,
    "start_time": "2024-09-19T05:58:38.453Z"
   },
   {
    "duration": 21,
    "start_time": "2024-09-19T05:58:38.465Z"
   },
   {
    "duration": 7,
    "start_time": "2024-09-19T05:58:38.487Z"
   },
   {
    "duration": 47,
    "start_time": "2024-09-19T05:58:38.496Z"
   },
   {
    "duration": 12,
    "start_time": "2024-09-19T05:58:38.545Z"
   },
   {
    "duration": 10,
    "start_time": "2024-09-19T05:58:38.559Z"
   },
   {
    "duration": 35,
    "start_time": "2024-09-19T05:58:38.570Z"
   },
   {
    "duration": 7,
    "start_time": "2024-09-19T05:58:38.631Z"
   },
   {
    "duration": 64,
    "start_time": "2024-09-19T05:58:38.639Z"
   },
   {
    "duration": 26,
    "start_time": "2024-09-19T05:58:38.705Z"
   },
   {
    "duration": 21,
    "start_time": "2024-09-19T05:58:38.733Z"
   },
   {
    "duration": 5,
    "start_time": "2024-09-19T05:58:38.756Z"
   },
   {
    "duration": 31,
    "start_time": "2024-09-19T05:58:38.762Z"
   },
   {
    "duration": 37,
    "start_time": "2024-09-19T05:58:38.795Z"
   },
   {
    "duration": 29,
    "start_time": "2024-09-19T05:58:38.834Z"
   },
   {
    "duration": 6,
    "start_time": "2024-09-19T05:58:38.864Z"
   },
   {
    "duration": 77,
    "start_time": "2024-09-19T05:58:38.872Z"
   },
   {
    "duration": 11,
    "start_time": "2024-09-19T05:58:38.950Z"
   },
   {
    "duration": 7,
    "start_time": "2024-09-19T05:58:38.963Z"
   },
   {
    "duration": 15,
    "start_time": "2024-09-19T05:58:38.972Z"
   },
   {
    "duration": 42,
    "start_time": "2024-09-19T05:58:38.989Z"
   },
   {
    "duration": 10,
    "start_time": "2024-09-19T05:58:39.033Z"
   },
   {
    "duration": 14,
    "start_time": "2024-09-19T05:58:39.044Z"
   },
   {
    "duration": 16,
    "start_time": "2024-09-19T05:58:39.060Z"
   },
   {
    "duration": 14,
    "start_time": "2024-09-19T05:58:39.078Z"
   },
   {
    "duration": 39,
    "start_time": "2024-09-19T05:58:39.098Z"
   },
   {
    "duration": 4,
    "start_time": "2024-09-19T05:58:39.138Z"
   },
   {
    "duration": 5,
    "start_time": "2024-09-19T05:58:39.144Z"
   },
   {
    "duration": 949,
    "start_time": "2024-09-19T05:58:39.151Z"
   },
   {
    "duration": 8,
    "start_time": "2024-09-19T05:58:40.101Z"
   },
   {
    "duration": 232,
    "start_time": "2024-09-19T05:58:40.111Z"
   },
   {
    "duration": 8,
    "start_time": "2024-09-19T05:58:40.345Z"
   },
   {
    "duration": 250,
    "start_time": "2024-09-19T05:58:40.355Z"
   },
   {
    "duration": 10,
    "start_time": "2024-09-19T05:58:40.607Z"
   },
   {
    "duration": 240,
    "start_time": "2024-09-19T05:58:40.618Z"
   },
   {
    "duration": 9,
    "start_time": "2024-09-19T05:58:40.860Z"
   },
   {
    "duration": 229,
    "start_time": "2024-09-19T05:58:40.870Z"
   },
   {
    "duration": 9,
    "start_time": "2024-09-19T05:58:41.102Z"
   },
   {
    "duration": 232,
    "start_time": "2024-09-19T05:58:41.112Z"
   },
   {
    "duration": 8,
    "start_time": "2024-09-19T05:58:41.346Z"
   },
   {
    "duration": 238,
    "start_time": "2024-09-19T05:58:41.356Z"
   },
   {
    "duration": 10,
    "start_time": "2024-09-19T05:58:41.596Z"
   },
   {
    "duration": 242,
    "start_time": "2024-09-19T05:58:41.608Z"
   },
   {
    "duration": 11,
    "start_time": "2024-09-19T05:58:41.852Z"
   },
   {
    "duration": 657,
    "start_time": "2024-09-19T05:58:41.865Z"
   },
   {
    "duration": 14,
    "start_time": "2024-09-19T05:58:42.525Z"
   },
   {
    "duration": 227,
    "start_time": "2024-09-19T05:58:42.542Z"
   },
   {
    "duration": 4,
    "start_time": "2024-09-19T05:58:42.771Z"
   },
   {
    "duration": 5,
    "start_time": "2024-09-19T05:58:42.777Z"
   },
   {
    "duration": 3,
    "start_time": "2024-09-19T05:58:42.784Z"
   },
   {
    "duration": 4,
    "start_time": "2024-09-19T05:58:42.789Z"
   },
   {
    "duration": 4,
    "start_time": "2024-09-19T05:58:42.794Z"
   },
   {
    "duration": 36,
    "start_time": "2024-09-19T05:58:42.800Z"
   },
   {
    "duration": 5,
    "start_time": "2024-09-19T05:58:42.838Z"
   }
  ],
  "kernelspec": {
   "display_name": "base",
   "language": "python",
   "name": "python3"
  },
  "language_info": {
   "codemirror_mode": {
    "name": "ipython",
    "version": 3
   },
   "file_extension": ".py",
   "mimetype": "text/x-python",
   "name": "python",
   "nbconvert_exporter": "python",
   "pygments_lexer": "ipython3",
   "version": "3.12.4"
  },
  "toc": {
   "base_numbering": 1,
   "nav_menu": {},
   "number_sections": true,
   "sideBar": true,
   "skip_h1_title": false,
   "title_cell": "Table of Contents",
   "title_sidebar": "Contents",
   "toc_cell": false,
   "toc_position": {
    "height": "calc(100% - 180px)",
    "left": "10px",
    "top": "150px",
    "width": "227.25px"
   },
   "toc_section_display": true,
   "toc_window_display": true
  }
 },
 "nbformat": 4,
 "nbformat_minor": 2
}
